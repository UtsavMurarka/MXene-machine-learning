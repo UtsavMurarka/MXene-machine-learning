{
  "nbformat": 4,
  "nbformat_minor": 0,
  "metadata": {
    "colab": {
      "name": "Dimentionality_reduction",
      "provenance": [],
      "collapsed_sections": []
    },
    "kernelspec": {
      "name": "python3",
      "display_name": "Python 3"
    }
  },
  "cells": [
    {
      "cell_type": "code",
      "metadata": {
        "id": "VdBLBkezhrtu",
        "colab_type": "code",
        "colab": {
          "base_uri": "https://localhost:8080/",
          "height": 541
        },
        "outputId": "076e5e43-fc26-4065-a434-5609f9500999"
      },
      "source": [
        "import pandas as pd\n",
        "import numpy as np\n",
        "import math\n",
        "import matplotlib.pyplot as plt\n",
        "from sklearn.model_selection import train_test_split\n",
        "\n",
        "\n",
        "#data=pd.read_csv(\"C:\\\\Users\\\\Utsav\\\\Desktop\\\\Mxene\\\\ML_exp\", sep=',',header=0)\n",
        "\n",
        "url = \"https://raw.githubusercontent.com/UtsavMurarka/MXene-machine-learning/master/data_new.csv\"\n",
        "\n",
        "data=pd.read_csv(url, sep=',',header=0)\n",
        "data"
      ],
      "execution_count": 31,
      "outputs": [
        {
          "output_type": "execute_result",
          "data": {
            "text/html": [
              "<div>\n",
              "<style scoped>\n",
              "    .dataframe tbody tr th:only-of-type {\n",
              "        vertical-align: middle;\n",
              "    }\n",
              "\n",
              "    .dataframe tbody tr th {\n",
              "        vertical-align: top;\n",
              "    }\n",
              "\n",
              "    .dataframe thead th {\n",
              "        text-align: right;\n",
              "    }\n",
              "</style>\n",
              "<table border=\"1\" class=\"dataframe\">\n",
              "  <thead>\n",
              "    <tr style=\"text-align: right;\">\n",
              "      <th></th>\n",
              "      <th>f1</th>\n",
              "      <th>f2</th>\n",
              "      <th>f3</th>\n",
              "      <th>f4</th>\n",
              "      <th>f5</th>\n",
              "      <th>f6</th>\n",
              "      <th>f7</th>\n",
              "      <th>f8</th>\n",
              "      <th>f9</th>\n",
              "      <th>f10</th>\n",
              "      <th>f11</th>\n",
              "      <th>f12</th>\n",
              "      <th>f13</th>\n",
              "      <th>f14</th>\n",
              "      <th>f15</th>\n",
              "      <th>f16</th>\n",
              "      <th>f17</th>\n",
              "      <th>f18</th>\n",
              "      <th>f19</th>\n",
              "      <th>f20</th>\n",
              "      <th>f21</th>\n",
              "      <th>f22</th>\n",
              "      <th>f23</th>\n",
              "      <th>f24</th>\n",
              "      <th>f25</th>\n",
              "      <th>f26</th>\n",
              "      <th>f27</th>\n",
              "      <th>f28</th>\n",
              "      <th>f29</th>\n",
              "      <th>band gap</th>\n",
              "      <th>label</th>\n",
              "    </tr>\n",
              "  </thead>\n",
              "  <tbody>\n",
              "    <tr>\n",
              "      <th>0</th>\n",
              "      <td>3.261006</td>\n",
              "      <td>0.0</td>\n",
              "      <td>0.0</td>\n",
              "      <td>-1.630503</td>\n",
              "      <td>2.824114</td>\n",
              "      <td>0.0</td>\n",
              "      <td>0.000000e+00</td>\n",
              "      <td>1.000000e-16</td>\n",
              "      <td>32.77823</td>\n",
              "      <td>0.333333</td>\n",
              "      <td>0.666667</td>\n",
              "      <td>0.382597</td>\n",
              "      <td>0.666667</td>\n",
              "      <td>0.333333</td>\n",
              "      <td>0.219565</td>\n",
              "      <td>0.000000</td>\n",
              "      <td>0.000000</td>\n",
              "      <td>0.301081</td>\n",
              "      <td>0.333333</td>\n",
              "      <td>0.666667</td>\n",
              "      <td>0.274615</td>\n",
              "      <td>0.666667</td>\n",
              "      <td>0.333333</td>\n",
              "      <td>0.327546</td>\n",
              "      <td>24.0</td>\n",
              "      <td>24.0</td>\n",
              "      <td>6.0</td>\n",
              "      <td>35.0</td>\n",
              "      <td>35.0</td>\n",
              "      <td>0.000</td>\n",
              "      <td>0</td>\n",
              "    </tr>\n",
              "    <tr>\n",
              "      <th>1</th>\n",
              "      <td>3.128723</td>\n",
              "      <td>0.0</td>\n",
              "      <td>0.0</td>\n",
              "      <td>-1.564361</td>\n",
              "      <td>2.709553</td>\n",
              "      <td>0.0</td>\n",
              "      <td>0.000000e+00</td>\n",
              "      <td>-2.000000e-16</td>\n",
              "      <td>35.60857</td>\n",
              "      <td>0.333333</td>\n",
              "      <td>0.666667</td>\n",
              "      <td>0.374045</td>\n",
              "      <td>0.000000</td>\n",
              "      <td>0.000000</td>\n",
              "      <td>0.296135</td>\n",
              "      <td>0.333333</td>\n",
              "      <td>0.666667</td>\n",
              "      <td>0.269526</td>\n",
              "      <td>0.666667</td>\n",
              "      <td>0.333333</td>\n",
              "      <td>0.322062</td>\n",
              "      <td>0.666667</td>\n",
              "      <td>0.333333</td>\n",
              "      <td>0.243635</td>\n",
              "      <td>24.0</td>\n",
              "      <td>24.0</td>\n",
              "      <td>6.0</td>\n",
              "      <td>35.0</td>\n",
              "      <td>1.0</td>\n",
              "      <td>0.000</td>\n",
              "      <td>0</td>\n",
              "    </tr>\n",
              "    <tr>\n",
              "      <th>2</th>\n",
              "      <td>3.242942</td>\n",
              "      <td>0.0</td>\n",
              "      <td>0.0</td>\n",
              "      <td>-1.621471</td>\n",
              "      <td>2.808470</td>\n",
              "      <td>0.0</td>\n",
              "      <td>1.000000e-16</td>\n",
              "      <td>-2.000000e-16</td>\n",
              "      <td>33.14441</td>\n",
              "      <td>0.666667</td>\n",
              "      <td>0.333333</td>\n",
              "      <td>0.219954</td>\n",
              "      <td>0.000000</td>\n",
              "      <td>0.000000</td>\n",
              "      <td>0.301989</td>\n",
              "      <td>0.333333</td>\n",
              "      <td>0.666667</td>\n",
              "      <td>0.379072</td>\n",
              "      <td>0.333333</td>\n",
              "      <td>0.666667</td>\n",
              "      <td>0.273958</td>\n",
              "      <td>0.666667</td>\n",
              "      <td>0.333333</td>\n",
              "      <td>0.330431</td>\n",
              "      <td>24.0</td>\n",
              "      <td>24.0</td>\n",
              "      <td>6.0</td>\n",
              "      <td>17.0</td>\n",
              "      <td>35.0</td>\n",
              "      <td>0.000</td>\n",
              "      <td>0</td>\n",
              "    </tr>\n",
              "    <tr>\n",
              "      <th>3</th>\n",
              "      <td>3.175536</td>\n",
              "      <td>0.0</td>\n",
              "      <td>0.0</td>\n",
              "      <td>-1.587768</td>\n",
              "      <td>2.750095</td>\n",
              "      <td>0.0</td>\n",
              "      <td>0.000000e+00</td>\n",
              "      <td>-1.000000e-16</td>\n",
              "      <td>34.56644</td>\n",
              "      <td>0.000000</td>\n",
              "      <td>0.000000</td>\n",
              "      <td>0.301081</td>\n",
              "      <td>0.333333</td>\n",
              "      <td>0.666667</td>\n",
              "      <td>0.375717</td>\n",
              "      <td>0.666667</td>\n",
              "      <td>0.333333</td>\n",
              "      <td>0.226444</td>\n",
              "      <td>0.333333</td>\n",
              "      <td>0.666667</td>\n",
              "      <td>0.274360</td>\n",
              "      <td>0.666667</td>\n",
              "      <td>0.333333</td>\n",
              "      <td>0.327801</td>\n",
              "      <td>24.0</td>\n",
              "      <td>24.0</td>\n",
              "      <td>6.0</td>\n",
              "      <td>17.0</td>\n",
              "      <td>17.0</td>\n",
              "      <td>0.000</td>\n",
              "      <td>0</td>\n",
              "    </tr>\n",
              "    <tr>\n",
              "      <th>4</th>\n",
              "      <td>3.095383</td>\n",
              "      <td>0.0</td>\n",
              "      <td>0.0</td>\n",
              "      <td>-1.547692</td>\n",
              "      <td>2.680681</td>\n",
              "      <td>0.0</td>\n",
              "      <td>0.000000e+00</td>\n",
              "      <td>2.000000e-16</td>\n",
              "      <td>36.37976</td>\n",
              "      <td>0.000000</td>\n",
              "      <td>0.000000</td>\n",
              "      <td>0.297156</td>\n",
              "      <td>0.333333</td>\n",
              "      <td>0.666667</td>\n",
              "      <td>0.369466</td>\n",
              "      <td>0.333333</td>\n",
              "      <td>0.666667</td>\n",
              "      <td>0.270359</td>\n",
              "      <td>0.666667</td>\n",
              "      <td>0.333333</td>\n",
              "      <td>0.323307</td>\n",
              "      <td>0.666667</td>\n",
              "      <td>0.333333</td>\n",
              "      <td>0.245114</td>\n",
              "      <td>24.0</td>\n",
              "      <td>24.0</td>\n",
              "      <td>6.0</td>\n",
              "      <td>17.0</td>\n",
              "      <td>1.0</td>\n",
              "      <td>0.000</td>\n",
              "      <td>0</td>\n",
              "    </tr>\n",
              "    <tr>\n",
              "      <th>...</th>\n",
              "      <td>...</td>\n",
              "      <td>...</td>\n",
              "      <td>...</td>\n",
              "      <td>...</td>\n",
              "      <td>...</td>\n",
              "      <td>...</td>\n",
              "      <td>...</td>\n",
              "      <td>...</td>\n",
              "      <td>...</td>\n",
              "      <td>...</td>\n",
              "      <td>...</td>\n",
              "      <td>...</td>\n",
              "      <td>...</td>\n",
              "      <td>...</td>\n",
              "      <td>...</td>\n",
              "      <td>...</td>\n",
              "      <td>...</td>\n",
              "      <td>...</td>\n",
              "      <td>...</td>\n",
              "      <td>...</td>\n",
              "      <td>...</td>\n",
              "      <td>...</td>\n",
              "      <td>...</td>\n",
              "      <td>...</td>\n",
              "      <td>...</td>\n",
              "      <td>...</td>\n",
              "      <td>...</td>\n",
              "      <td>...</td>\n",
              "      <td>...</td>\n",
              "      <td>...</td>\n",
              "      <td>...</td>\n",
              "    </tr>\n",
              "    <tr>\n",
              "      <th>3074</th>\n",
              "      <td>3.336980</td>\n",
              "      <td>0.0</td>\n",
              "      <td>0.0</td>\n",
              "      <td>-1.668490</td>\n",
              "      <td>2.889910</td>\n",
              "      <td>0.0</td>\n",
              "      <td>1.000000e-16</td>\n",
              "      <td>3.000000e-16</td>\n",
              "      <td>31.30267</td>\n",
              "      <td>0.666667</td>\n",
              "      <td>0.333333</td>\n",
              "      <td>0.202090</td>\n",
              "      <td>0.000000</td>\n",
              "      <td>0.000000</td>\n",
              "      <td>0.308344</td>\n",
              "      <td>0.333333</td>\n",
              "      <td>0.666667</td>\n",
              "      <td>0.379861</td>\n",
              "      <td>0.333333</td>\n",
              "      <td>0.666667</td>\n",
              "      <td>0.265960</td>\n",
              "      <td>0.666667</td>\n",
              "      <td>0.333333</td>\n",
              "      <td>0.349148</td>\n",
              "      <td>40.0</td>\n",
              "      <td>40.0</td>\n",
              "      <td>7.0</td>\n",
              "      <td>8.0</td>\n",
              "      <td>35.0</td>\n",
              "      <td>0.000</td>\n",
              "      <td>0</td>\n",
              "    </tr>\n",
              "    <tr>\n",
              "      <th>3075</th>\n",
              "      <td>3.307383</td>\n",
              "      <td>0.0</td>\n",
              "      <td>0.0</td>\n",
              "      <td>-1.653691</td>\n",
              "      <td>2.864278</td>\n",
              "      <td>0.0</td>\n",
              "      <td>0.000000e+00</td>\n",
              "      <td>0.000000e+00</td>\n",
              "      <td>31.86542</td>\n",
              "      <td>0.666667</td>\n",
              "      <td>0.333333</td>\n",
              "      <td>0.207793</td>\n",
              "      <td>0.000000</td>\n",
              "      <td>0.000000</td>\n",
              "      <td>0.306937</td>\n",
              "      <td>0.333333</td>\n",
              "      <td>0.666667</td>\n",
              "      <td>0.377970</td>\n",
              "      <td>0.333333</td>\n",
              "      <td>0.666667</td>\n",
              "      <td>0.265295</td>\n",
              "      <td>0.666667</td>\n",
              "      <td>0.333333</td>\n",
              "      <td>0.347409</td>\n",
              "      <td>40.0</td>\n",
              "      <td>40.0</td>\n",
              "      <td>7.0</td>\n",
              "      <td>8.0</td>\n",
              "      <td>17.0</td>\n",
              "      <td>0.000</td>\n",
              "      <td>0</td>\n",
              "    </tr>\n",
              "    <tr>\n",
              "      <th>3076</th>\n",
              "      <td>3.313626</td>\n",
              "      <td>0.0</td>\n",
              "      <td>0.0</td>\n",
              "      <td>-1.656813</td>\n",
              "      <td>2.869684</td>\n",
              "      <td>0.0</td>\n",
              "      <td>0.000000e+00</td>\n",
              "      <td>1.000000e-16</td>\n",
              "      <td>31.74547</td>\n",
              "      <td>0.666667</td>\n",
              "      <td>0.333333</td>\n",
              "      <td>0.220976</td>\n",
              "      <td>0.000000</td>\n",
              "      <td>0.000000</td>\n",
              "      <td>0.302371</td>\n",
              "      <td>0.333333</td>\n",
              "      <td>0.666667</td>\n",
              "      <td>0.374780</td>\n",
              "      <td>0.333333</td>\n",
              "      <td>0.666667</td>\n",
              "      <td>0.263247</td>\n",
              "      <td>0.666667</td>\n",
              "      <td>0.333333</td>\n",
              "      <td>0.344028</td>\n",
              "      <td>40.0</td>\n",
              "      <td>40.0</td>\n",
              "      <td>7.0</td>\n",
              "      <td>8.0</td>\n",
              "      <td>9.0</td>\n",
              "      <td>0.000</td>\n",
              "      <td>0</td>\n",
              "    </tr>\n",
              "    <tr>\n",
              "      <th>3077</th>\n",
              "      <td>3.259244</td>\n",
              "      <td>0.0</td>\n",
              "      <td>0.0</td>\n",
              "      <td>-1.629622</td>\n",
              "      <td>2.822588</td>\n",
              "      <td>0.0</td>\n",
              "      <td>-1.000000e-16</td>\n",
              "      <td>-1.000000e-16</td>\n",
              "      <td>32.81367</td>\n",
              "      <td>0.666667</td>\n",
              "      <td>0.333333</td>\n",
              "      <td>0.230736</td>\n",
              "      <td>0.000000</td>\n",
              "      <td>0.000000</td>\n",
              "      <td>0.301379</td>\n",
              "      <td>0.333333</td>\n",
              "      <td>0.666667</td>\n",
              "      <td>0.371571</td>\n",
              "      <td>0.333333</td>\n",
              "      <td>0.666667</td>\n",
              "      <td>0.260520</td>\n",
              "      <td>0.666667</td>\n",
              "      <td>0.333333</td>\n",
              "      <td>0.341197</td>\n",
              "      <td>40.0</td>\n",
              "      <td>40.0</td>\n",
              "      <td>7.0</td>\n",
              "      <td>8.0</td>\n",
              "      <td>1.0</td>\n",
              "      <td>0.156</td>\n",
              "      <td>1</td>\n",
              "    </tr>\n",
              "    <tr>\n",
              "      <th>3078</th>\n",
              "      <td>3.284108</td>\n",
              "      <td>0.0</td>\n",
              "      <td>0.0</td>\n",
              "      <td>-1.642054</td>\n",
              "      <td>2.844121</td>\n",
              "      <td>0.0</td>\n",
              "      <td>0.000000e+00</td>\n",
              "      <td>-1.000000e-16</td>\n",
              "      <td>32.31870</td>\n",
              "      <td>0.000000</td>\n",
              "      <td>0.000000</td>\n",
              "      <td>0.301081</td>\n",
              "      <td>0.333333</td>\n",
              "      <td>0.666667</td>\n",
              "      <td>0.373610</td>\n",
              "      <td>0.666667</td>\n",
              "      <td>0.333333</td>\n",
              "      <td>0.228551</td>\n",
              "      <td>0.333333</td>\n",
              "      <td>0.666667</td>\n",
              "      <td>0.258992</td>\n",
              "      <td>0.666667</td>\n",
              "      <td>0.333333</td>\n",
              "      <td>0.343169</td>\n",
              "      <td>40.0</td>\n",
              "      <td>40.0</td>\n",
              "      <td>7.0</td>\n",
              "      <td>8.0</td>\n",
              "      <td>8.0</td>\n",
              "      <td>0.000</td>\n",
              "      <td>0</td>\n",
              "    </tr>\n",
              "  </tbody>\n",
              "</table>\n",
              "<p>3079 rows × 31 columns</p>\n",
              "</div>"
            ],
            "text/plain": [
              "            f1   f2   f3        f4        f5  ...  f27   f28   f29  band gap  label\n",
              "0     3.261006  0.0  0.0 -1.630503  2.824114  ...  6.0  35.0  35.0     0.000      0\n",
              "1     3.128723  0.0  0.0 -1.564361  2.709553  ...  6.0  35.0   1.0     0.000      0\n",
              "2     3.242942  0.0  0.0 -1.621471  2.808470  ...  6.0  17.0  35.0     0.000      0\n",
              "3     3.175536  0.0  0.0 -1.587768  2.750095  ...  6.0  17.0  17.0     0.000      0\n",
              "4     3.095383  0.0  0.0 -1.547692  2.680681  ...  6.0  17.0   1.0     0.000      0\n",
              "...        ...  ...  ...       ...       ...  ...  ...   ...   ...       ...    ...\n",
              "3074  3.336980  0.0  0.0 -1.668490  2.889910  ...  7.0   8.0  35.0     0.000      0\n",
              "3075  3.307383  0.0  0.0 -1.653691  2.864278  ...  7.0   8.0  17.0     0.000      0\n",
              "3076  3.313626  0.0  0.0 -1.656813  2.869684  ...  7.0   8.0   9.0     0.000      0\n",
              "3077  3.259244  0.0  0.0 -1.629622  2.822588  ...  7.0   8.0   1.0     0.156      1\n",
              "3078  3.284108  0.0  0.0 -1.642054  2.844121  ...  7.0   8.0   8.0     0.000      0\n",
              "\n",
              "[3079 rows x 31 columns]"
            ]
          },
          "metadata": {
            "tags": []
          },
          "execution_count": 31
        }
      ]
    },
    {
      "cell_type": "code",
      "metadata": {
        "id": "YroAIHUchv83",
        "colab_type": "code",
        "colab": {}
      },
      "source": [
        "mxene=data.values\n",
        "mxene=np.array(mxene)"
      ],
      "execution_count": 0,
      "outputs": []
    },
    {
      "cell_type": "code",
      "metadata": {
        "id": "l0aNQ4Onh3h4",
        "colab_type": "code",
        "colab": {}
      },
      "source": [
        "#split the data\n",
        "\n",
        "train, test = train_test_split(data, test_size=0.2)\n",
        "train=np.array(train)\n",
        "test=np.array(test)"
      ],
      "execution_count": 0,
      "outputs": []
    },
    {
      "cell_type": "code",
      "metadata": {
        "id": "eI4P_7CPh6CY",
        "colab_type": "code",
        "colab": {
          "base_uri": "https://localhost:8080/",
          "height": 68
        },
        "outputId": "6f165e8c-afd6-49fa-f1b5-f19f91dee389"
      },
      "source": [
        "NegativeCount=0\n",
        "PositiveCount=0\n",
        "for i in range(len(train)):\n",
        "    if train[i][30]==0 :\n",
        "        NegativeCount=NegativeCount+1\n",
        "    if train[i][30]==1:\n",
        "        PositiveCount=PositiveCount+1\n",
        "print(NegativeCount)\n",
        "print(PositiveCount)\n",
        "print(PositiveCount+NegativeCount)"
      ],
      "execution_count": 34,
      "outputs": [
        {
          "output_type": "stream",
          "text": [
            "2146\n",
            "317\n",
            "2463\n"
          ],
          "name": "stdout"
        }
      ]
    },
    {
      "cell_type": "code",
      "metadata": {
        "id": "2TqmT-T_h7pc",
        "colab_type": "code",
        "colab": {
          "base_uri": "https://localhost:8080/",
          "height": 51
        },
        "outputId": "07202709-6ee3-488a-c92d-3ccfd20a9847"
      },
      "source": [
        "positives=np.zeros((PositiveCount,31))\n",
        "negatives=np.zeros((NegativeCount,31))\n",
        "    \n",
        "j=0\n",
        "k=0\n",
        "    \n",
        "for i in range(len(train)):\n",
        "\n",
        "    if(train[i,30] == 1):\n",
        "        positives[j,:] = train[i,:]\n",
        "        j=j+1\n",
        "    if(train[i,30] == 0):\n",
        "        negatives[k,:] = train[i,:]\n",
        "        k=k+1\n",
        "\n",
        "print(np.shape(train))\n",
        "print(np.shape(test))"
      ],
      "execution_count": 35,
      "outputs": [
        {
          "output_type": "stream",
          "text": [
            "(2463, 31)\n",
            "(616, 31)\n"
          ],
          "name": "stdout"
        }
      ]
    },
    {
      "cell_type": "code",
      "metadata": {
        "id": "Cxr52EuOiOb6",
        "colab_type": "code",
        "colab": {}
      },
      "source": [
        "y_train=np.zeros(len(train))\n",
        "y_test=np.zeros(len(test))"
      ],
      "execution_count": 0,
      "outputs": []
    },
    {
      "cell_type": "code",
      "metadata": {
        "id": "xgUIHkd-iREN",
        "colab_type": "code",
        "colab": {
          "base_uri": "https://localhost:8080/",
          "height": 374
        },
        "outputId": "e4bb5ba7-9d48-4687-a1e1-bf8c48998907"
      },
      "source": [
        "for i in range(len(test)):\n",
        "    y_test[i]=test[i][30]\n",
        "    test[i][30]=1\n",
        "\n",
        "for i in range(len(train)):\n",
        "    y_train[i]=train[i][30]\n",
        "    train[i][30]=1\n",
        "\n",
        "train = np.delete(train, 30, 1)\n",
        "test = np.delete(test, 30, 1)\n",
        "\n",
        "train = np.delete(train, 29, 1)\n",
        "test = np.delete(test, 29, 1)\n",
        "\n",
        "print(np.shape(train))\n",
        "print(np.shape(test))\n",
        "\n",
        "\n",
        "positives = sum(y_train)\n",
        "negatives = len(y_train) - positives\n",
        "\n",
        "print(\"test\")\n",
        "print(\"positives = %d \\n negatives = %d\" % (positives, negatives))\n",
        "\n",
        "positives = sum(y_test)\n",
        "negatives = len(y_test) - positives\n",
        "\n",
        "print(\"train\")\n",
        "print(\"positives = %d \\n negatives = %d\" % (positives, negatives))\n",
        "\n",
        "print(train)\n"
      ],
      "execution_count": 37,
      "outputs": [
        {
          "output_type": "stream",
          "text": [
            "(2463, 29)\n",
            "(616, 29)\n",
            "test\n",
            "positives = 317 \n",
            " negatives = 2146\n",
            "train\n",
            "positives = 76 \n",
            " negatives = 540\n",
            "[[3.145989e+00 1.000000e-16 0.000000e+00 ... 6.000000e+00 8.000000e+00\n",
            "  1.700000e+01]\n",
            " [3.398861e+00 0.000000e+00 0.000000e+00 ... 7.000000e+00 9.000000e+00\n",
            "  1.700000e+01]\n",
            " [3.316060e+00 0.000000e+00 0.000000e+00 ... 6.000000e+00 1.700000e+01\n",
            "  3.500000e+01]\n",
            " ...\n",
            " [3.220975e+00 0.000000e+00 0.000000e+00 ... 6.000000e+00 1.700000e+01\n",
            "  1.000000e+00]\n",
            " [3.392808e+00 0.000000e+00 0.000000e+00 ... 7.000000e+00 3.500000e+01\n",
            "  3.500000e+01]\n",
            " [3.234884e+00 0.000000e+00 0.000000e+00 ... 7.000000e+00 8.000000e+00\n",
            "  1.000000e+00]]\n"
          ],
          "name": "stdout"
        }
      ]
    },
    {
      "cell_type": "markdown",
      "metadata": {
        "id": "XulKKBtMjdcv",
        "colab_type": "text"
      },
      "source": [
        "# **Principal Component Analysis**"
      ]
    },
    {
      "cell_type": "code",
      "metadata": {
        "id": "q_tCh39liSK1",
        "colab_type": "code",
        "colab": {}
      },
      "source": [
        "from sklearn.metrics import accuracy_score\n",
        "from sklearn.decomposition import PCA"
      ],
      "execution_count": 0,
      "outputs": []
    },
    {
      "cell_type": "code",
      "metadata": {
        "id": "qQYtGSd7iWox",
        "colab_type": "code",
        "colab": {}
      },
      "source": [
        "pca = PCA(n_components=10)"
      ],
      "execution_count": 0,
      "outputs": []
    },
    {
      "cell_type": "code",
      "metadata": {
        "id": "ysFlfRo3iamp",
        "colab_type": "code",
        "colab": {}
      },
      "source": [
        "train_reduced = pca.fit_transform(train)"
      ],
      "execution_count": 0,
      "outputs": []
    },
    {
      "cell_type": "code",
      "metadata": {
        "id": "P0UafznKiqPI",
        "colab_type": "code",
        "colab": {
          "base_uri": "https://localhost:8080/",
          "height": 51
        },
        "outputId": "6400e9a2-9582-4ad2-8280-e4bab5201364"
      },
      "source": [
        "print(np.shape(train))\n",
        "print(np.shape(train_reduced))"
      ],
      "execution_count": 41,
      "outputs": [
        {
          "output_type": "stream",
          "text": [
            "(2463, 29)\n",
            "(2463, 10)\n"
          ],
          "name": "stdout"
        }
      ]
    },
    {
      "cell_type": "code",
      "metadata": {
        "id": "K53ESigFiuW3",
        "colab_type": "code",
        "colab": {}
      },
      "source": [
        "from sklearn.naive_bayes import GaussianNB\n",
        "gnb = GaussianNB()\n",
        "naiveBayes = gnb.fit(train, y_train)\n",
        "y_pred = naiveBayes.predict(test)"
      ],
      "execution_count": 0,
      "outputs": []
    },
    {
      "cell_type": "code",
      "metadata": {
        "id": "q09pESdAjA_B",
        "colab_type": "code",
        "colab": {
          "base_uri": "https://localhost:8080/",
          "height": 34
        },
        "outputId": "029fa8e9-8b5e-47fd-ee97-b55ccfa033f0"
      },
      "source": [
        "print(\"Accuracy = \" + str(100*accuracy_score(y_test, y_pred)) + \"%\")"
      ],
      "execution_count": 43,
      "outputs": [
        {
          "output_type": "stream",
          "text": [
            "Accuracy = 77.75974025974025%\n"
          ],
          "name": "stdout"
        }
      ]
    },
    {
      "cell_type": "code",
      "metadata": {
        "id": "aD1Dk8O2jCd_",
        "colab_type": "code",
        "colab": {}
      },
      "source": [
        "test_reduced = pca.fit_transform(test)\n",
        "gnb = GaussianNB()\n",
        "naiveBayes = gnb.fit(train_reduced, y_train)\n",
        "y_pred = naiveBayes.predict(test_reduced)"
      ],
      "execution_count": 0,
      "outputs": []
    },
    {
      "cell_type": "code",
      "metadata": {
        "id": "JyG-MNBzjGyQ",
        "colab_type": "code",
        "colab": {
          "base_uri": "https://localhost:8080/",
          "height": 34
        },
        "outputId": "2745b2f0-636f-42f8-838e-3d7cb97cd143"
      },
      "source": [
        "print(\"Accuracy = \" + str(100*accuracy_score(y_test, y_pred)) + \"%\")"
      ],
      "execution_count": 45,
      "outputs": [
        {
          "output_type": "stream",
          "text": [
            "Accuracy = 87.5%\n"
          ],
          "name": "stdout"
        }
      ]
    },
    {
      "cell_type": "markdown",
      "metadata": {
        "id": "YS9R74cOjlGv",
        "colab_type": "text"
      },
      "source": [
        "## **Neighborhood Component Analysis**"
      ]
    },
    {
      "cell_type": "code",
      "metadata": {
        "id": "F94G0qhajqbY",
        "colab_type": "code",
        "colab": {}
      },
      "source": [
        "from sklearn.neighbors import NeighborhoodComponentsAnalysis"
      ],
      "execution_count": 0,
      "outputs": []
    },
    {
      "cell_type": "code",
      "metadata": {
        "id": "TJ9sCsOBjwOc",
        "colab_type": "code",
        "colab": {}
      },
      "source": [
        "nca = NeighborhoodComponentsAnalysis(n_components=10)\n",
        "train_reduced_nca = nca.fit_transform(train, y_train)"
      ],
      "execution_count": 0,
      "outputs": []
    },
    {
      "cell_type": "code",
      "metadata": {
        "id": "D-0wmblij9Jv",
        "colab_type": "code",
        "colab": {
          "base_uri": "https://localhost:8080/",
          "height": 51
        },
        "outputId": "5a1eab58-332f-4461-beaa-dd70af195cf9"
      },
      "source": [
        "print(np.shape(train))\n",
        "print(np.shape(train_reduced_nca))"
      ],
      "execution_count": 48,
      "outputs": [
        {
          "output_type": "stream",
          "text": [
            "(2463, 29)\n",
            "(2463, 10)\n"
          ],
          "name": "stdout"
        }
      ]
    },
    {
      "cell_type": "code",
      "metadata": {
        "id": "7TFP4hnlkQsV",
        "colab_type": "code",
        "colab": {}
      },
      "source": [
        "from sklearn.naive_bayes import GaussianNB\n",
        "gnb = GaussianNB()\n",
        "naiveBayes = gnb.fit(train, y_train)\n",
        "y_pred = naiveBayes.predict(test)"
      ],
      "execution_count": 0,
      "outputs": []
    },
    {
      "cell_type": "code",
      "metadata": {
        "id": "lhLjFCO_kfLR",
        "colab_type": "code",
        "colab": {
          "base_uri": "https://localhost:8080/",
          "height": 34
        },
        "outputId": "78aa88d0-96ef-4349-eeca-e05f6ccc155e"
      },
      "source": [
        "print(\"Accuracy = \" + str(100*accuracy_score(y_test, y_pred)) + \"%\")"
      ],
      "execution_count": 50,
      "outputs": [
        {
          "output_type": "stream",
          "text": [
            "Accuracy = 77.75974025974025%\n"
          ],
          "name": "stdout"
        }
      ]
    },
    {
      "cell_type": "code",
      "metadata": {
        "id": "vmOvYl1xkhlI",
        "colab_type": "code",
        "colab": {}
      },
      "source": [
        "test_reduced_nca = nca.transform(test)\n",
        "gnb = GaussianNB()\n",
        "naiveBayes = gnb.fit(train_reduced_nca, y_train)\n",
        "y_pred = naiveBayes.predict(test_reduced_nca)"
      ],
      "execution_count": 0,
      "outputs": []
    },
    {
      "cell_type": "code",
      "metadata": {
        "id": "kGmedj-5k1pJ",
        "colab_type": "code",
        "colab": {
          "base_uri": "https://localhost:8080/",
          "height": 34
        },
        "outputId": "02a492e8-baa5-4530-d2c9-feb75fba3cc0"
      },
      "source": [
        "print(\"Accuracy = \" + str(100*accuracy_score(y_test, y_pred)) + \"%\")"
      ],
      "execution_count": 52,
      "outputs": [
        {
          "output_type": "stream",
          "text": [
            "Accuracy = 86.03896103896103%\n"
          ],
          "name": "stdout"
        }
      ]
    },
    {
      "cell_type": "code",
      "metadata": {
        "id": "OgHDJm28k236",
        "colab_type": "code",
        "colab": {}
      },
      "source": [
        ""
      ],
      "execution_count": 0,
      "outputs": []
    }
  ]
}