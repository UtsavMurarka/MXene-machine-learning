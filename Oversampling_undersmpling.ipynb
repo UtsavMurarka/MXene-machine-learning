{
  "nbformat": 4,
  "nbformat_minor": 0,
  "metadata": {
    "colab": {
      "name": "Oversampling_undersmpling.ipynb",
      "provenance": []
    },
    "kernelspec": {
      "name": "python3",
      "display_name": "Python 3"
    }
  },
  "cells": [
    {
      "cell_type": "code",
      "metadata": {
        "id": "NInmCtVC6HPl",
        "colab_type": "code",
        "outputId": "b277edce-c836-4ecf-c7c2-e9d958e1ca79",
        "colab": {
          "base_uri": "https://localhost:8080/",
          "height": 330
        }
      },
      "source": [
        "import pandas as pd\n",
        "import numpy as np\n",
        "import math\n",
        "import matplotlib.pyplot as plt\n",
        "from sklearn.model_selection import train_test_split\n",
        "\n",
        "\n",
        "#data=pd.read_csv(\"C:\\\\Users\\\\Utsav\\\\Desktop\\\\Mxene\\\\ML_exp\", sep=',',header=0)\n",
        "\n",
        "url = \"https://raw.githubusercontent.com/UtsavMurarka/MXene-machine-learning/master/anant_data_miner/post_midsem_work/data_physical_var_new.csv\"\n",
        "\n",
        "data=pd.read_csv(url, sep=',',header=0)\n",
        "data.head()"
      ],
      "execution_count": 0,
      "outputs": [
        {
          "output_type": "execute_result",
          "data": {
            "text/html": [
              "<div>\n",
              "<style scoped>\n",
              "    .dataframe tbody tr th:only-of-type {\n",
              "        vertical-align: middle;\n",
              "    }\n",
              "\n",
              "    .dataframe tbody tr th {\n",
              "        vertical-align: top;\n",
              "    }\n",
              "\n",
              "    .dataframe thead th {\n",
              "        text-align: right;\n",
              "    }\n",
              "</style>\n",
              "<table border=\"1\" class=\"dataframe\">\n",
              "  <thead>\n",
              "    <tr style=\"text-align: right;\">\n",
              "      <th></th>\n",
              "      <th>f1</th>\n",
              "      <th>f2</th>\n",
              "      <th>f3</th>\n",
              "      <th>f4</th>\n",
              "      <th>f5</th>\n",
              "      <th>f6</th>\n",
              "      <th>f7</th>\n",
              "      <th>f8</th>\n",
              "      <th>f9</th>\n",
              "      <th>f10</th>\n",
              "      <th>f11</th>\n",
              "      <th>f12</th>\n",
              "      <th>f13</th>\n",
              "      <th>f14</th>\n",
              "      <th>f15</th>\n",
              "      <th>f16</th>\n",
              "      <th>f17</th>\n",
              "      <th>f18</th>\n",
              "      <th>f19</th>\n",
              "      <th>f20</th>\n",
              "      <th>f21</th>\n",
              "      <th>f22</th>\n",
              "      <th>f23</th>\n",
              "      <th>f24</th>\n",
              "      <th>f25</th>\n",
              "      <th>f26</th>\n",
              "      <th>f27</th>\n",
              "      <th>f28</th>\n",
              "      <th>f29</th>\n",
              "      <th>bandgap</th>\n",
              "      <th>nn1</th>\n",
              "      <th>nn2</th>\n",
              "      <th>nn3</th>\n",
              "      <th>nn4</th>\n",
              "      <th>nn5</th>\n",
              "      <th>np1</th>\n",
              "      <th>np2</th>\n",
              "      <th>np3</th>\n",
              "      <th>np4</th>\n",
              "      <th>np5</th>\n",
              "      <th>...</th>\n",
              "      <th>shell4</th>\n",
              "      <th>shell5</th>\n",
              "      <th>spheat1</th>\n",
              "      <th>spheat2</th>\n",
              "      <th>spheat3</th>\n",
              "      <th>spheat4</th>\n",
              "      <th>spheat5</th>\n",
              "      <th>mass_ms1</th>\n",
              "      <th>mass_ms2</th>\n",
              "      <th>mass_ms3</th>\n",
              "      <th>mass_ms4</th>\n",
              "      <th>mass_ms5</th>\n",
              "      <th>mol_ms1</th>\n",
              "      <th>mol_ms2</th>\n",
              "      <th>mol_ms3</th>\n",
              "      <th>mol_ms4</th>\n",
              "      <th>mol_ms5</th>\n",
              "      <th>ther_con1</th>\n",
              "      <th>ther_con2</th>\n",
              "      <th>ther_con3</th>\n",
              "      <th>ther_con4</th>\n",
              "      <th>ther_con5</th>\n",
              "      <th>var1</th>\n",
              "      <th>var2</th>\n",
              "      <th>var3</th>\n",
              "      <th>var4</th>\n",
              "      <th>var5</th>\n",
              "      <th>var6</th>\n",
              "      <th>var7</th>\n",
              "      <th>var8</th>\n",
              "      <th>var9</th>\n",
              "      <th>var10</th>\n",
              "      <th>var11</th>\n",
              "      <th>var12</th>\n",
              "      <th>var13</th>\n",
              "      <th>var14</th>\n",
              "      <th>var15</th>\n",
              "      <th>var16</th>\n",
              "      <th>var17</th>\n",
              "      <th>label</th>\n",
              "    </tr>\n",
              "  </thead>\n",
              "  <tbody>\n",
              "    <tr>\n",
              "      <th>0</th>\n",
              "      <td>3.26</td>\n",
              "      <td>0.0</td>\n",
              "      <td>0.0</td>\n",
              "      <td>-1.63</td>\n",
              "      <td>2.82</td>\n",
              "      <td>0.0</td>\n",
              "      <td>0.000000e+00</td>\n",
              "      <td>1.000000e-16</td>\n",
              "      <td>32.8</td>\n",
              "      <td>0.333</td>\n",
              "      <td>0.667</td>\n",
              "      <td>0.383</td>\n",
              "      <td>0.667</td>\n",
              "      <td>0.333</td>\n",
              "      <td>0.220</td>\n",
              "      <td>0.000</td>\n",
              "      <td>0.000</td>\n",
              "      <td>0.301</td>\n",
              "      <td>0.333</td>\n",
              "      <td>0.667</td>\n",
              "      <td>0.275</td>\n",
              "      <td>0.667</td>\n",
              "      <td>0.333</td>\n",
              "      <td>0.328</td>\n",
              "      <td>24.0</td>\n",
              "      <td>24.0</td>\n",
              "      <td>6.0</td>\n",
              "      <td>35.0</td>\n",
              "      <td>35.0</td>\n",
              "      <td>0.0</td>\n",
              "      <td>28</td>\n",
              "      <td>28</td>\n",
              "      <td>6</td>\n",
              "      <td>45</td>\n",
              "      <td>45</td>\n",
              "      <td>24</td>\n",
              "      <td>24</td>\n",
              "      <td>6</td>\n",
              "      <td>35</td>\n",
              "      <td>35</td>\n",
              "      <td>...</td>\n",
              "      <td>4</td>\n",
              "      <td>4</td>\n",
              "      <td>0.449</td>\n",
              "      <td>0.449</td>\n",
              "      <td>0.709</td>\n",
              "      <td>0.474</td>\n",
              "      <td>0.474</td>\n",
              "      <td>44.5</td>\n",
              "      <td>44.5</td>\n",
              "      <td>-6.2</td>\n",
              "      <td>-4.9</td>\n",
              "      <td>-4.9</td>\n",
              "      <td>231.4</td>\n",
              "      <td>231.4</td>\n",
              "      <td>-7.45</td>\n",
              "      <td>-78.3</td>\n",
              "      <td>-78.300</td>\n",
              "      <td>94</td>\n",
              "      <td>94</td>\n",
              "      <td>140.0</td>\n",
              "      <td>0.1200</td>\n",
              "      <td>0.1200</td>\n",
              "      <td>258.3</td>\n",
              "      <td>140.7</td>\n",
              "      <td>140.7</td>\n",
              "      <td>0.8</td>\n",
              "      <td>31.5</td>\n",
              "      <td>0.22962</td>\n",
              "      <td>0.43402</td>\n",
              "      <td>7.145108</td>\n",
              "      <td>5.701870</td>\n",
              "      <td>2381272.203</td>\n",
              "      <td>3122884.800</td>\n",
              "      <td>34.8</td>\n",
              "      <td>0.8</td>\n",
              "      <td>0.012408</td>\n",
              "      <td>745.290</td>\n",
              "      <td>25389.72250</td>\n",
              "      <td>3930.932320</td>\n",
              "      <td>0</td>\n",
              "    </tr>\n",
              "    <tr>\n",
              "      <th>1</th>\n",
              "      <td>3.13</td>\n",
              "      <td>0.0</td>\n",
              "      <td>0.0</td>\n",
              "      <td>-1.56</td>\n",
              "      <td>2.71</td>\n",
              "      <td>0.0</td>\n",
              "      <td>0.000000e+00</td>\n",
              "      <td>-2.000000e-16</td>\n",
              "      <td>35.6</td>\n",
              "      <td>0.333</td>\n",
              "      <td>0.667</td>\n",
              "      <td>0.374</td>\n",
              "      <td>0.000</td>\n",
              "      <td>0.000</td>\n",
              "      <td>0.296</td>\n",
              "      <td>0.333</td>\n",
              "      <td>0.667</td>\n",
              "      <td>0.270</td>\n",
              "      <td>0.667</td>\n",
              "      <td>0.333</td>\n",
              "      <td>0.322</td>\n",
              "      <td>0.667</td>\n",
              "      <td>0.333</td>\n",
              "      <td>0.244</td>\n",
              "      <td>24.0</td>\n",
              "      <td>24.0</td>\n",
              "      <td>6.0</td>\n",
              "      <td>35.0</td>\n",
              "      <td>1.0</td>\n",
              "      <td>0.0</td>\n",
              "      <td>28</td>\n",
              "      <td>28</td>\n",
              "      <td>6</td>\n",
              "      <td>45</td>\n",
              "      <td>0</td>\n",
              "      <td>24</td>\n",
              "      <td>24</td>\n",
              "      <td>6</td>\n",
              "      <td>35</td>\n",
              "      <td>1</td>\n",
              "      <td>...</td>\n",
              "      <td>4</td>\n",
              "      <td>1</td>\n",
              "      <td>0.449</td>\n",
              "      <td>0.449</td>\n",
              "      <td>0.709</td>\n",
              "      <td>0.474</td>\n",
              "      <td>14.304</td>\n",
              "      <td>44.5</td>\n",
              "      <td>44.5</td>\n",
              "      <td>-6.2</td>\n",
              "      <td>-4.9</td>\n",
              "      <td>-24.8</td>\n",
              "      <td>231.4</td>\n",
              "      <td>231.4</td>\n",
              "      <td>-7.45</td>\n",
              "      <td>-78.3</td>\n",
              "      <td>-4.999</td>\n",
              "      <td>94</td>\n",
              "      <td>94</td>\n",
              "      <td>140.0</td>\n",
              "      <td>0.1200</td>\n",
              "      <td>0.1805</td>\n",
              "      <td>334.8</td>\n",
              "      <td>198.5</td>\n",
              "      <td>198.5</td>\n",
              "      <td>2.0</td>\n",
              "      <td>42.7</td>\n",
              "      <td>0.29255</td>\n",
              "      <td>0.32078</td>\n",
              "      <td>9.682327</td>\n",
              "      <td>9.898093</td>\n",
              "      <td>2580607.337</td>\n",
              "      <td>3428851.696</td>\n",
              "      <td>34.8</td>\n",
              "      <td>2.0</td>\n",
              "      <td>38.010333</td>\n",
              "      <td>1018.517</td>\n",
              "      <td>21404.72830</td>\n",
              "      <td>3928.950830</td>\n",
              "      <td>0</td>\n",
              "    </tr>\n",
              "    <tr>\n",
              "      <th>2</th>\n",
              "      <td>3.24</td>\n",
              "      <td>0.0</td>\n",
              "      <td>0.0</td>\n",
              "      <td>-1.62</td>\n",
              "      <td>2.81</td>\n",
              "      <td>0.0</td>\n",
              "      <td>1.000000e-16</td>\n",
              "      <td>-2.000000e-16</td>\n",
              "      <td>33.1</td>\n",
              "      <td>0.667</td>\n",
              "      <td>0.333</td>\n",
              "      <td>0.220</td>\n",
              "      <td>0.000</td>\n",
              "      <td>0.000</td>\n",
              "      <td>0.302</td>\n",
              "      <td>0.333</td>\n",
              "      <td>0.667</td>\n",
              "      <td>0.379</td>\n",
              "      <td>0.333</td>\n",
              "      <td>0.667</td>\n",
              "      <td>0.274</td>\n",
              "      <td>0.667</td>\n",
              "      <td>0.333</td>\n",
              "      <td>0.330</td>\n",
              "      <td>24.0</td>\n",
              "      <td>24.0</td>\n",
              "      <td>6.0</td>\n",
              "      <td>17.0</td>\n",
              "      <td>35.0</td>\n",
              "      <td>0.0</td>\n",
              "      <td>28</td>\n",
              "      <td>28</td>\n",
              "      <td>6</td>\n",
              "      <td>18</td>\n",
              "      <td>45</td>\n",
              "      <td>24</td>\n",
              "      <td>24</td>\n",
              "      <td>6</td>\n",
              "      <td>17</td>\n",
              "      <td>35</td>\n",
              "      <td>...</td>\n",
              "      <td>3</td>\n",
              "      <td>4</td>\n",
              "      <td>0.449</td>\n",
              "      <td>0.449</td>\n",
              "      <td>0.709</td>\n",
              "      <td>0.479</td>\n",
              "      <td>0.474</td>\n",
              "      <td>44.5</td>\n",
              "      <td>44.5</td>\n",
              "      <td>-6.2</td>\n",
              "      <td>-7.2</td>\n",
              "      <td>-4.9</td>\n",
              "      <td>231.4</td>\n",
              "      <td>231.4</td>\n",
              "      <td>-7.45</td>\n",
              "      <td>-51.5</td>\n",
              "      <td>-78.300</td>\n",
              "      <td>94</td>\n",
              "      <td>94</td>\n",
              "      <td>140.0</td>\n",
              "      <td>0.0089</td>\n",
              "      <td>0.1200</td>\n",
              "      <td>207.0</td>\n",
              "      <td>113.7</td>\n",
              "      <td>113.7</td>\n",
              "      <td>0.8</td>\n",
              "      <td>31.5</td>\n",
              "      <td>0.25133</td>\n",
              "      <td>0.50222</td>\n",
              "      <td>8.639936</td>\n",
              "      <td>9.891952</td>\n",
              "      <td>2452493.793</td>\n",
              "      <td>3209994.998</td>\n",
              "      <td>22.0</td>\n",
              "      <td>0.8</td>\n",
              "      <td>0.012320</td>\n",
              "      <td>768.773</td>\n",
              "      <td>23683.50050</td>\n",
              "      <td>3934.574869</td>\n",
              "      <td>0</td>\n",
              "    </tr>\n",
              "    <tr>\n",
              "      <th>3</th>\n",
              "      <td>3.18</td>\n",
              "      <td>0.0</td>\n",
              "      <td>0.0</td>\n",
              "      <td>-1.59</td>\n",
              "      <td>2.75</td>\n",
              "      <td>0.0</td>\n",
              "      <td>0.000000e+00</td>\n",
              "      <td>-1.000000e-16</td>\n",
              "      <td>34.6</td>\n",
              "      <td>0.000</td>\n",
              "      <td>0.000</td>\n",
              "      <td>0.301</td>\n",
              "      <td>0.333</td>\n",
              "      <td>0.667</td>\n",
              "      <td>0.376</td>\n",
              "      <td>0.667</td>\n",
              "      <td>0.333</td>\n",
              "      <td>0.226</td>\n",
              "      <td>0.333</td>\n",
              "      <td>0.667</td>\n",
              "      <td>0.274</td>\n",
              "      <td>0.667</td>\n",
              "      <td>0.333</td>\n",
              "      <td>0.328</td>\n",
              "      <td>24.0</td>\n",
              "      <td>24.0</td>\n",
              "      <td>6.0</td>\n",
              "      <td>17.0</td>\n",
              "      <td>17.0</td>\n",
              "      <td>0.0</td>\n",
              "      <td>28</td>\n",
              "      <td>28</td>\n",
              "      <td>6</td>\n",
              "      <td>18</td>\n",
              "      <td>18</td>\n",
              "      <td>24</td>\n",
              "      <td>24</td>\n",
              "      <td>6</td>\n",
              "      <td>17</td>\n",
              "      <td>17</td>\n",
              "      <td>...</td>\n",
              "      <td>3</td>\n",
              "      <td>3</td>\n",
              "      <td>0.449</td>\n",
              "      <td>0.449</td>\n",
              "      <td>0.709</td>\n",
              "      <td>0.479</td>\n",
              "      <td>0.479</td>\n",
              "      <td>44.5</td>\n",
              "      <td>44.5</td>\n",
              "      <td>-6.2</td>\n",
              "      <td>-7.2</td>\n",
              "      <td>-7.2</td>\n",
              "      <td>231.4</td>\n",
              "      <td>231.4</td>\n",
              "      <td>-7.45</td>\n",
              "      <td>-51.5</td>\n",
              "      <td>-51.500</td>\n",
              "      <td>94</td>\n",
              "      <td>94</td>\n",
              "      <td>140.0</td>\n",
              "      <td>0.0089</td>\n",
              "      <td>0.0089</td>\n",
              "      <td>82.8</td>\n",
              "      <td>54.3</td>\n",
              "      <td>54.3</td>\n",
              "      <td>0.7</td>\n",
              "      <td>31.5</td>\n",
              "      <td>0.27135</td>\n",
              "      <td>0.56642</td>\n",
              "      <td>10.001639</td>\n",
              "      <td>13.110595</td>\n",
              "      <td>2522836.664</td>\n",
              "      <td>3296242.342</td>\n",
              "      <td>2.8</td>\n",
              "      <td>0.7</td>\n",
              "      <td>0.012230</td>\n",
              "      <td>791.727</td>\n",
              "      <td>21905.45450</td>\n",
              "      <td>3938.216184</td>\n",
              "      <td>0</td>\n",
              "    </tr>\n",
              "    <tr>\n",
              "      <th>4</th>\n",
              "      <td>3.10</td>\n",
              "      <td>0.0</td>\n",
              "      <td>0.0</td>\n",
              "      <td>-1.55</td>\n",
              "      <td>2.68</td>\n",
              "      <td>0.0</td>\n",
              "      <td>0.000000e+00</td>\n",
              "      <td>2.000000e-16</td>\n",
              "      <td>36.4</td>\n",
              "      <td>0.000</td>\n",
              "      <td>0.000</td>\n",
              "      <td>0.297</td>\n",
              "      <td>0.333</td>\n",
              "      <td>0.667</td>\n",
              "      <td>0.369</td>\n",
              "      <td>0.333</td>\n",
              "      <td>0.667</td>\n",
              "      <td>0.270</td>\n",
              "      <td>0.667</td>\n",
              "      <td>0.333</td>\n",
              "      <td>0.323</td>\n",
              "      <td>0.667</td>\n",
              "      <td>0.333</td>\n",
              "      <td>0.245</td>\n",
              "      <td>24.0</td>\n",
              "      <td>24.0</td>\n",
              "      <td>6.0</td>\n",
              "      <td>17.0</td>\n",
              "      <td>1.0</td>\n",
              "      <td>0.0</td>\n",
              "      <td>28</td>\n",
              "      <td>28</td>\n",
              "      <td>6</td>\n",
              "      <td>18</td>\n",
              "      <td>0</td>\n",
              "      <td>24</td>\n",
              "      <td>24</td>\n",
              "      <td>6</td>\n",
              "      <td>17</td>\n",
              "      <td>1</td>\n",
              "      <td>...</td>\n",
              "      <td>3</td>\n",
              "      <td>1</td>\n",
              "      <td>0.449</td>\n",
              "      <td>0.449</td>\n",
              "      <td>0.709</td>\n",
              "      <td>0.479</td>\n",
              "      <td>14.304</td>\n",
              "      <td>44.5</td>\n",
              "      <td>44.5</td>\n",
              "      <td>-6.2</td>\n",
              "      <td>-7.2</td>\n",
              "      <td>-24.8</td>\n",
              "      <td>231.4</td>\n",
              "      <td>231.4</td>\n",
              "      <td>-7.45</td>\n",
              "      <td>-51.5</td>\n",
              "      <td>-4.999</td>\n",
              "      <td>94</td>\n",
              "      <td>94</td>\n",
              "      <td>140.0</td>\n",
              "      <td>0.0089</td>\n",
              "      <td>0.1805</td>\n",
              "      <td>162.0</td>\n",
              "      <td>110.3</td>\n",
              "      <td>110.3</td>\n",
              "      <td>1.7</td>\n",
              "      <td>42.7</td>\n",
              "      <td>0.31023</td>\n",
              "      <td>0.40418</td>\n",
              "      <td>10.971248</td>\n",
              "      <td>13.115764</td>\n",
              "      <td>2649467.851</td>\n",
              "      <td>3513066.327</td>\n",
              "      <td>9.2</td>\n",
              "      <td>1.7</td>\n",
              "      <td>38.003330</td>\n",
              "      <td>1037.423</td>\n",
              "      <td>19502.05962</td>\n",
              "      <td>3932.594051</td>\n",
              "      <td>0</td>\n",
              "    </tr>\n",
              "  </tbody>\n",
              "</table>\n",
              "<p>5 rows × 133 columns</p>\n",
              "</div>"
            ],
            "text/plain": [
              "     f1   f2   f3    f4  ...     var15        var16        var17  label\n",
              "0  3.26  0.0  0.0 -1.63  ...   745.290  25389.72250  3930.932320      0\n",
              "1  3.13  0.0  0.0 -1.56  ...  1018.517  21404.72830  3928.950830      0\n",
              "2  3.24  0.0  0.0 -1.62  ...   768.773  23683.50050  3934.574869      0\n",
              "3  3.18  0.0  0.0 -1.59  ...   791.727  21905.45450  3938.216184      0\n",
              "4  3.10  0.0  0.0 -1.55  ...  1037.423  19502.05962  3932.594051      0\n",
              "\n",
              "[5 rows x 133 columns]"
            ]
          },
          "metadata": {
            "tags": []
          },
          "execution_count": 1
        }
      ]
    },
    {
      "cell_type": "code",
      "metadata": {
        "id": "SnYo9pJI6ix0",
        "colab_type": "code",
        "outputId": "087b2313-271c-40a3-e4ae-1b6887cd268f",
        "colab": {
          "base_uri": "https://localhost:8080/",
          "height": 33
        }
      },
      "source": [
        "#drop band gap column\n",
        "data = data.drop('bandgap', axis=1)\n",
        "print(np.shape(data))"
      ],
      "execution_count": 0,
      "outputs": [
        {
          "output_type": "stream",
          "text": [
            "(3079, 132)\n"
          ],
          "name": "stdout"
        }
      ]
    },
    {
      "cell_type": "code",
      "metadata": {
        "id": "wFJOFcGRaLTb",
        "colab_type": "code",
        "outputId": "d854a5c5-ea02-43f4-973b-4c3e641396fe",
        "colab": {
          "base_uri": "https://localhost:8080/",
          "height": 100
        }
      },
      "source": [
        "mxene=data.values\n",
        "mxene=np.array(mxene)\n",
        "#split the data\n",
        "\n",
        "train, test = train_test_split(data, test_size=0.2)\n",
        "train=np.array(train)\n",
        "test=np.array(test)\n",
        "NegativeCount=0\n",
        "PositiveCount=0\n",
        "for i in range(len(train)):\n",
        "    if train[i][131]==0 :\n",
        "        NegativeCount=NegativeCount+1\n",
        "    if train[i][131]==1:\n",
        "        PositiveCount=PositiveCount+1\n",
        "print(NegativeCount)\n",
        "print(PositiveCount)\n",
        "print(PositiveCount+NegativeCount)\n",
        "positives=np.zeros((PositiveCount,132))\n",
        "negatives=np.zeros((NegativeCount,132))\n",
        "    \n",
        "j=0\n",
        "k=0\n",
        "    \n",
        "for i in range(len(train)):\n",
        "\n",
        "    if(train[i,131] == 1):\n",
        "        positives[j,:] = train[i,:]\n",
        "        j=j+1\n",
        "    if(train[i,131] == 0):\n",
        "        negatives[k,:] = train[i,:]\n",
        "        k=k+1\n",
        "\n",
        "print(np.shape(train))\n",
        "print(np.shape(test))"
      ],
      "execution_count": 0,
      "outputs": [
        {
          "output_type": "stream",
          "text": [
            "2142\n",
            "321\n",
            "2463\n",
            "(2463, 132)\n",
            "(616, 132)\n"
          ],
          "name": "stdout"
        }
      ]
    },
    {
      "cell_type": "code",
      "metadata": {
        "id": "9Kv2FUn6aMcs",
        "colab_type": "code",
        "outputId": "0553a443-3d1a-48d6-86b5-1e40d905c607",
        "colab": {
          "base_uri": "https://localhost:8080/",
          "height": 50
        }
      },
      "source": [
        "y_train=np.zeros(len(train))\n",
        "y_test=np.zeros(len(test))\n",
        "\n",
        "for i in range(len(test)):\n",
        "    y_test[i]=test[i][131]\n",
        "    test[i][131]=1\n",
        "\n",
        "for i in range(len(train)):\n",
        "    y_train[i]=train[i][131]\n",
        "    train[i][131]=1\n",
        "\n",
        "train = np.delete(train, 131, 1)\n",
        "test = np.delete(test, 131, 1)\n",
        "\n",
        "train = np.delete(train, 130, 1)\n",
        "test = np.delete(test, 130, 1)\n",
        "\n",
        "print(np.shape(train))\n",
        "print(np.shape(test))"
      ],
      "execution_count": 0,
      "outputs": [
        {
          "output_type": "stream",
          "text": [
            "(2463, 130)\n",
            "(616, 130)\n"
          ],
          "name": "stdout"
        }
      ]
    },
    {
      "cell_type": "code",
      "metadata": {
        "id": "-D60-6WZdtHJ",
        "colab_type": "code",
        "colab": {}
      },
      "source": [
        "from sklearn.preprocessing import StandardScaler\n",
        "scaler = StandardScaler()\n",
        "train = scaler.fit_transform(train)\n",
        "test = scaler.transform(test)"
      ],
      "execution_count": 0,
      "outputs": []
    },
    {
      "cell_type": "code",
      "metadata": {
        "id": "aLNIfPpraN7T",
        "colab_type": "code",
        "outputId": "56a5e058-5435-4641-e7fa-e6a13f01f7be",
        "colab": {
          "base_uri": "https://localhost:8080/",
          "height": 103
        }
      },
      "source": [
        "import imblearn"
      ],
      "execution_count": 0,
      "outputs": [
        {
          "output_type": "stream",
          "text": [
            "/usr/local/lib/python3.6/dist-packages/sklearn/externals/six.py:31: FutureWarning: The module is deprecated in version 0.21 and will be removed in version 0.23 since we've dropped support for Python 2.7. Please rely on the official version of six (https://pypi.org/project/six/).\n",
            "  \"(https://pypi.org/project/six/).\", FutureWarning)\n",
            "/usr/local/lib/python3.6/dist-packages/sklearn/utils/deprecation.py:144: FutureWarning: The sklearn.neighbors.base module is  deprecated in version 0.22 and will be removed in version 0.24. The corresponding classes / functions should instead be imported from sklearn.neighbors. Anything that cannot be imported from sklearn.neighbors is now part of the private API.\n",
            "  warnings.warn(message, FutureWarning)\n"
          ],
          "name": "stderr"
        }
      ]
    },
    {
      "cell_type": "code",
      "metadata": {
        "id": "RkKDfbfybXCe",
        "colab_type": "code",
        "outputId": "88c290bc-8d82-44da-e14b-9d7c9f37a237",
        "colab": {
          "base_uri": "https://localhost:8080/",
          "height": 70
        }
      },
      "source": [
        "from imblearn.over_sampling import SMOTE, ADASYN\n",
        "X_resampled, y_resampled = SMOTE().fit_resample(train, y_train)"
      ],
      "execution_count": 0,
      "outputs": [
        {
          "output_type": "stream",
          "text": [
            "/usr/local/lib/python3.6/dist-packages/sklearn/utils/deprecation.py:87: FutureWarning: Function safe_indexing is deprecated; safe_indexing is deprecated in version 0.22 and will be removed in version 0.24.\n",
            "  warnings.warn(msg, category=FutureWarning)\n"
          ],
          "name": "stderr"
        }
      ]
    },
    {
      "cell_type": "code",
      "metadata": {
        "id": "oLsu1whEbfpr",
        "colab_type": "code",
        "outputId": "286d5e89-c5b1-49b2-9138-eceb62c1fb2e",
        "colab": {
          "base_uri": "https://localhost:8080/",
          "height": 50
        }
      },
      "source": [
        "print(len(X_resampled))\n",
        "print(len(y_resampled))"
      ],
      "execution_count": 0,
      "outputs": [
        {
          "output_type": "stream",
          "text": [
            "4284\n",
            "4284\n"
          ],
          "name": "stdout"
        }
      ]
    },
    {
      "cell_type": "code",
      "metadata": {
        "id": "UofSQPHbcIgr",
        "colab_type": "code",
        "colab": {}
      },
      "source": [
        "from sklearn.ensemble import RandomForestClassifier\n",
        "\n",
        "clf = RandomForestClassifier()\n",
        "clf.fit(X_resampled,y_resampled)\n",
        "y_pred = clf.predict(test)\n"
      ],
      "execution_count": 0,
      "outputs": []
    },
    {
      "cell_type": "code",
      "metadata": {
        "id": "0EZqTjEccNDX",
        "colab_type": "code",
        "outputId": "de813e29-2b80-45c7-83c2-3602a254d091",
        "colab": {
          "base_uri": "https://localhost:8080/",
          "height": 388
        }
      },
      "source": [
        "from sklearn.metrics import accuracy_score\n",
        "from sklearn.metrics import confusion_matrix\n",
        "from sklearn.metrics import roc_curve\n",
        "from sklearn.metrics import roc_auc_score\n",
        "plt.rcParams['figure.figsize'] = [15,15]\n",
        "plt.rcParams['figure.dpi'] = 25\n",
        "\n",
        "print(\"Accuracy = \" + str(100*accuracy_score(y_test, y_pred)) + \"%\")\n",
        "proba = clf.predict_proba(test)\n",
        "proba = proba[:,1]\n",
        "lr_fpr, lr_tpr, _ = roc_curve(y_test, proba)\n",
        "plt.plot(lr_fpr, lr_tpr, marker='.', label='Logistic')\n",
        "plt.xlabel('False Positive Rate', size = 30)\n",
        "plt.ylabel('True Positive Rate', size = 30)\n",
        "plt.show()\n",
        "print(roc_auc_score(y_test, proba))\n",
        "print(confusion_matrix(y_test, y_pred))"
      ],
      "execution_count": 0,
      "outputs": [
        {
          "output_type": "stream",
          "text": [
            "Accuracy = 94.8051948051948%\n"
          ],
          "name": "stdout"
        },
        {
          "output_type": "display_data",
          "data": {
            "image/png": "[encoded data removed]",
            "text/plain": [
              "<Figure size 375x375 with 1 Axes>"
            ]
          },
          "metadata": {
            "tags": [],
            "needs_background": "light"
          }
        },
        {
          "output_type": "stream",
          "text": [
            "0.9615374795751633\n",
            "[[529  15]\n",
            " [ 17  55]]\n"
          ],
          "name": "stdout"
        }
      ]
    },
    {
      "cell_type": "code",
      "metadata": {
        "id": "SlwNEdQt2DHi",
        "colab_type": "code",
        "outputId": "a6650bc0-3c78-4fd1-f1c6-22b94e4d960d",
        "colab": {
          "base_uri": "https://localhost:8080/",
          "height": 70
        }
      },
      "source": [
        "from imblearn.under_sampling import RandomUnderSampler\n",
        "X_resampled, y_resampled = RandomUnderSampler().fit_resample(train, y_train)"
      ],
      "execution_count": 0,
      "outputs": [
        {
          "output_type": "stream",
          "text": [
            "/usr/local/lib/python3.6/dist-packages/sklearn/utils/deprecation.py:87: FutureWarning: Function safe_indexing is deprecated; safe_indexing is deprecated in version 0.22 and will be removed in version 0.24.\n",
            "  warnings.warn(msg, category=FutureWarning)\n"
          ],
          "name": "stderr"
        }
      ]
    },
    {
      "cell_type": "code",
      "metadata": {
        "id": "G2n-K4RN3KCI",
        "colab_type": "code",
        "outputId": "2ad46a1b-2667-4c93-e92b-f884aabf97d2",
        "colab": {
          "base_uri": "https://localhost:8080/",
          "height": 50
        }
      },
      "source": [
        "print(len(X_resampled))\n",
        "print(len(y_resampled))"
      ],
      "execution_count": 0,
      "outputs": [
        {
          "output_type": "stream",
          "text": [
            "642\n",
            "642\n"
          ],
          "name": "stdout"
        }
      ]
    },
    {
      "cell_type": "code",
      "metadata": {
        "id": "viqYGnIY3NPO",
        "colab_type": "code",
        "colab": {}
      },
      "source": [
        "from sklearn.ensemble import RandomForestClassifier\n",
        "\n",
        "clf = RandomForestClassifier()\n",
        "clf.fit(X_resampled,y_resampled)\n",
        "y_pred = clf.predict(test)\n"
      ],
      "execution_count": 0,
      "outputs": []
    },
    {
      "cell_type": "code",
      "metadata": {
        "id": "Kz6h8Gia3QzG",
        "colab_type": "code",
        "outputId": "8907712b-e3d6-4ff6-98c5-71d87306817f",
        "colab": {
          "base_uri": "https://localhost:8080/",
          "height": 388
        }
      },
      "source": [
        "from sklearn.metrics import accuracy_score\n",
        "from sklearn.metrics import confusion_matrix\n",
        "from sklearn.metrics import roc_curve\n",
        "from sklearn.metrics import roc_auc_score\n",
        "plt.rcParams['figure.figsize'] = [15,15]\n",
        "plt.rcParams['figure.dpi'] = 25\n",
        "\n",
        "print(\"Accuracy = \" + str(100*accuracy_score(y_test, y_pred)) + \"%\")\n",
        "proba = clf.predict_proba(test)\n",
        "proba = proba[:,1]\n",
        "lr_fpr, lr_tpr, _ = roc_curve(y_test, proba)\n",
        "plt.plot(lr_fpr, lr_tpr, marker='.', label='Logistic')\n",
        "plt.xlabel('False Positive Rate', size = 30)\n",
        "plt.ylabel('True Positive Rate', size = 30)\n",
        "plt.show()\n",
        "print(roc_auc_score(y_test, proba))\n",
        "print(confusion_matrix(y_test, y_pred))"
      ],
      "execution_count": 0,
      "outputs": [
        {
          "output_type": "stream",
          "text": [
            "Accuracy = 85.06493506493507%\n"
          ],
          "name": "stdout"
        },
        {
          "output_type": "display_data",
          "data": {
            "image/png": "[encoded data removed]",
            "text/plain": [
              "<Figure size 375x375 with 1 Axes>"
            ]
          },
          "metadata": {
            "tags": [],
            "needs_background": "light"
          }
        },
        {
          "output_type": "stream",
          "text": [
            "0.943231719771242\n",
            "[[457  87]\n",
            " [  5  67]]\n"
          ],
          "name": "stdout"
        }
      ]
    },
    {
      "cell_type": "code",
      "metadata": {
        "id": "8xBAIciVdEMx",
        "colab_type": "code",
        "colab": {}
      },
      "source": [
        "from sklearn.preprocessing import StandardScaler\n",
        "scaler = StandardScaler()\n",
        "train_scaled = scaler.fit_transform(X_resampled)"
      ],
      "execution_count": 0,
      "outputs": []
    },
    {
      "cell_type": "code",
      "metadata": {
        "id": "GjtOd6_Rc0Vm",
        "colab_type": "code",
        "colab": {}
      },
      "source": [
        "from sklearn.decomposition import PCA\n",
        "\n",
        "pca = PCA(n_components=2)\n",
        "principalComponents = pca.fit_transform(X_resampled)\n",
        "principalDf = pd.DataFrame(data = principalComponents, columns = ['principal component 1', 'principal component 2'])"
      ],
      "execution_count": 0,
      "outputs": []
    },
    {
      "cell_type": "code",
      "metadata": {
        "id": "KerbtsBndSJp",
        "colab_type": "code",
        "outputId": "278a2d76-8a8b-4b58-cfbd-c5a7ce32d12b",
        "colab": {
          "base_uri": "https://localhost:8080/",
          "height": 197
        }
      },
      "source": [
        "targetDf = pd.DataFrame({'y':y_resampled})\n",
        "targetDf.head()"
      ],
      "execution_count": 0,
      "outputs": [
        {
          "output_type": "execute_result",
          "data": {
            "text/html": [
              "<div>\n",
              "<style scoped>\n",
              "    .dataframe tbody tr th:only-of-type {\n",
              "        vertical-align: middle;\n",
              "    }\n",
              "\n",
              "    .dataframe tbody tr th {\n",
              "        vertical-align: top;\n",
              "    }\n",
              "\n",
              "    .dataframe thead th {\n",
              "        text-align: right;\n",
              "    }\n",
              "</style>\n",
              "<table border=\"1\" class=\"dataframe\">\n",
              "  <thead>\n",
              "    <tr style=\"text-align: right;\">\n",
              "      <th></th>\n",
              "      <th>y</th>\n",
              "    </tr>\n",
              "  </thead>\n",
              "  <tbody>\n",
              "    <tr>\n",
              "      <th>0</th>\n",
              "      <td>0.0</td>\n",
              "    </tr>\n",
              "    <tr>\n",
              "      <th>1</th>\n",
              "      <td>0.0</td>\n",
              "    </tr>\n",
              "    <tr>\n",
              "      <th>2</th>\n",
              "      <td>0.0</td>\n",
              "    </tr>\n",
              "    <tr>\n",
              "      <th>3</th>\n",
              "      <td>0.0</td>\n",
              "    </tr>\n",
              "    <tr>\n",
              "      <th>4</th>\n",
              "      <td>0.0</td>\n",
              "    </tr>\n",
              "  </tbody>\n",
              "</table>\n",
              "</div>"
            ],
            "text/plain": [
              "     y\n",
              "0  0.0\n",
              "1  0.0\n",
              "2  0.0\n",
              "3  0.0\n",
              "4  0.0"
            ]
          },
          "metadata": {
            "tags": []
          },
          "execution_count": 42
        }
      ]
    },
    {
      "cell_type": "code",
      "metadata": {
        "id": "hVbLDg-ldawv",
        "colab_type": "code",
        "outputId": "401bb089-c7a1-452a-a86c-9f504cd95acb",
        "colab": {
          "base_uri": "https://localhost:8080/",
          "height": 197
        }
      },
      "source": [
        "principalDf.head()"
      ],
      "execution_count": 0,
      "outputs": [
        {
          "output_type": "execute_result",
          "data": {
            "text/html": [
              "<div>\n",
              "<style scoped>\n",
              "    .dataframe tbody tr th:only-of-type {\n",
              "        vertical-align: middle;\n",
              "    }\n",
              "\n",
              "    .dataframe tbody tr th {\n",
              "        vertical-align: top;\n",
              "    }\n",
              "\n",
              "    .dataframe thead th {\n",
              "        text-align: right;\n",
              "    }\n",
              "</style>\n",
              "<table border=\"1\" class=\"dataframe\">\n",
              "  <thead>\n",
              "    <tr style=\"text-align: right;\">\n",
              "      <th></th>\n",
              "      <th>principal component 1</th>\n",
              "      <th>principal component 2</th>\n",
              "    </tr>\n",
              "  </thead>\n",
              "  <tbody>\n",
              "    <tr>\n",
              "      <th>0</th>\n",
              "      <td>-6.053629</td>\n",
              "      <td>3.332348</td>\n",
              "    </tr>\n",
              "    <tr>\n",
              "      <th>1</th>\n",
              "      <td>-2.502243</td>\n",
              "      <td>4.949878</td>\n",
              "    </tr>\n",
              "    <tr>\n",
              "      <th>2</th>\n",
              "      <td>0.142637</td>\n",
              "      <td>3.324845</td>\n",
              "    </tr>\n",
              "    <tr>\n",
              "      <th>3</th>\n",
              "      <td>2.047530</td>\n",
              "      <td>-1.572745</td>\n",
              "    </tr>\n",
              "    <tr>\n",
              "      <th>4</th>\n",
              "      <td>-2.223526</td>\n",
              "      <td>-6.031978</td>\n",
              "    </tr>\n",
              "  </tbody>\n",
              "</table>\n",
              "</div>"
            ],
            "text/plain": [
              "   principal component 1  principal component 2\n",
              "0              -6.053629               3.332348\n",
              "1              -2.502243               4.949878\n",
              "2               0.142637               3.324845\n",
              "3               2.047530              -1.572745\n",
              "4              -2.223526              -6.031978"
            ]
          },
          "metadata": {
            "tags": []
          },
          "execution_count": 43
        }
      ]
    },
    {
      "cell_type": "code",
      "metadata": {
        "id": "jHWjYjSUdcIR",
        "colab_type": "code",
        "outputId": "3e737be1-3fde-400f-a200-3c86f3ab1013",
        "colab": {
          "base_uri": "https://localhost:8080/",
          "height": 197
        }
      },
      "source": [
        "finalDf = pd.concat([principalDf, targetDf[['y']]], axis = 1)\n",
        "finalDf.head()"
      ],
      "execution_count": 0,
      "outputs": [
        {
          "output_type": "execute_result",
          "data": {
            "text/html": [
              "<div>\n",
              "<style scoped>\n",
              "    .dataframe tbody tr th:only-of-type {\n",
              "        vertical-align: middle;\n",
              "    }\n",
              "\n",
              "    .dataframe tbody tr th {\n",
              "        vertical-align: top;\n",
              "    }\n",
              "\n",
              "    .dataframe thead th {\n",
              "        text-align: right;\n",
              "    }\n",
              "</style>\n",
              "<table border=\"1\" class=\"dataframe\">\n",
              "  <thead>\n",
              "    <tr style=\"text-align: right;\">\n",
              "      <th></th>\n",
              "      <th>principal component 1</th>\n",
              "      <th>principal component 2</th>\n",
              "      <th>y</th>\n",
              "    </tr>\n",
              "  </thead>\n",
              "  <tbody>\n",
              "    <tr>\n",
              "      <th>0</th>\n",
              "      <td>-6.053629</td>\n",
              "      <td>3.332348</td>\n",
              "      <td>0.0</td>\n",
              "    </tr>\n",
              "    <tr>\n",
              "      <th>1</th>\n",
              "      <td>-2.502243</td>\n",
              "      <td>4.949878</td>\n",
              "      <td>0.0</td>\n",
              "    </tr>\n",
              "    <tr>\n",
              "      <th>2</th>\n",
              "      <td>0.142637</td>\n",
              "      <td>3.324845</td>\n",
              "      <td>0.0</td>\n",
              "    </tr>\n",
              "    <tr>\n",
              "      <th>3</th>\n",
              "      <td>2.047530</td>\n",
              "      <td>-1.572745</td>\n",
              "      <td>0.0</td>\n",
              "    </tr>\n",
              "    <tr>\n",
              "      <th>4</th>\n",
              "      <td>-2.223526</td>\n",
              "      <td>-6.031978</td>\n",
              "      <td>0.0</td>\n",
              "    </tr>\n",
              "  </tbody>\n",
              "</table>\n",
              "</div>"
            ],
            "text/plain": [
              "   principal component 1  principal component 2    y\n",
              "0              -6.053629               3.332348  0.0\n",
              "1              -2.502243               4.949878  0.0\n",
              "2               0.142637               3.324845  0.0\n",
              "3               2.047530              -1.572745  0.0\n",
              "4              -2.223526              -6.031978  0.0"
            ]
          },
          "metadata": {
            "tags": []
          },
          "execution_count": 44
        }
      ]
    },
    {
      "cell_type": "code",
      "metadata": {
        "id": "0k9-5YcMdd3g",
        "colab_type": "code",
        "outputId": "a1f4d63f-00b6-4405-ba29-d58a07044b8e",
        "colab": {
          "base_uri": "https://localhost:8080/",
          "height": 984
        }
      },
      "source": [
        "fig = plt.figure(figsize = (50,50))\n",
        "ax = fig.add_subplot(111) \n",
        "ax.set_xlabel('Principal Component 1', fontsize = 15)\n",
        "ax.set_ylabel('Principal Component 2', fontsize = 15)\n",
        "# ax.set_ylabel('Principal Component 3', fontsize = 15)\n",
        "ax.set_title('2 component PCA', fontsize = 20)\n",
        "targets = [1, 0]\n",
        "colors = ['r', 'b']\n",
        "for target, color in zip(targets,colors):\n",
        "    indicesToKeep = (finalDf['y'] == target)\n",
        "    ax.scatter(finalDf.loc[indicesToKeep, 'principal component 1'],finalDf.loc[indicesToKeep, 'principal component 2'],c = color, s = 50)\n",
        "ax.legend(targets)\n",
        "ax.grid()"
      ],
      "execution_count": 0,
      "outputs": [
        {
          "output_type": "display_data",
          "data": {
            "image/png": "[encoded data removed]",
            "text/plain": [
              "<Figure size 1250x1250 with 1 Axes>"
            ]
          },
          "metadata": {
            "tags": []
          }
        }
      ]
    },
    {
      "cell_type": "code",
      "metadata": {
        "id": "DqHYXHwodfQy",
        "colab_type": "code",
        "colab": {}
      },
      "source": [
        ""
      ],
      "execution_count": 0,
      "outputs": []
    }
  ]
}