{
  "nbformat": 4,
  "nbformat_minor": 0,
  "metadata": {
    "colab": {
      "name": "Dimensionality_reduction",
      "provenance": [],
      "collapsed_sections": []
    },
    "kernelspec": {
      "name": "python3",
      "display_name": "Python 3"
    }
  },
  "cells": [
    {
      "cell_type": "code",
      "metadata": {
        "id": "VdBLBkezhrtu",
        "colab_type": "code",
        "outputId": "f2e8b4f0-e7a8-4964-ce04-c40311af2501",
        "colab": {
          "base_uri": "https://localhost:8080/",
          "height": 541
        }
      },
      "source": [
        "import pandas as pd\n",
        "import numpy as np\n",
        "import math\n",
        "import matplotlib.pyplot as plt\n",
        "from sklearn.model_selection import train_test_split\n",
        "\n",
        "\n",
        "#data=pd.read_csv(\"C:\\\\Users\\\\Utsav\\\\Desktop\\\\Mxene\\\\ML_exp\", sep=',',header=0)\n",
        "\n",
        "url = \"https://raw.githubusercontent.com/UtsavMurarka/MXene-machine-learning/master/data_new.csv\"\n",
        "\n",
        "data=pd.read_csv(url, sep=',',header=0)\n",
        "data"
      ],
      "execution_count": 1,
      "outputs": [
        {
          "output_type": "execute_result",
          "data": {
            "text/html": [
              "<div>\n",
              "<style scoped>\n",
              "    .dataframe tbody tr th:only-of-type {\n",
              "        vertical-align: middle;\n",
              "    }\n",
              "\n",
              "    .dataframe tbody tr th {\n",
              "        vertical-align: top;\n",
              "    }\n",
              "\n",
              "    .dataframe thead th {\n",
              "        text-align: right;\n",
              "    }\n",
              "</style>\n",
              "<table border=\"1\" class=\"dataframe\">\n",
              "  <thead>\n",
              "    <tr style=\"text-align: right;\">\n",
              "      <th></th>\n",
              "      <th>f1</th>\n",
              "      <th>f2</th>\n",
              "      <th>f3</th>\n",
              "      <th>f4</th>\n",
              "      <th>f5</th>\n",
              "      <th>f6</th>\n",
              "      <th>f7</th>\n",
              "      <th>f8</th>\n",
              "      <th>f9</th>\n",
              "      <th>f10</th>\n",
              "      <th>f11</th>\n",
              "      <th>f12</th>\n",
              "      <th>f13</th>\n",
              "      <th>f14</th>\n",
              "      <th>f15</th>\n",
              "      <th>f16</th>\n",
              "      <th>f17</th>\n",
              "      <th>f18</th>\n",
              "      <th>f19</th>\n",
              "      <th>f20</th>\n",
              "      <th>f21</th>\n",
              "      <th>f22</th>\n",
              "      <th>f23</th>\n",
              "      <th>f24</th>\n",
              "      <th>f25</th>\n",
              "      <th>f26</th>\n",
              "      <th>f27</th>\n",
              "      <th>f28</th>\n",
              "      <th>f29</th>\n",
              "      <th>band gap</th>\n",
              "      <th>label</th>\n",
              "    </tr>\n",
              "  </thead>\n",
              "  <tbody>\n",
              "    <tr>\n",
              "      <th>0</th>\n",
              "      <td>3.261006</td>\n",
              "      <td>0.0</td>\n",
              "      <td>0.0</td>\n",
              "      <td>-1.630503</td>\n",
              "      <td>2.824114</td>\n",
              "      <td>0.0</td>\n",
              "      <td>0.000000e+00</td>\n",
              "      <td>1.000000e-16</td>\n",
              "      <td>32.77823</td>\n",
              "      <td>0.333333</td>\n",
              "      <td>0.666667</td>\n",
              "      <td>0.382597</td>\n",
              "      <td>0.666667</td>\n",
              "      <td>0.333333</td>\n",
              "      <td>0.219565</td>\n",
              "      <td>0.000000</td>\n",
              "      <td>0.000000</td>\n",
              "      <td>0.301081</td>\n",
              "      <td>0.333333</td>\n",
              "      <td>0.666667</td>\n",
              "      <td>0.274615</td>\n",
              "      <td>0.666667</td>\n",
              "      <td>0.333333</td>\n",
              "      <td>0.327546</td>\n",
              "      <td>24.0</td>\n",
              "      <td>24.0</td>\n",
              "      <td>6.0</td>\n",
              "      <td>35.0</td>\n",
              "      <td>35.0</td>\n",
              "      <td>0.000</td>\n",
              "      <td>0</td>\n",
              "    </tr>\n",
              "    <tr>\n",
              "      <th>1</th>\n",
              "      <td>3.128723</td>\n",
              "      <td>0.0</td>\n",
              "      <td>0.0</td>\n",
              "      <td>-1.564361</td>\n",
              "      <td>2.709553</td>\n",
              "      <td>0.0</td>\n",
              "      <td>0.000000e+00</td>\n",
              "      <td>-2.000000e-16</td>\n",
              "      <td>35.60857</td>\n",
              "      <td>0.333333</td>\n",
              "      <td>0.666667</td>\n",
              "      <td>0.374045</td>\n",
              "      <td>0.000000</td>\n",
              "      <td>0.000000</td>\n",
              "      <td>0.296135</td>\n",
              "      <td>0.333333</td>\n",
              "      <td>0.666667</td>\n",
              "      <td>0.269526</td>\n",
              "      <td>0.666667</td>\n",
              "      <td>0.333333</td>\n",
              "      <td>0.322062</td>\n",
              "      <td>0.666667</td>\n",
              "      <td>0.333333</td>\n",
              "      <td>0.243635</td>\n",
              "      <td>24.0</td>\n",
              "      <td>24.0</td>\n",
              "      <td>6.0</td>\n",
              "      <td>35.0</td>\n",
              "      <td>1.0</td>\n",
              "      <td>0.000</td>\n",
              "      <td>0</td>\n",
              "    </tr>\n",
              "    <tr>\n",
              "      <th>2</th>\n",
              "      <td>3.242942</td>\n",
              "      <td>0.0</td>\n",
              "      <td>0.0</td>\n",
              "      <td>-1.621471</td>\n",
              "      <td>2.808470</td>\n",
              "      <td>0.0</td>\n",
              "      <td>1.000000e-16</td>\n",
              "      <td>-2.000000e-16</td>\n",
              "      <td>33.14441</td>\n",
              "      <td>0.666667</td>\n",
              "      <td>0.333333</td>\n",
              "      <td>0.219954</td>\n",
              "      <td>0.000000</td>\n",
              "      <td>0.000000</td>\n",
              "      <td>0.301989</td>\n",
              "      <td>0.333333</td>\n",
              "      <td>0.666667</td>\n",
              "      <td>0.379072</td>\n",
              "      <td>0.333333</td>\n",
              "      <td>0.666667</td>\n",
              "      <td>0.273958</td>\n",
              "      <td>0.666667</td>\n",
              "      <td>0.333333</td>\n",
              "      <td>0.330431</td>\n",
              "      <td>24.0</td>\n",
              "      <td>24.0</td>\n",
              "      <td>6.0</td>\n",
              "      <td>17.0</td>\n",
              "      <td>35.0</td>\n",
              "      <td>0.000</td>\n",
              "      <td>0</td>\n",
              "    </tr>\n",
              "    <tr>\n",
              "      <th>3</th>\n",
              "      <td>3.175536</td>\n",
              "      <td>0.0</td>\n",
              "      <td>0.0</td>\n",
              "      <td>-1.587768</td>\n",
              "      <td>2.750095</td>\n",
              "      <td>0.0</td>\n",
              "      <td>0.000000e+00</td>\n",
              "      <td>-1.000000e-16</td>\n",
              "      <td>34.56644</td>\n",
              "      <td>0.000000</td>\n",
              "      <td>0.000000</td>\n",
              "      <td>0.301081</td>\n",
              "      <td>0.333333</td>\n",
              "      <td>0.666667</td>\n",
              "      <td>0.375717</td>\n",
              "      <td>0.666667</td>\n",
              "      <td>0.333333</td>\n",
              "      <td>0.226444</td>\n",
              "      <td>0.333333</td>\n",
              "      <td>0.666667</td>\n",
              "      <td>0.274360</td>\n",
              "      <td>0.666667</td>\n",
              "      <td>0.333333</td>\n",
              "      <td>0.327801</td>\n",
              "      <td>24.0</td>\n",
              "      <td>24.0</td>\n",
              "      <td>6.0</td>\n",
              "      <td>17.0</td>\n",
              "      <td>17.0</td>\n",
              "      <td>0.000</td>\n",
              "      <td>0</td>\n",
              "    </tr>\n",
              "    <tr>\n",
              "      <th>4</th>\n",
              "      <td>3.095383</td>\n",
              "      <td>0.0</td>\n",
              "      <td>0.0</td>\n",
              "      <td>-1.547692</td>\n",
              "      <td>2.680681</td>\n",
              "      <td>0.0</td>\n",
              "      <td>0.000000e+00</td>\n",
              "      <td>2.000000e-16</td>\n",
              "      <td>36.37976</td>\n",
              "      <td>0.000000</td>\n",
              "      <td>0.000000</td>\n",
              "      <td>0.297156</td>\n",
              "      <td>0.333333</td>\n",
              "      <td>0.666667</td>\n",
              "      <td>0.369466</td>\n",
              "      <td>0.333333</td>\n",
              "      <td>0.666667</td>\n",
              "      <td>0.270359</td>\n",
              "      <td>0.666667</td>\n",
              "      <td>0.333333</td>\n",
              "      <td>0.323307</td>\n",
              "      <td>0.666667</td>\n",
              "      <td>0.333333</td>\n",
              "      <td>0.245114</td>\n",
              "      <td>24.0</td>\n",
              "      <td>24.0</td>\n",
              "      <td>6.0</td>\n",
              "      <td>17.0</td>\n",
              "      <td>1.0</td>\n",
              "      <td>0.000</td>\n",
              "      <td>0</td>\n",
              "    </tr>\n",
              "    <tr>\n",
              "      <th>...</th>\n",
              "      <td>...</td>\n",
              "      <td>...</td>\n",
              "      <td>...</td>\n",
              "      <td>...</td>\n",
              "      <td>...</td>\n",
              "      <td>...</td>\n",
              "      <td>...</td>\n",
              "      <td>...</td>\n",
              "      <td>...</td>\n",
              "      <td>...</td>\n",
              "      <td>...</td>\n",
              "      <td>...</td>\n",
              "      <td>...</td>\n",
              "      <td>...</td>\n",
              "      <td>...</td>\n",
              "      <td>...</td>\n",
              "      <td>...</td>\n",
              "      <td>...</td>\n",
              "      <td>...</td>\n",
              "      <td>...</td>\n",
              "      <td>...</td>\n",
              "      <td>...</td>\n",
              "      <td>...</td>\n",
              "      <td>...</td>\n",
              "      <td>...</td>\n",
              "      <td>...</td>\n",
              "      <td>...</td>\n",
              "      <td>...</td>\n",
              "      <td>...</td>\n",
              "      <td>...</td>\n",
              "      <td>...</td>\n",
              "    </tr>\n",
              "    <tr>\n",
              "      <th>3074</th>\n",
              "      <td>3.336980</td>\n",
              "      <td>0.0</td>\n",
              "      <td>0.0</td>\n",
              "      <td>-1.668490</td>\n",
              "      <td>2.889910</td>\n",
              "      <td>0.0</td>\n",
              "      <td>1.000000e-16</td>\n",
              "      <td>3.000000e-16</td>\n",
              "      <td>31.30267</td>\n",
              "      <td>0.666667</td>\n",
              "      <td>0.333333</td>\n",
              "      <td>0.202090</td>\n",
              "      <td>0.000000</td>\n",
              "      <td>0.000000</td>\n",
              "      <td>0.308344</td>\n",
              "      <td>0.333333</td>\n",
              "      <td>0.666667</td>\n",
              "      <td>0.379861</td>\n",
              "      <td>0.333333</td>\n",
              "      <td>0.666667</td>\n",
              "      <td>0.265960</td>\n",
              "      <td>0.666667</td>\n",
              "      <td>0.333333</td>\n",
              "      <td>0.349148</td>\n",
              "      <td>40.0</td>\n",
              "      <td>40.0</td>\n",
              "      <td>7.0</td>\n",
              "      <td>8.0</td>\n",
              "      <td>35.0</td>\n",
              "      <td>0.000</td>\n",
              "      <td>0</td>\n",
              "    </tr>\n",
              "    <tr>\n",
              "      <th>3075</th>\n",
              "      <td>3.307383</td>\n",
              "      <td>0.0</td>\n",
              "      <td>0.0</td>\n",
              "      <td>-1.653691</td>\n",
              "      <td>2.864278</td>\n",
              "      <td>0.0</td>\n",
              "      <td>0.000000e+00</td>\n",
              "      <td>0.000000e+00</td>\n",
              "      <td>31.86542</td>\n",
              "      <td>0.666667</td>\n",
              "      <td>0.333333</td>\n",
              "      <td>0.207793</td>\n",
              "      <td>0.000000</td>\n",
              "      <td>0.000000</td>\n",
              "      <td>0.306937</td>\n",
              "      <td>0.333333</td>\n",
              "      <td>0.666667</td>\n",
              "      <td>0.377970</td>\n",
              "      <td>0.333333</td>\n",
              "      <td>0.666667</td>\n",
              "      <td>0.265295</td>\n",
              "      <td>0.666667</td>\n",
              "      <td>0.333333</td>\n",
              "      <td>0.347409</td>\n",
              "      <td>40.0</td>\n",
              "      <td>40.0</td>\n",
              "      <td>7.0</td>\n",
              "      <td>8.0</td>\n",
              "      <td>17.0</td>\n",
              "      <td>0.000</td>\n",
              "      <td>0</td>\n",
              "    </tr>\n",
              "    <tr>\n",
              "      <th>3076</th>\n",
              "      <td>3.313626</td>\n",
              "      <td>0.0</td>\n",
              "      <td>0.0</td>\n",
              "      <td>-1.656813</td>\n",
              "      <td>2.869684</td>\n",
              "      <td>0.0</td>\n",
              "      <td>0.000000e+00</td>\n",
              "      <td>1.000000e-16</td>\n",
              "      <td>31.74547</td>\n",
              "      <td>0.666667</td>\n",
              "      <td>0.333333</td>\n",
              "      <td>0.220976</td>\n",
              "      <td>0.000000</td>\n",
              "      <td>0.000000</td>\n",
              "      <td>0.302371</td>\n",
              "      <td>0.333333</td>\n",
              "      <td>0.666667</td>\n",
              "      <td>0.374780</td>\n",
              "      <td>0.333333</td>\n",
              "      <td>0.666667</td>\n",
              "      <td>0.263247</td>\n",
              "      <td>0.666667</td>\n",
              "      <td>0.333333</td>\n",
              "      <td>0.344028</td>\n",
              "      <td>40.0</td>\n",
              "      <td>40.0</td>\n",
              "      <td>7.0</td>\n",
              "      <td>8.0</td>\n",
              "      <td>9.0</td>\n",
              "      <td>0.000</td>\n",
              "      <td>0</td>\n",
              "    </tr>\n",
              "    <tr>\n",
              "      <th>3077</th>\n",
              "      <td>3.259244</td>\n",
              "      <td>0.0</td>\n",
              "      <td>0.0</td>\n",
              "      <td>-1.629622</td>\n",
              "      <td>2.822588</td>\n",
              "      <td>0.0</td>\n",
              "      <td>-1.000000e-16</td>\n",
              "      <td>-1.000000e-16</td>\n",
              "      <td>32.81367</td>\n",
              "      <td>0.666667</td>\n",
              "      <td>0.333333</td>\n",
              "      <td>0.230736</td>\n",
              "      <td>0.000000</td>\n",
              "      <td>0.000000</td>\n",
              "      <td>0.301379</td>\n",
              "      <td>0.333333</td>\n",
              "      <td>0.666667</td>\n",
              "      <td>0.371571</td>\n",
              "      <td>0.333333</td>\n",
              "      <td>0.666667</td>\n",
              "      <td>0.260520</td>\n",
              "      <td>0.666667</td>\n",
              "      <td>0.333333</td>\n",
              "      <td>0.341197</td>\n",
              "      <td>40.0</td>\n",
              "      <td>40.0</td>\n",
              "      <td>7.0</td>\n",
              "      <td>8.0</td>\n",
              "      <td>1.0</td>\n",
              "      <td>0.156</td>\n",
              "      <td>1</td>\n",
              "    </tr>\n",
              "    <tr>\n",
              "      <th>3078</th>\n",
              "      <td>3.284108</td>\n",
              "      <td>0.0</td>\n",
              "      <td>0.0</td>\n",
              "      <td>-1.642054</td>\n",
              "      <td>2.844121</td>\n",
              "      <td>0.0</td>\n",
              "      <td>0.000000e+00</td>\n",
              "      <td>-1.000000e-16</td>\n",
              "      <td>32.31870</td>\n",
              "      <td>0.000000</td>\n",
              "      <td>0.000000</td>\n",
              "      <td>0.301081</td>\n",
              "      <td>0.333333</td>\n",
              "      <td>0.666667</td>\n",
              "      <td>0.373610</td>\n",
              "      <td>0.666667</td>\n",
              "      <td>0.333333</td>\n",
              "      <td>0.228551</td>\n",
              "      <td>0.333333</td>\n",
              "      <td>0.666667</td>\n",
              "      <td>0.258992</td>\n",
              "      <td>0.666667</td>\n",
              "      <td>0.333333</td>\n",
              "      <td>0.343169</td>\n",
              "      <td>40.0</td>\n",
              "      <td>40.0</td>\n",
              "      <td>7.0</td>\n",
              "      <td>8.0</td>\n",
              "      <td>8.0</td>\n",
              "      <td>0.000</td>\n",
              "      <td>0</td>\n",
              "    </tr>\n",
              "  </tbody>\n",
              "</table>\n",
              "<p>3079 rows × 31 columns</p>\n",
              "</div>"
            ],
            "text/plain": [
              "            f1   f2   f3        f4        f5  ...  f27   f28   f29  band gap  label\n",
              "0     3.261006  0.0  0.0 -1.630503  2.824114  ...  6.0  35.0  35.0     0.000      0\n",
              "1     3.128723  0.0  0.0 -1.564361  2.709553  ...  6.0  35.0   1.0     0.000      0\n",
              "2     3.242942  0.0  0.0 -1.621471  2.808470  ...  6.0  17.0  35.0     0.000      0\n",
              "3     3.175536  0.0  0.0 -1.587768  2.750095  ...  6.0  17.0  17.0     0.000      0\n",
              "4     3.095383  0.0  0.0 -1.547692  2.680681  ...  6.0  17.0   1.0     0.000      0\n",
              "...        ...  ...  ...       ...       ...  ...  ...   ...   ...       ...    ...\n",
              "3074  3.336980  0.0  0.0 -1.668490  2.889910  ...  7.0   8.0  35.0     0.000      0\n",
              "3075  3.307383  0.0  0.0 -1.653691  2.864278  ...  7.0   8.0  17.0     0.000      0\n",
              "3076  3.313626  0.0  0.0 -1.656813  2.869684  ...  7.0   8.0   9.0     0.000      0\n",
              "3077  3.259244  0.0  0.0 -1.629622  2.822588  ...  7.0   8.0   1.0     0.156      1\n",
              "3078  3.284108  0.0  0.0 -1.642054  2.844121  ...  7.0   8.0   8.0     0.000      0\n",
              "\n",
              "[3079 rows x 31 columns]"
            ]
          },
          "metadata": {
            "tags": []
          },
          "execution_count": 1
        }
      ]
    },
    {
      "cell_type": "code",
      "metadata": {
        "id": "YroAIHUchv83",
        "colab_type": "code",
        "colab": {}
      },
      "source": [
        "mxene=data.values\n",
        "mxene=np.array(mxene)"
      ],
      "execution_count": 0,
      "outputs": []
    },
    {
      "cell_type": "code",
      "metadata": {
        "id": "l0aNQ4Onh3h4",
        "colab_type": "code",
        "colab": {}
      },
      "source": [
        "#split the data\n",
        "\n",
        "train, test = train_test_split(data, test_size=0.2)\n",
        "train=np.array(train)\n",
        "test=np.array(test)"
      ],
      "execution_count": 0,
      "outputs": []
    },
    {
      "cell_type": "code",
      "metadata": {
        "id": "eI4P_7CPh6CY",
        "colab_type": "code",
        "outputId": "ac92adc9-73e2-4bec-fc08-59297166a94f",
        "colab": {
          "base_uri": "https://localhost:8080/",
          "height": 68
        }
      },
      "source": [
        "NegativeCount=0\n",
        "PositiveCount=0\n",
        "for i in range(len(train)):\n",
        "    if train[i][30]==0 :\n",
        "        NegativeCount=NegativeCount+1\n",
        "    if train[i][30]==1:\n",
        "        PositiveCount=PositiveCount+1\n",
        "print(NegativeCount)\n",
        "print(PositiveCount)\n",
        "print(PositiveCount+NegativeCount)"
      ],
      "execution_count": 4,
      "outputs": [
        {
          "output_type": "stream",
          "text": [
            "2134\n",
            "329\n",
            "2463\n"
          ],
          "name": "stdout"
        }
      ]
    },
    {
      "cell_type": "code",
      "metadata": {
        "id": "2TqmT-T_h7pc",
        "colab_type": "code",
        "outputId": "7ebd3c28-890c-4a26-fdf7-51912a62626d",
        "colab": {
          "base_uri": "https://localhost:8080/",
          "height": 51
        }
      },
      "source": [
        "positives=np.zeros((PositiveCount,31))\n",
        "negatives=np.zeros((NegativeCount,31))\n",
        "    \n",
        "j=0\n",
        "k=0\n",
        "    \n",
        "for i in range(len(train)):\n",
        "\n",
        "    if(train[i,30] == 1):\n",
        "        positives[j,:] = train[i,:]\n",
        "        j=j+1\n",
        "    if(train[i,30] == 0):\n",
        "        negatives[k,:] = train[i,:]\n",
        "        k=k+1\n",
        "\n",
        "print(np.shape(train))\n",
        "print(np.shape(test))"
      ],
      "execution_count": 5,
      "outputs": [
        {
          "output_type": "stream",
          "text": [
            "(2463, 31)\n",
            "(616, 31)\n"
          ],
          "name": "stdout"
        }
      ]
    },
    {
      "cell_type": "code",
      "metadata": {
        "id": "Cxr52EuOiOb6",
        "colab_type": "code",
        "colab": {}
      },
      "source": [
        "y_train=np.zeros(len(train))\n",
        "y_test=np.zeros(len(test))"
      ],
      "execution_count": 0,
      "outputs": []
    },
    {
      "cell_type": "code",
      "metadata": {
        "id": "xgUIHkd-iREN",
        "colab_type": "code",
        "outputId": "3b1665d4-ad2c-4431-8de6-ce6ef426e335",
        "colab": {
          "base_uri": "https://localhost:8080/",
          "height": 374
        }
      },
      "source": [
        "for i in range(len(test)):\n",
        "    y_test[i]=test[i][30]\n",
        "    test[i][30]=1\n",
        "\n",
        "for i in range(len(train)):\n",
        "    y_train[i]=train[i][30]\n",
        "    train[i][30]=1\n",
        "\n",
        "train = np.delete(train, 30, 1)\n",
        "test = np.delete(test, 30, 1)\n",
        "\n",
        "train = np.delete(train, 29, 1)\n",
        "test = np.delete(test, 29, 1)\n",
        "\n",
        "print(np.shape(train))\n",
        "print(np.shape(test))\n",
        "\n",
        "\n",
        "positives = sum(y_train)\n",
        "negatives = len(y_train) - positives\n",
        "\n",
        "print(\"test\")\n",
        "print(\"positives = %d \\n negatives = %d\" % (positives, negatives))\n",
        "\n",
        "positives = sum(y_test)\n",
        "negatives = len(y_test) - positives\n",
        "\n",
        "print(\"train\")\n",
        "print(\"positives = %d \\n negatives = %d\" % (positives, negatives))\n",
        "\n",
        "print(train)\n"
      ],
      "execution_count": 7,
      "outputs": [
        {
          "output_type": "stream",
          "text": [
            "(2463, 29)\n",
            "(616, 29)\n",
            "test\n",
            "positives = 329 \n",
            " negatives = 2134\n",
            "train\n",
            "positives = 64 \n",
            " negatives = 552\n",
            "[[ 3.458105e+00 -1.000000e-16  0.000000e+00 ...  7.000000e+00\n",
            "   1.700000e+01  3.500000e+01]\n",
            " [ 3.241299e+00  0.000000e+00  0.000000e+00 ...  6.000000e+00\n",
            "   8.000000e+00  3.500000e+01]\n",
            " [ 3.319159e+00  0.000000e+00  0.000000e+00 ...  7.000000e+00\n",
            "   8.000000e+00  3.500000e+01]\n",
            " ...\n",
            " [ 3.171499e+00  0.000000e+00  0.000000e+00 ...  6.000000e+00\n",
            "   8.000000e+00  3.500000e+01]\n",
            " [ 3.416372e+00  0.000000e+00  0.000000e+00 ...  7.000000e+00\n",
            "   3.500000e+01  3.500000e+01]\n",
            " [ 3.074683e+00 -1.000000e-16 -1.000000e-16 ...  7.000000e+00\n",
            "   8.000000e+00  8.000000e+00]]\n"
          ],
          "name": "stdout"
        }
      ]
    },
    {
      "cell_type": "markdown",
      "metadata": {
        "id": "XulKKBtMjdcv",
        "colab_type": "text"
      },
      "source": [
        "# **Principal Component Analysis**"
      ]
    },
    {
      "cell_type": "code",
      "metadata": {
        "id": "q_tCh39liSK1",
        "colab_type": "code",
        "colab": {}
      },
      "source": [
        "from sklearn.metrics import accuracy_score\n",
        "from sklearn.decomposition import PCA"
      ],
      "execution_count": 0,
      "outputs": []
    },
    {
      "cell_type": "code",
      "metadata": {
        "id": "qQYtGSd7iWox",
        "colab_type": "code",
        "colab": {}
      },
      "source": [
        "pca = PCA(n_components=10)"
      ],
      "execution_count": 0,
      "outputs": []
    },
    {
      "cell_type": "code",
      "metadata": {
        "id": "ysFlfRo3iamp",
        "colab_type": "code",
        "colab": {}
      },
      "source": [
        "train_reduced = pca.fit_transform(train)"
      ],
      "execution_count": 0,
      "outputs": []
    },
    {
      "cell_type": "code",
      "metadata": {
        "id": "8QX2T1E8sVSH",
        "colab_type": "code",
        "outputId": "01b95e93-f733-41e5-b007-447058c6853a",
        "colab": {
          "base_uri": "https://localhost:8080/",
          "height": 1000
        }
      },
      "source": [
        "import seaborn as sns\n",
        "\n",
        "\n",
        "#Plot histograms\n",
        "positives=np.zeros((PositiveCount,10))\n",
        "negatives=np.zeros((NegativeCount,10))\n",
        "    \n",
        "j=0\n",
        "k=0\n",
        "    \n",
        "for i in range(len(train)):\n",
        "\n",
        "    if(y_train[i] == 1):\n",
        "        positives[j,:] = train_reduced[i,:]\n",
        "        j=j+1\n",
        "    if(y_train[i] == 0):\n",
        "        negatives[k,:] = train_reduced[i,:]\n",
        "        k=k+1\n",
        "\n",
        "\n",
        "def plot(ind):\n",
        "  bins=20\n",
        "  clr=['r', 'b']\n",
        "  lbl=['1', '0']\n",
        "  x=[positives[:,ind], negatives[:,ind]]\n",
        "  plt.hist(x, bins, density=True, color=clr, label=lbl)\n",
        "  plt.legend(loc='upper right')\n",
        "  plt.title('Density')\n",
        "  plt.show()\n",
        "  print(\"Mean for positive data = \", np.mean(positives[:,ind]))\n",
        "  print(\"Mean for negative data = \", np.mean(negatives[:,ind]))\n",
        "\n",
        "for i in range(10):\n",
        "  plot(i)\n",
        "\n",
        "\n",
        "  \n",
        "dataset = pd.DataFrame({'C1': train_reduced[:, 0],\n",
        "                        'C2': train_reduced[:, 1],\n",
        "                        'C3': train_reduced[:, 2],\n",
        "                        'C4': train_reduced[:, 3],\n",
        "                        'C5': train_reduced[:, 4],\n",
        "                        'C6': train_reduced[:, 5],\n",
        "                        'C7': train_reduced[:, 6],\n",
        "                        'C8': train_reduced[:, 7],\n",
        "                        'C9': train_reduced[:, 8],\n",
        "                        'C10': train_reduced[:, 9]})\n",
        "corr = dataset.corr()\n",
        "ax = sns.heatmap(\n",
        "    corr, \n",
        "    vmin=-1, vmax=1, center=0,\n",
        "    cmap=sns.diverging_palette(20, 220, n=200),\n",
        "    square=True\n",
        ")\n",
        "ax.set_xticklabels(\n",
        "    ax.get_xticklabels(),\n",
        "    rotation=45,\n",
        "    horizontalalignment='right'\n",
        ");\n",
        "\n",
        "cmap = cmap=sns.diverging_palette(5, 250, as_cmap=True)\n",
        "corr.style.background_gradient(cmap, axis=1)\\\n",
        "    .set_properties(**{'max-width': '80px', 'font-size': '10pt'})\\\n",
        "    .set_caption(\"Correlation Heatmap\")\\\n",
        "    .set_precision(2)\\"
      ],
      "execution_count": 11,
      "outputs": [
        {
          "output_type": "display_data",
          "data": {
            "image/png": "[encoded data removed]",
            "text/plain": [
              "<Figure size 432x288 with 1 Axes>"
            ]
          },
          "metadata": {
            "tags": []
          }
        },
        {
          "output_type": "stream",
          "text": [
            "Mean for positive data =  -2.8300710828632067\n",
            "Mean for negative data =  0.4363136767863175\n"
          ],
          "name": "stdout"
        },
        {
          "output_type": "display_data",
          "data": {
            "image/png": "[encoded data removed]",
            "text/plain": [
              "<Figure size 432x288 with 1 Axes>"
            ]
          },
          "metadata": {
            "tags": []
          }
        },
        {
          "output_type": "stream",
          "text": [
            "Mean for positive data =  -0.9547897862978388\n",
            "Mean for negative data =  0.1472004872033656\n"
          ],
          "name": "stdout"
        },
        {
          "output_type": "display_data",
          "data": {
            "image/png": "[encoded data removed]",
            "text/plain": [
              "<Figure size 432x288 with 1 Axes>"
            ]
          },
          "metadata": {
            "tags": []
          }
        },
        {
          "output_type": "stream",
          "text": [
            "Mean for positive data =  2.4383762362233523\n",
            "Mean for negative data =  -0.37592585834933523\n"
          ],
          "name": "stdout"
        },
        {
          "output_type": "display_data",
          "data": {
            "image/png": "[encoded data removed]",
            "text/plain": [
              "<Figure size 432x288 with 1 Axes>"
            ]
          },
          "metadata": {
            "tags": []
          }
        },
        {
          "output_type": "stream",
          "text": [
            "Mean for positive data =  -1.6395865665859182\n",
            "Mean for negative data =  0.2527759983161979\n"
          ],
          "name": "stdout"
        },
        {
          "output_type": "display_data",
          "data": {
            "image/png": "[encoded data removed]",
            "text/plain": [
              "<Figure size 432x288 with 1 Axes>"
            ]
          },
          "metadata": {
            "tags": []
          }
        },
        {
          "output_type": "stream",
          "text": [
            "Mean for positive data =  -1.1142880997800033\n",
            "Mean for negative data =  0.1717904333775198\n"
          ],
          "name": "stdout"
        },
        {
          "output_type": "display_data",
          "data": {
            "image/png": "[encoded data removed]",
            "text/plain": [
              "<Figure size 432x288 with 1 Axes>"
            ]
          },
          "metadata": {
            "tags": []
          }
        },
        {
          "output_type": "stream",
          "text": [
            "Mean for positive data =  0.09039222429628667\n",
            "Mean for negative data =  -0.01393582089666277\n"
          ],
          "name": "stdout"
        },
        {
          "output_type": "display_data",
          "data": {
            "image/png": "[encoded data removed]",
            "text/plain": [
              "<Figure size 432x288 with 1 Axes>"
            ]
          },
          "metadata": {
            "tags": []
          }
        },
        {
          "output_type": "stream",
          "text": [
            "Mean for positive data =  -0.01845056312671533\n",
            "Mean for negative data =  0.002844533865365219\n"
          ],
          "name": "stdout"
        },
        {
          "output_type": "display_data",
          "data": {
            "image/png": "[encoded data removed]",
            "text/plain": [
              "<Figure size 432x288 with 1 Axes>"
            ]
          },
          "metadata": {
            "tags": []
          }
        },
        {
          "output_type": "stream",
          "text": [
            "Mean for positive data =  0.02992276457845797\n",
            "Mean for negative data =  -0.004613209721796001\n"
          ],
          "name": "stdout"
        },
        {
          "output_type": "display_data",
          "data": {
            "image/png": "[encoded data removed]",
            "text/plain": [
              "<Figure size 432x288 with 1 Axes>"
            ]
          },
          "metadata": {
            "tags": []
          }
        },
        {
          "output_type": "stream",
          "text": [
            "Mean for positive data =  -0.03389240844962955\n",
            "Mean for negative data =  0.005225211986845461\n"
          ],
          "name": "stdout"
        },
        {
          "output_type": "display_data",
          "data": {
            "image/png": "[encoded data removed]",
            "text/plain": [
              "<Figure size 432x288 with 1 Axes>"
            ]
          },
          "metadata": {
            "tags": []
          }
        },
        {
          "output_type": "stream",
          "text": [
            "Mean for positive data =  0.014778717932963238\n",
            "Mean for negative data =  -0.0022784433926640113\n"
          ],
          "name": "stdout"
        },
        {
          "output_type": "execute_result",
          "data": {
            "text/html": [
              "<style  type=\"text/css\" >\n",
              "    #T_ecb1451e_4d60_11ea_a891_0242ac1c0002row0_col0 {\n",
              "            background-color:  #4479bb;\n",
              "            color:  #000000;\n",
              "            max-width:  80px;\n",
              "            font-size:  10pt;\n",
              "        }    #T_ecb1451e_4d60_11ea_a891_0242ac1c0002row0_col1 {\n",
              "            background-color:  #d73c5b;\n",
              "            color:  #f1f1f1;\n",
              "            max-width:  80px;\n",
              "            font-size:  10pt;\n",
              "        }    #T_ecb1451e_4d60_11ea_a891_0242ac1c0002row0_col2 {\n",
              "            background-color:  #d73c5b;\n",
              "            color:  #f1f1f1;\n",
              "            max-width:  80px;\n",
              "            font-size:  10pt;\n",
              "        }    #T_ecb1451e_4d60_11ea_a891_0242ac1c0002row0_col3 {\n",
              "            background-color:  #d73c5b;\n",
              "            color:  #f1f1f1;\n",
              "            max-width:  80px;\n",
              "            font-size:  10pt;\n",
              "        }    #T_ecb1451e_4d60_11ea_a891_0242ac1c0002row0_col4 {\n",
              "            background-color:  #d73c5b;\n",
              "            color:  #f1f1f1;\n",
              "            max-width:  80px;\n",
              "            font-size:  10pt;\n",
              "        }    #T_ecb1451e_4d60_11ea_a891_0242ac1c0002row0_col5 {\n",
              "            background-color:  #d73c5b;\n",
              "            color:  #f1f1f1;\n",
              "            max-width:  80px;\n",
              "            font-size:  10pt;\n",
              "        }    #T_ecb1451e_4d60_11ea_a891_0242ac1c0002row0_col6 {\n",
              "            background-color:  #d73c5b;\n",
              "            color:  #f1f1f1;\n",
              "            max-width:  80px;\n",
              "            font-size:  10pt;\n",
              "        }    #T_ecb1451e_4d60_11ea_a891_0242ac1c0002row0_col7 {\n",
              "            background-color:  #d73c5b;\n",
              "            color:  #f1f1f1;\n",
              "            max-width:  80px;\n",
              "            font-size:  10pt;\n",
              "        }    #T_ecb1451e_4d60_11ea_a891_0242ac1c0002row0_col8 {\n",
              "            background-color:  #d73c5b;\n",
              "            color:  #f1f1f1;\n",
              "            max-width:  80px;\n",
              "            font-size:  10pt;\n",
              "        }    #T_ecb1451e_4d60_11ea_a891_0242ac1c0002row0_col9 {\n",
              "            background-color:  #d73c5b;\n",
              "            color:  #f1f1f1;\n",
              "            max-width:  80px;\n",
              "            font-size:  10pt;\n",
              "        }    #T_ecb1451e_4d60_11ea_a891_0242ac1c0002row1_col0 {\n",
              "            background-color:  #d73c5b;\n",
              "            color:  #f1f1f1;\n",
              "            max-width:  80px;\n",
              "            font-size:  10pt;\n",
              "        }    #T_ecb1451e_4d60_11ea_a891_0242ac1c0002row1_col1 {\n",
              "            background-color:  #4479bb;\n",
              "            color:  #000000;\n",
              "            max-width:  80px;\n",
              "            font-size:  10pt;\n",
              "        }    #T_ecb1451e_4d60_11ea_a891_0242ac1c0002row1_col2 {\n",
              "            background-color:  #d73c5b;\n",
              "            color:  #f1f1f1;\n",
              "            max-width:  80px;\n",
              "            font-size:  10pt;\n",
              "        }    #T_ecb1451e_4d60_11ea_a891_0242ac1c0002row1_col3 {\n",
              "            background-color:  #d73c5b;\n",
              "            color:  #f1f1f1;\n",
              "            max-width:  80px;\n",
              "            font-size:  10pt;\n",
              "        }    #T_ecb1451e_4d60_11ea_a891_0242ac1c0002row1_col4 {\n",
              "            background-color:  #d73c5b;\n",
              "            color:  #f1f1f1;\n",
              "            max-width:  80px;\n",
              "            font-size:  10pt;\n",
              "        }    #T_ecb1451e_4d60_11ea_a891_0242ac1c0002row1_col5 {\n",
              "            background-color:  #d73c5b;\n",
              "            color:  #f1f1f1;\n",
              "            max-width:  80px;\n",
              "            font-size:  10pt;\n",
              "        }    #T_ecb1451e_4d60_11ea_a891_0242ac1c0002row1_col6 {\n",
              "            background-color:  #d73c5b;\n",
              "            color:  #f1f1f1;\n",
              "            max-width:  80px;\n",
              "            font-size:  10pt;\n",
              "        }    #T_ecb1451e_4d60_11ea_a891_0242ac1c0002row1_col7 {\n",
              "            background-color:  #d73c5b;\n",
              "            color:  #f1f1f1;\n",
              "            max-width:  80px;\n",
              "            font-size:  10pt;\n",
              "        }    #T_ecb1451e_4d60_11ea_a891_0242ac1c0002row1_col8 {\n",
              "            background-color:  #d73c5b;\n",
              "            color:  #f1f1f1;\n",
              "            max-width:  80px;\n",
              "            font-size:  10pt;\n",
              "        }    #T_ecb1451e_4d60_11ea_a891_0242ac1c0002row1_col9 {\n",
              "            background-color:  #d73c5b;\n",
              "            color:  #f1f1f1;\n",
              "            max-width:  80px;\n",
              "            font-size:  10pt;\n",
              "        }    #T_ecb1451e_4d60_11ea_a891_0242ac1c0002row2_col0 {\n",
              "            background-color:  #d73c5b;\n",
              "            color:  #f1f1f1;\n",
              "            max-width:  80px;\n",
              "            font-size:  10pt;\n",
              "        }    #T_ecb1451e_4d60_11ea_a891_0242ac1c0002row2_col1 {\n",
              "            background-color:  #d73c5b;\n",
              "            color:  #f1f1f1;\n",
              "            max-width:  80px;\n",
              "            font-size:  10pt;\n",
              "        }    #T_ecb1451e_4d60_11ea_a891_0242ac1c0002row2_col2 {\n",
              "            background-color:  #4479bb;\n",
              "            color:  #000000;\n",
              "            max-width:  80px;\n",
              "            font-size:  10pt;\n",
              "        }    #T_ecb1451e_4d60_11ea_a891_0242ac1c0002row2_col3 {\n",
              "            background-color:  #d73c5b;\n",
              "            color:  #f1f1f1;\n",
              "            max-width:  80px;\n",
              "            font-size:  10pt;\n",
              "        }    #T_ecb1451e_4d60_11ea_a891_0242ac1c0002row2_col4 {\n",
              "            background-color:  #d73c5b;\n",
              "            color:  #f1f1f1;\n",
              "            max-width:  80px;\n",
              "            font-size:  10pt;\n",
              "        }    #T_ecb1451e_4d60_11ea_a891_0242ac1c0002row2_col5 {\n",
              "            background-color:  #d73c5b;\n",
              "            color:  #f1f1f1;\n",
              "            max-width:  80px;\n",
              "            font-size:  10pt;\n",
              "        }    #T_ecb1451e_4d60_11ea_a891_0242ac1c0002row2_col6 {\n",
              "            background-color:  #d73c5b;\n",
              "            color:  #f1f1f1;\n",
              "            max-width:  80px;\n",
              "            font-size:  10pt;\n",
              "        }    #T_ecb1451e_4d60_11ea_a891_0242ac1c0002row2_col7 {\n",
              "            background-color:  #d73c5b;\n",
              "            color:  #f1f1f1;\n",
              "            max-width:  80px;\n",
              "            font-size:  10pt;\n",
              "        }    #T_ecb1451e_4d60_11ea_a891_0242ac1c0002row2_col8 {\n",
              "            background-color:  #d73c5b;\n",
              "            color:  #f1f1f1;\n",
              "            max-width:  80px;\n",
              "            font-size:  10pt;\n",
              "        }    #T_ecb1451e_4d60_11ea_a891_0242ac1c0002row2_col9 {\n",
              "            background-color:  #d73c5b;\n",
              "            color:  #f1f1f1;\n",
              "            max-width:  80px;\n",
              "            font-size:  10pt;\n",
              "        }    #T_ecb1451e_4d60_11ea_a891_0242ac1c0002row3_col0 {\n",
              "            background-color:  #d73c5b;\n",
              "            color:  #f1f1f1;\n",
              "            max-width:  80px;\n",
              "            font-size:  10pt;\n",
              "        }    #T_ecb1451e_4d60_11ea_a891_0242ac1c0002row3_col1 {\n",
              "            background-color:  #d73c5b;\n",
              "            color:  #f1f1f1;\n",
              "            max-width:  80px;\n",
              "            font-size:  10pt;\n",
              "        }    #T_ecb1451e_4d60_11ea_a891_0242ac1c0002row3_col2 {\n",
              "            background-color:  #d73c5b;\n",
              "            color:  #f1f1f1;\n",
              "            max-width:  80px;\n",
              "            font-size:  10pt;\n",
              "        }    #T_ecb1451e_4d60_11ea_a891_0242ac1c0002row3_col3 {\n",
              "            background-color:  #4479bb;\n",
              "            color:  #000000;\n",
              "            max-width:  80px;\n",
              "            font-size:  10pt;\n",
              "        }    #T_ecb1451e_4d60_11ea_a891_0242ac1c0002row3_col4 {\n",
              "            background-color:  #d73c5b;\n",
              "            color:  #f1f1f1;\n",
              "            max-width:  80px;\n",
              "            font-size:  10pt;\n",
              "        }    #T_ecb1451e_4d60_11ea_a891_0242ac1c0002row3_col5 {\n",
              "            background-color:  #d73c5b;\n",
              "            color:  #f1f1f1;\n",
              "            max-width:  80px;\n",
              "            font-size:  10pt;\n",
              "        }    #T_ecb1451e_4d60_11ea_a891_0242ac1c0002row3_col6 {\n",
              "            background-color:  #d73c5b;\n",
              "            color:  #f1f1f1;\n",
              "            max-width:  80px;\n",
              "            font-size:  10pt;\n",
              "        }    #T_ecb1451e_4d60_11ea_a891_0242ac1c0002row3_col7 {\n",
              "            background-color:  #d73c5b;\n",
              "            color:  #f1f1f1;\n",
              "            max-width:  80px;\n",
              "            font-size:  10pt;\n",
              "        }    #T_ecb1451e_4d60_11ea_a891_0242ac1c0002row3_col8 {\n",
              "            background-color:  #d73c5b;\n",
              "            color:  #f1f1f1;\n",
              "            max-width:  80px;\n",
              "            font-size:  10pt;\n",
              "        }    #T_ecb1451e_4d60_11ea_a891_0242ac1c0002row3_col9 {\n",
              "            background-color:  #d73c5b;\n",
              "            color:  #f1f1f1;\n",
              "            max-width:  80px;\n",
              "            font-size:  10pt;\n",
              "        }    #T_ecb1451e_4d60_11ea_a891_0242ac1c0002row4_col0 {\n",
              "            background-color:  #d73c5b;\n",
              "            color:  #f1f1f1;\n",
              "            max-width:  80px;\n",
              "            font-size:  10pt;\n",
              "        }    #T_ecb1451e_4d60_11ea_a891_0242ac1c0002row4_col1 {\n",
              "            background-color:  #d73c5b;\n",
              "            color:  #f1f1f1;\n",
              "            max-width:  80px;\n",
              "            font-size:  10pt;\n",
              "        }    #T_ecb1451e_4d60_11ea_a891_0242ac1c0002row4_col2 {\n",
              "            background-color:  #d73c5b;\n",
              "            color:  #f1f1f1;\n",
              "            max-width:  80px;\n",
              "            font-size:  10pt;\n",
              "        }    #T_ecb1451e_4d60_11ea_a891_0242ac1c0002row4_col3 {\n",
              "            background-color:  #d73c5b;\n",
              "            color:  #f1f1f1;\n",
              "            max-width:  80px;\n",
              "            font-size:  10pt;\n",
              "        }    #T_ecb1451e_4d60_11ea_a891_0242ac1c0002row4_col4 {\n",
              "            background-color:  #4479bb;\n",
              "            color:  #000000;\n",
              "            max-width:  80px;\n",
              "            font-size:  10pt;\n",
              "        }    #T_ecb1451e_4d60_11ea_a891_0242ac1c0002row4_col5 {\n",
              "            background-color:  #d73c5b;\n",
              "            color:  #f1f1f1;\n",
              "            max-width:  80px;\n",
              "            font-size:  10pt;\n",
              "        }    #T_ecb1451e_4d60_11ea_a891_0242ac1c0002row4_col6 {\n",
              "            background-color:  #d73c5b;\n",
              "            color:  #f1f1f1;\n",
              "            max-width:  80px;\n",
              "            font-size:  10pt;\n",
              "        }    #T_ecb1451e_4d60_11ea_a891_0242ac1c0002row4_col7 {\n",
              "            background-color:  #d73c5b;\n",
              "            color:  #f1f1f1;\n",
              "            max-width:  80px;\n",
              "            font-size:  10pt;\n",
              "        }    #T_ecb1451e_4d60_11ea_a891_0242ac1c0002row4_col8 {\n",
              "            background-color:  #d73c5b;\n",
              "            color:  #f1f1f1;\n",
              "            max-width:  80px;\n",
              "            font-size:  10pt;\n",
              "        }    #T_ecb1451e_4d60_11ea_a891_0242ac1c0002row4_col9 {\n",
              "            background-color:  #d73c5b;\n",
              "            color:  #f1f1f1;\n",
              "            max-width:  80px;\n",
              "            font-size:  10pt;\n",
              "        }    #T_ecb1451e_4d60_11ea_a891_0242ac1c0002row5_col0 {\n",
              "            background-color:  #d73c5b;\n",
              "            color:  #f1f1f1;\n",
              "            max-width:  80px;\n",
              "            font-size:  10pt;\n",
              "        }    #T_ecb1451e_4d60_11ea_a891_0242ac1c0002row5_col1 {\n",
              "            background-color:  #d73c5b;\n",
              "            color:  #f1f1f1;\n",
              "            max-width:  80px;\n",
              "            font-size:  10pt;\n",
              "        }    #T_ecb1451e_4d60_11ea_a891_0242ac1c0002row5_col2 {\n",
              "            background-color:  #d73c5b;\n",
              "            color:  #f1f1f1;\n",
              "            max-width:  80px;\n",
              "            font-size:  10pt;\n",
              "        }    #T_ecb1451e_4d60_11ea_a891_0242ac1c0002row5_col3 {\n",
              "            background-color:  #d73c5b;\n",
              "            color:  #f1f1f1;\n",
              "            max-width:  80px;\n",
              "            font-size:  10pt;\n",
              "        }    #T_ecb1451e_4d60_11ea_a891_0242ac1c0002row5_col4 {\n",
              "            background-color:  #d73c5b;\n",
              "            color:  #f1f1f1;\n",
              "            max-width:  80px;\n",
              "            font-size:  10pt;\n",
              "        }    #T_ecb1451e_4d60_11ea_a891_0242ac1c0002row5_col5 {\n",
              "            background-color:  #4479bb;\n",
              "            color:  #000000;\n",
              "            max-width:  80px;\n",
              "            font-size:  10pt;\n",
              "        }    #T_ecb1451e_4d60_11ea_a891_0242ac1c0002row5_col6 {\n",
              "            background-color:  #d73c5b;\n",
              "            color:  #f1f1f1;\n",
              "            max-width:  80px;\n",
              "            font-size:  10pt;\n",
              "        }    #T_ecb1451e_4d60_11ea_a891_0242ac1c0002row5_col7 {\n",
              "            background-color:  #d73c5b;\n",
              "            color:  #f1f1f1;\n",
              "            max-width:  80px;\n",
              "            font-size:  10pt;\n",
              "        }    #T_ecb1451e_4d60_11ea_a891_0242ac1c0002row5_col8 {\n",
              "            background-color:  #d73c5b;\n",
              "            color:  #f1f1f1;\n",
              "            max-width:  80px;\n",
              "            font-size:  10pt;\n",
              "        }    #T_ecb1451e_4d60_11ea_a891_0242ac1c0002row5_col9 {\n",
              "            background-color:  #d73c5b;\n",
              "            color:  #f1f1f1;\n",
              "            max-width:  80px;\n",
              "            font-size:  10pt;\n",
              "        }    #T_ecb1451e_4d60_11ea_a891_0242ac1c0002row6_col0 {\n",
              "            background-color:  #d73c5b;\n",
              "            color:  #f1f1f1;\n",
              "            max-width:  80px;\n",
              "            font-size:  10pt;\n",
              "        }    #T_ecb1451e_4d60_11ea_a891_0242ac1c0002row6_col1 {\n",
              "            background-color:  #d73c5b;\n",
              "            color:  #f1f1f1;\n",
              "            max-width:  80px;\n",
              "            font-size:  10pt;\n",
              "        }    #T_ecb1451e_4d60_11ea_a891_0242ac1c0002row6_col2 {\n",
              "            background-color:  #d73c5b;\n",
              "            color:  #f1f1f1;\n",
              "            max-width:  80px;\n",
              "            font-size:  10pt;\n",
              "        }    #T_ecb1451e_4d60_11ea_a891_0242ac1c0002row6_col3 {\n",
              "            background-color:  #d73c5b;\n",
              "            color:  #f1f1f1;\n",
              "            max-width:  80px;\n",
              "            font-size:  10pt;\n",
              "        }    #T_ecb1451e_4d60_11ea_a891_0242ac1c0002row6_col4 {\n",
              "            background-color:  #d73c5b;\n",
              "            color:  #f1f1f1;\n",
              "            max-width:  80px;\n",
              "            font-size:  10pt;\n",
              "        }    #T_ecb1451e_4d60_11ea_a891_0242ac1c0002row6_col5 {\n",
              "            background-color:  #d73c5b;\n",
              "            color:  #f1f1f1;\n",
              "            max-width:  80px;\n",
              "            font-size:  10pt;\n",
              "        }    #T_ecb1451e_4d60_11ea_a891_0242ac1c0002row6_col6 {\n",
              "            background-color:  #4479bb;\n",
              "            color:  #000000;\n",
              "            max-width:  80px;\n",
              "            font-size:  10pt;\n",
              "        }    #T_ecb1451e_4d60_11ea_a891_0242ac1c0002row6_col7 {\n",
              "            background-color:  #d73c5b;\n",
              "            color:  #f1f1f1;\n",
              "            max-width:  80px;\n",
              "            font-size:  10pt;\n",
              "        }    #T_ecb1451e_4d60_11ea_a891_0242ac1c0002row6_col8 {\n",
              "            background-color:  #d73c5b;\n",
              "            color:  #f1f1f1;\n",
              "            max-width:  80px;\n",
              "            font-size:  10pt;\n",
              "        }    #T_ecb1451e_4d60_11ea_a891_0242ac1c0002row6_col9 {\n",
              "            background-color:  #d73c5b;\n",
              "            color:  #f1f1f1;\n",
              "            max-width:  80px;\n",
              "            font-size:  10pt;\n",
              "        }    #T_ecb1451e_4d60_11ea_a891_0242ac1c0002row7_col0 {\n",
              "            background-color:  #d73c5b;\n",
              "            color:  #f1f1f1;\n",
              "            max-width:  80px;\n",
              "            font-size:  10pt;\n",
              "        }    #T_ecb1451e_4d60_11ea_a891_0242ac1c0002row7_col1 {\n",
              "            background-color:  #d73c5b;\n",
              "            color:  #f1f1f1;\n",
              "            max-width:  80px;\n",
              "            font-size:  10pt;\n",
              "        }    #T_ecb1451e_4d60_11ea_a891_0242ac1c0002row7_col2 {\n",
              "            background-color:  #d73c5b;\n",
              "            color:  #f1f1f1;\n",
              "            max-width:  80px;\n",
              "            font-size:  10pt;\n",
              "        }    #T_ecb1451e_4d60_11ea_a891_0242ac1c0002row7_col3 {\n",
              "            background-color:  #d73c5b;\n",
              "            color:  #f1f1f1;\n",
              "            max-width:  80px;\n",
              "            font-size:  10pt;\n",
              "        }    #T_ecb1451e_4d60_11ea_a891_0242ac1c0002row7_col4 {\n",
              "            background-color:  #d73c5b;\n",
              "            color:  #f1f1f1;\n",
              "            max-width:  80px;\n",
              "            font-size:  10pt;\n",
              "        }    #T_ecb1451e_4d60_11ea_a891_0242ac1c0002row7_col5 {\n",
              "            background-color:  #d73c5b;\n",
              "            color:  #f1f1f1;\n",
              "            max-width:  80px;\n",
              "            font-size:  10pt;\n",
              "        }    #T_ecb1451e_4d60_11ea_a891_0242ac1c0002row7_col6 {\n",
              "            background-color:  #d73c5b;\n",
              "            color:  #f1f1f1;\n",
              "            max-width:  80px;\n",
              "            font-size:  10pt;\n",
              "        }    #T_ecb1451e_4d60_11ea_a891_0242ac1c0002row7_col7 {\n",
              "            background-color:  #4479bb;\n",
              "            color:  #000000;\n",
              "            max-width:  80px;\n",
              "            font-size:  10pt;\n",
              "        }    #T_ecb1451e_4d60_11ea_a891_0242ac1c0002row7_col8 {\n",
              "            background-color:  #d73c5b;\n",
              "            color:  #f1f1f1;\n",
              "            max-width:  80px;\n",
              "            font-size:  10pt;\n",
              "        }    #T_ecb1451e_4d60_11ea_a891_0242ac1c0002row7_col9 {\n",
              "            background-color:  #d73c5b;\n",
              "            color:  #f1f1f1;\n",
              "            max-width:  80px;\n",
              "            font-size:  10pt;\n",
              "        }    #T_ecb1451e_4d60_11ea_a891_0242ac1c0002row8_col0 {\n",
              "            background-color:  #d73c5b;\n",
              "            color:  #f1f1f1;\n",
              "            max-width:  80px;\n",
              "            font-size:  10pt;\n",
              "        }    #T_ecb1451e_4d60_11ea_a891_0242ac1c0002row8_col1 {\n",
              "            background-color:  #d73c5b;\n",
              "            color:  #f1f1f1;\n",
              "            max-width:  80px;\n",
              "            font-size:  10pt;\n",
              "        }    #T_ecb1451e_4d60_11ea_a891_0242ac1c0002row8_col2 {\n",
              "            background-color:  #d73c5b;\n",
              "            color:  #f1f1f1;\n",
              "            max-width:  80px;\n",
              "            font-size:  10pt;\n",
              "        }    #T_ecb1451e_4d60_11ea_a891_0242ac1c0002row8_col3 {\n",
              "            background-color:  #d73c5b;\n",
              "            color:  #f1f1f1;\n",
              "            max-width:  80px;\n",
              "            font-size:  10pt;\n",
              "        }    #T_ecb1451e_4d60_11ea_a891_0242ac1c0002row8_col4 {\n",
              "            background-color:  #d73c5b;\n",
              "            color:  #f1f1f1;\n",
              "            max-width:  80px;\n",
              "            font-size:  10pt;\n",
              "        }    #T_ecb1451e_4d60_11ea_a891_0242ac1c0002row8_col5 {\n",
              "            background-color:  #d73c5b;\n",
              "            color:  #f1f1f1;\n",
              "            max-width:  80px;\n",
              "            font-size:  10pt;\n",
              "        }    #T_ecb1451e_4d60_11ea_a891_0242ac1c0002row8_col6 {\n",
              "            background-color:  #d73c5b;\n",
              "            color:  #f1f1f1;\n",
              "            max-width:  80px;\n",
              "            font-size:  10pt;\n",
              "        }    #T_ecb1451e_4d60_11ea_a891_0242ac1c0002row8_col7 {\n",
              "            background-color:  #d73c5b;\n",
              "            color:  #f1f1f1;\n",
              "            max-width:  80px;\n",
              "            font-size:  10pt;\n",
              "        }    #T_ecb1451e_4d60_11ea_a891_0242ac1c0002row8_col8 {\n",
              "            background-color:  #4479bb;\n",
              "            color:  #000000;\n",
              "            max-width:  80px;\n",
              "            font-size:  10pt;\n",
              "        }    #T_ecb1451e_4d60_11ea_a891_0242ac1c0002row8_col9 {\n",
              "            background-color:  #d73c5b;\n",
              "            color:  #f1f1f1;\n",
              "            max-width:  80px;\n",
              "            font-size:  10pt;\n",
              "        }    #T_ecb1451e_4d60_11ea_a891_0242ac1c0002row9_col0 {\n",
              "            background-color:  #d73c5b;\n",
              "            color:  #f1f1f1;\n",
              "            max-width:  80px;\n",
              "            font-size:  10pt;\n",
              "        }    #T_ecb1451e_4d60_11ea_a891_0242ac1c0002row9_col1 {\n",
              "            background-color:  #d73c5b;\n",
              "            color:  #f1f1f1;\n",
              "            max-width:  80px;\n",
              "            font-size:  10pt;\n",
              "        }    #T_ecb1451e_4d60_11ea_a891_0242ac1c0002row9_col2 {\n",
              "            background-color:  #d73c5b;\n",
              "            color:  #f1f1f1;\n",
              "            max-width:  80px;\n",
              "            font-size:  10pt;\n",
              "        }    #T_ecb1451e_4d60_11ea_a891_0242ac1c0002row9_col3 {\n",
              "            background-color:  #d73c5b;\n",
              "            color:  #f1f1f1;\n",
              "            max-width:  80px;\n",
              "            font-size:  10pt;\n",
              "        }    #T_ecb1451e_4d60_11ea_a891_0242ac1c0002row9_col4 {\n",
              "            background-color:  #d73c5b;\n",
              "            color:  #f1f1f1;\n",
              "            max-width:  80px;\n",
              "            font-size:  10pt;\n",
              "        }    #T_ecb1451e_4d60_11ea_a891_0242ac1c0002row9_col5 {\n",
              "            background-color:  #d73c5b;\n",
              "            color:  #f1f1f1;\n",
              "            max-width:  80px;\n",
              "            font-size:  10pt;\n",
              "        }    #T_ecb1451e_4d60_11ea_a891_0242ac1c0002row9_col6 {\n",
              "            background-color:  #d73c5b;\n",
              "            color:  #f1f1f1;\n",
              "            max-width:  80px;\n",
              "            font-size:  10pt;\n",
              "        }    #T_ecb1451e_4d60_11ea_a891_0242ac1c0002row9_col7 {\n",
              "            background-color:  #d73c5b;\n",
              "            color:  #f1f1f1;\n",
              "            max-width:  80px;\n",
              "            font-size:  10pt;\n",
              "        }    #T_ecb1451e_4d60_11ea_a891_0242ac1c0002row9_col8 {\n",
              "            background-color:  #d73c5b;\n",
              "            color:  #f1f1f1;\n",
              "            max-width:  80px;\n",
              "            font-size:  10pt;\n",
              "        }    #T_ecb1451e_4d60_11ea_a891_0242ac1c0002row9_col9 {\n",
              "            background-color:  #4479bb;\n",
              "            color:  #000000;\n",
              "            max-width:  80px;\n",
              "            font-size:  10pt;\n",
              "        }</style><table id=\"T_ecb1451e_4d60_11ea_a891_0242ac1c0002\" ><caption>Correlation Heatmap</caption><thead>    <tr>        <th class=\"blank level0\" ></th>        <th class=\"col_heading level0 col0\" >C1</th>        <th class=\"col_heading level0 col1\" >C2</th>        <th class=\"col_heading level0 col2\" >C3</th>        <th class=\"col_heading level0 col3\" >C4</th>        <th class=\"col_heading level0 col4\" >C5</th>        <th class=\"col_heading level0 col5\" >C6</th>        <th class=\"col_heading level0 col6\" >C7</th>        <th class=\"col_heading level0 col7\" >C8</th>        <th class=\"col_heading level0 col8\" >C9</th>        <th class=\"col_heading level0 col9\" >C10</th>    </tr></thead><tbody>\n",
              "                <tr>\n",
              "                        <th id=\"T_ecb1451e_4d60_11ea_a891_0242ac1c0002level0_row0\" class=\"row_heading level0 row0\" >C1</th>\n",
              "                        <td id=\"T_ecb1451e_4d60_11ea_a891_0242ac1c0002row0_col0\" class=\"data row0 col0\" >1</td>\n",
              "                        <td id=\"T_ecb1451e_4d60_11ea_a891_0242ac1c0002row0_col1\" class=\"data row0 col1\" >9.1e-17</td>\n",
              "                        <td id=\"T_ecb1451e_4d60_11ea_a891_0242ac1c0002row0_col2\" class=\"data row0 col2\" >1.8e-16</td>\n",
              "                        <td id=\"T_ecb1451e_4d60_11ea_a891_0242ac1c0002row0_col3\" class=\"data row0 col3\" >2.7e-17</td>\n",
              "                        <td id=\"T_ecb1451e_4d60_11ea_a891_0242ac1c0002row0_col4\" class=\"data row0 col4\" >3.1e-17</td>\n",
              "                        <td id=\"T_ecb1451e_4d60_11ea_a891_0242ac1c0002row0_col5\" class=\"data row0 col5\" >-4.8e-17</td>\n",
              "                        <td id=\"T_ecb1451e_4d60_11ea_a891_0242ac1c0002row0_col6\" class=\"data row0 col6\" >7.1e-18</td>\n",
              "                        <td id=\"T_ecb1451e_4d60_11ea_a891_0242ac1c0002row0_col7\" class=\"data row0 col7\" >8.6e-18</td>\n",
              "                        <td id=\"T_ecb1451e_4d60_11ea_a891_0242ac1c0002row0_col8\" class=\"data row0 col8\" >4.5e-18</td>\n",
              "                        <td id=\"T_ecb1451e_4d60_11ea_a891_0242ac1c0002row0_col9\" class=\"data row0 col9\" >3.5e-17</td>\n",
              "            </tr>\n",
              "            <tr>\n",
              "                        <th id=\"T_ecb1451e_4d60_11ea_a891_0242ac1c0002level0_row1\" class=\"row_heading level0 row1\" >C2</th>\n",
              "                        <td id=\"T_ecb1451e_4d60_11ea_a891_0242ac1c0002row1_col0\" class=\"data row1 col0\" >9.1e-17</td>\n",
              "                        <td id=\"T_ecb1451e_4d60_11ea_a891_0242ac1c0002row1_col1\" class=\"data row1 col1\" >1</td>\n",
              "                        <td id=\"T_ecb1451e_4d60_11ea_a891_0242ac1c0002row1_col2\" class=\"data row1 col2\" >-8.8e-18</td>\n",
              "                        <td id=\"T_ecb1451e_4d60_11ea_a891_0242ac1c0002row1_col3\" class=\"data row1 col3\" >1.9e-18</td>\n",
              "                        <td id=\"T_ecb1451e_4d60_11ea_a891_0242ac1c0002row1_col4\" class=\"data row1 col4\" >2.4e-17</td>\n",
              "                        <td id=\"T_ecb1451e_4d60_11ea_a891_0242ac1c0002row1_col5\" class=\"data row1 col5\" >-1.2e-17</td>\n",
              "                        <td id=\"T_ecb1451e_4d60_11ea_a891_0242ac1c0002row1_col6\" class=\"data row1 col6\" >3.1e-18</td>\n",
              "                        <td id=\"T_ecb1451e_4d60_11ea_a891_0242ac1c0002row1_col7\" class=\"data row1 col7\" >1.9e-17</td>\n",
              "                        <td id=\"T_ecb1451e_4d60_11ea_a891_0242ac1c0002row1_col8\" class=\"data row1 col8\" >3.8e-17</td>\n",
              "                        <td id=\"T_ecb1451e_4d60_11ea_a891_0242ac1c0002row1_col9\" class=\"data row1 col9\" >-2.3e-17</td>\n",
              "            </tr>\n",
              "            <tr>\n",
              "                        <th id=\"T_ecb1451e_4d60_11ea_a891_0242ac1c0002level0_row2\" class=\"row_heading level0 row2\" >C3</th>\n",
              "                        <td id=\"T_ecb1451e_4d60_11ea_a891_0242ac1c0002row2_col0\" class=\"data row2 col0\" >1.8e-16</td>\n",
              "                        <td id=\"T_ecb1451e_4d60_11ea_a891_0242ac1c0002row2_col1\" class=\"data row2 col1\" >-8.8e-18</td>\n",
              "                        <td id=\"T_ecb1451e_4d60_11ea_a891_0242ac1c0002row2_col2\" class=\"data row2 col2\" >1</td>\n",
              "                        <td id=\"T_ecb1451e_4d60_11ea_a891_0242ac1c0002row2_col3\" class=\"data row2 col3\" >4e-17</td>\n",
              "                        <td id=\"T_ecb1451e_4d60_11ea_a891_0242ac1c0002row2_col4\" class=\"data row2 col4\" >2.8e-18</td>\n",
              "                        <td id=\"T_ecb1451e_4d60_11ea_a891_0242ac1c0002row2_col5\" class=\"data row2 col5\" >-3.1e-17</td>\n",
              "                        <td id=\"T_ecb1451e_4d60_11ea_a891_0242ac1c0002row2_col6\" class=\"data row2 col6\" >-1.6e-17</td>\n",
              "                        <td id=\"T_ecb1451e_4d60_11ea_a891_0242ac1c0002row2_col7\" class=\"data row2 col7\" >-2.2e-17</td>\n",
              "                        <td id=\"T_ecb1451e_4d60_11ea_a891_0242ac1c0002row2_col8\" class=\"data row2 col8\" >-1.6e-17</td>\n",
              "                        <td id=\"T_ecb1451e_4d60_11ea_a891_0242ac1c0002row2_col9\" class=\"data row2 col9\" >-6.1e-18</td>\n",
              "            </tr>\n",
              "            <tr>\n",
              "                        <th id=\"T_ecb1451e_4d60_11ea_a891_0242ac1c0002level0_row3\" class=\"row_heading level0 row3\" >C4</th>\n",
              "                        <td id=\"T_ecb1451e_4d60_11ea_a891_0242ac1c0002row3_col0\" class=\"data row3 col0\" >2.7e-17</td>\n",
              "                        <td id=\"T_ecb1451e_4d60_11ea_a891_0242ac1c0002row3_col1\" class=\"data row3 col1\" >1.9e-18</td>\n",
              "                        <td id=\"T_ecb1451e_4d60_11ea_a891_0242ac1c0002row3_col2\" class=\"data row3 col2\" >4e-17</td>\n",
              "                        <td id=\"T_ecb1451e_4d60_11ea_a891_0242ac1c0002row3_col3\" class=\"data row3 col3\" >1</td>\n",
              "                        <td id=\"T_ecb1451e_4d60_11ea_a891_0242ac1c0002row3_col4\" class=\"data row3 col4\" >-2.1e-17</td>\n",
              "                        <td id=\"T_ecb1451e_4d60_11ea_a891_0242ac1c0002row3_col5\" class=\"data row3 col5\" >-1.5e-17</td>\n",
              "                        <td id=\"T_ecb1451e_4d60_11ea_a891_0242ac1c0002row3_col6\" class=\"data row3 col6\" >-5.2e-17</td>\n",
              "                        <td id=\"T_ecb1451e_4d60_11ea_a891_0242ac1c0002row3_col7\" class=\"data row3 col7\" >3.7e-17</td>\n",
              "                        <td id=\"T_ecb1451e_4d60_11ea_a891_0242ac1c0002row3_col8\" class=\"data row3 col8\" >-8.5e-18</td>\n",
              "                        <td id=\"T_ecb1451e_4d60_11ea_a891_0242ac1c0002row3_col9\" class=\"data row3 col9\" >1.7e-17</td>\n",
              "            </tr>\n",
              "            <tr>\n",
              "                        <th id=\"T_ecb1451e_4d60_11ea_a891_0242ac1c0002level0_row4\" class=\"row_heading level0 row4\" >C5</th>\n",
              "                        <td id=\"T_ecb1451e_4d60_11ea_a891_0242ac1c0002row4_col0\" class=\"data row4 col0\" >3.1e-17</td>\n",
              "                        <td id=\"T_ecb1451e_4d60_11ea_a891_0242ac1c0002row4_col1\" class=\"data row4 col1\" >2.4e-17</td>\n",
              "                        <td id=\"T_ecb1451e_4d60_11ea_a891_0242ac1c0002row4_col2\" class=\"data row4 col2\" >2.8e-18</td>\n",
              "                        <td id=\"T_ecb1451e_4d60_11ea_a891_0242ac1c0002row4_col3\" class=\"data row4 col3\" >-2.1e-17</td>\n",
              "                        <td id=\"T_ecb1451e_4d60_11ea_a891_0242ac1c0002row4_col4\" class=\"data row4 col4\" >1</td>\n",
              "                        <td id=\"T_ecb1451e_4d60_11ea_a891_0242ac1c0002row4_col5\" class=\"data row4 col5\" >-4.2e-17</td>\n",
              "                        <td id=\"T_ecb1451e_4d60_11ea_a891_0242ac1c0002row4_col6\" class=\"data row4 col6\" >6.8e-17</td>\n",
              "                        <td id=\"T_ecb1451e_4d60_11ea_a891_0242ac1c0002row4_col7\" class=\"data row4 col7\" >1.2e-17</td>\n",
              "                        <td id=\"T_ecb1451e_4d60_11ea_a891_0242ac1c0002row4_col8\" class=\"data row4 col8\" >2.2e-18</td>\n",
              "                        <td id=\"T_ecb1451e_4d60_11ea_a891_0242ac1c0002row4_col9\" class=\"data row4 col9\" >3.7e-17</td>\n",
              "            </tr>\n",
              "            <tr>\n",
              "                        <th id=\"T_ecb1451e_4d60_11ea_a891_0242ac1c0002level0_row5\" class=\"row_heading level0 row5\" >C6</th>\n",
              "                        <td id=\"T_ecb1451e_4d60_11ea_a891_0242ac1c0002row5_col0\" class=\"data row5 col0\" >-4.8e-17</td>\n",
              "                        <td id=\"T_ecb1451e_4d60_11ea_a891_0242ac1c0002row5_col1\" class=\"data row5 col1\" >-1.2e-17</td>\n",
              "                        <td id=\"T_ecb1451e_4d60_11ea_a891_0242ac1c0002row5_col2\" class=\"data row5 col2\" >-3.1e-17</td>\n",
              "                        <td id=\"T_ecb1451e_4d60_11ea_a891_0242ac1c0002row5_col3\" class=\"data row5 col3\" >-1.5e-17</td>\n",
              "                        <td id=\"T_ecb1451e_4d60_11ea_a891_0242ac1c0002row5_col4\" class=\"data row5 col4\" >-4.2e-17</td>\n",
              "                        <td id=\"T_ecb1451e_4d60_11ea_a891_0242ac1c0002row5_col5\" class=\"data row5 col5\" >1</td>\n",
              "                        <td id=\"T_ecb1451e_4d60_11ea_a891_0242ac1c0002row5_col6\" class=\"data row5 col6\" >5.4e-17</td>\n",
              "                        <td id=\"T_ecb1451e_4d60_11ea_a891_0242ac1c0002row5_col7\" class=\"data row5 col7\" >2.5e-18</td>\n",
              "                        <td id=\"T_ecb1451e_4d60_11ea_a891_0242ac1c0002row5_col8\" class=\"data row5 col8\" >3.6e-17</td>\n",
              "                        <td id=\"T_ecb1451e_4d60_11ea_a891_0242ac1c0002row5_col9\" class=\"data row5 col9\" >-1.7e-17</td>\n",
              "            </tr>\n",
              "            <tr>\n",
              "                        <th id=\"T_ecb1451e_4d60_11ea_a891_0242ac1c0002level0_row6\" class=\"row_heading level0 row6\" >C7</th>\n",
              "                        <td id=\"T_ecb1451e_4d60_11ea_a891_0242ac1c0002row6_col0\" class=\"data row6 col0\" >7.1e-18</td>\n",
              "                        <td id=\"T_ecb1451e_4d60_11ea_a891_0242ac1c0002row6_col1\" class=\"data row6 col1\" >3.1e-18</td>\n",
              "                        <td id=\"T_ecb1451e_4d60_11ea_a891_0242ac1c0002row6_col2\" class=\"data row6 col2\" >-1.6e-17</td>\n",
              "                        <td id=\"T_ecb1451e_4d60_11ea_a891_0242ac1c0002row6_col3\" class=\"data row6 col3\" >-5.2e-17</td>\n",
              "                        <td id=\"T_ecb1451e_4d60_11ea_a891_0242ac1c0002row6_col4\" class=\"data row6 col4\" >6.8e-17</td>\n",
              "                        <td id=\"T_ecb1451e_4d60_11ea_a891_0242ac1c0002row6_col5\" class=\"data row6 col5\" >5.4e-17</td>\n",
              "                        <td id=\"T_ecb1451e_4d60_11ea_a891_0242ac1c0002row6_col6\" class=\"data row6 col6\" >1</td>\n",
              "                        <td id=\"T_ecb1451e_4d60_11ea_a891_0242ac1c0002row6_col7\" class=\"data row6 col7\" >-5.9e-17</td>\n",
              "                        <td id=\"T_ecb1451e_4d60_11ea_a891_0242ac1c0002row6_col8\" class=\"data row6 col8\" >3.6e-17</td>\n",
              "                        <td id=\"T_ecb1451e_4d60_11ea_a891_0242ac1c0002row6_col9\" class=\"data row6 col9\" >-2.3e-18</td>\n",
              "            </tr>\n",
              "            <tr>\n",
              "                        <th id=\"T_ecb1451e_4d60_11ea_a891_0242ac1c0002level0_row7\" class=\"row_heading level0 row7\" >C8</th>\n",
              "                        <td id=\"T_ecb1451e_4d60_11ea_a891_0242ac1c0002row7_col0\" class=\"data row7 col0\" >8.6e-18</td>\n",
              "                        <td id=\"T_ecb1451e_4d60_11ea_a891_0242ac1c0002row7_col1\" class=\"data row7 col1\" >1.9e-17</td>\n",
              "                        <td id=\"T_ecb1451e_4d60_11ea_a891_0242ac1c0002row7_col2\" class=\"data row7 col2\" >-2.2e-17</td>\n",
              "                        <td id=\"T_ecb1451e_4d60_11ea_a891_0242ac1c0002row7_col3\" class=\"data row7 col3\" >3.7e-17</td>\n",
              "                        <td id=\"T_ecb1451e_4d60_11ea_a891_0242ac1c0002row7_col4\" class=\"data row7 col4\" >1.2e-17</td>\n",
              "                        <td id=\"T_ecb1451e_4d60_11ea_a891_0242ac1c0002row7_col5\" class=\"data row7 col5\" >2.5e-18</td>\n",
              "                        <td id=\"T_ecb1451e_4d60_11ea_a891_0242ac1c0002row7_col6\" class=\"data row7 col6\" >-5.9e-17</td>\n",
              "                        <td id=\"T_ecb1451e_4d60_11ea_a891_0242ac1c0002row7_col7\" class=\"data row7 col7\" >1</td>\n",
              "                        <td id=\"T_ecb1451e_4d60_11ea_a891_0242ac1c0002row7_col8\" class=\"data row7 col8\" >-9.1e-17</td>\n",
              "                        <td id=\"T_ecb1451e_4d60_11ea_a891_0242ac1c0002row7_col9\" class=\"data row7 col9\" >1.6e-16</td>\n",
              "            </tr>\n",
              "            <tr>\n",
              "                        <th id=\"T_ecb1451e_4d60_11ea_a891_0242ac1c0002level0_row8\" class=\"row_heading level0 row8\" >C9</th>\n",
              "                        <td id=\"T_ecb1451e_4d60_11ea_a891_0242ac1c0002row8_col0\" class=\"data row8 col0\" >4.5e-18</td>\n",
              "                        <td id=\"T_ecb1451e_4d60_11ea_a891_0242ac1c0002row8_col1\" class=\"data row8 col1\" >3.8e-17</td>\n",
              "                        <td id=\"T_ecb1451e_4d60_11ea_a891_0242ac1c0002row8_col2\" class=\"data row8 col2\" >-1.6e-17</td>\n",
              "                        <td id=\"T_ecb1451e_4d60_11ea_a891_0242ac1c0002row8_col3\" class=\"data row8 col3\" >-8.5e-18</td>\n",
              "                        <td id=\"T_ecb1451e_4d60_11ea_a891_0242ac1c0002row8_col4\" class=\"data row8 col4\" >2.2e-18</td>\n",
              "                        <td id=\"T_ecb1451e_4d60_11ea_a891_0242ac1c0002row8_col5\" class=\"data row8 col5\" >3.6e-17</td>\n",
              "                        <td id=\"T_ecb1451e_4d60_11ea_a891_0242ac1c0002row8_col6\" class=\"data row8 col6\" >3.6e-17</td>\n",
              "                        <td id=\"T_ecb1451e_4d60_11ea_a891_0242ac1c0002row8_col7\" class=\"data row8 col7\" >-9.1e-17</td>\n",
              "                        <td id=\"T_ecb1451e_4d60_11ea_a891_0242ac1c0002row8_col8\" class=\"data row8 col8\" >1</td>\n",
              "                        <td id=\"T_ecb1451e_4d60_11ea_a891_0242ac1c0002row8_col9\" class=\"data row8 col9\" >2.5e-16</td>\n",
              "            </tr>\n",
              "            <tr>\n",
              "                        <th id=\"T_ecb1451e_4d60_11ea_a891_0242ac1c0002level0_row9\" class=\"row_heading level0 row9\" >C10</th>\n",
              "                        <td id=\"T_ecb1451e_4d60_11ea_a891_0242ac1c0002row9_col0\" class=\"data row9 col0\" >3.5e-17</td>\n",
              "                        <td id=\"T_ecb1451e_4d60_11ea_a891_0242ac1c0002row9_col1\" class=\"data row9 col1\" >-2.3e-17</td>\n",
              "                        <td id=\"T_ecb1451e_4d60_11ea_a891_0242ac1c0002row9_col2\" class=\"data row9 col2\" >-6.1e-18</td>\n",
              "                        <td id=\"T_ecb1451e_4d60_11ea_a891_0242ac1c0002row9_col3\" class=\"data row9 col3\" >1.7e-17</td>\n",
              "                        <td id=\"T_ecb1451e_4d60_11ea_a891_0242ac1c0002row9_col4\" class=\"data row9 col4\" >3.7e-17</td>\n",
              "                        <td id=\"T_ecb1451e_4d60_11ea_a891_0242ac1c0002row9_col5\" class=\"data row9 col5\" >-1.7e-17</td>\n",
              "                        <td id=\"T_ecb1451e_4d60_11ea_a891_0242ac1c0002row9_col6\" class=\"data row9 col6\" >-2.3e-18</td>\n",
              "                        <td id=\"T_ecb1451e_4d60_11ea_a891_0242ac1c0002row9_col7\" class=\"data row9 col7\" >1.6e-16</td>\n",
              "                        <td id=\"T_ecb1451e_4d60_11ea_a891_0242ac1c0002row9_col8\" class=\"data row9 col8\" >2.5e-16</td>\n",
              "                        <td id=\"T_ecb1451e_4d60_11ea_a891_0242ac1c0002row9_col9\" class=\"data row9 col9\" >1</td>\n",
              "            </tr>\n",
              "    </tbody></table>"
            ],
            "text/plain": [
              "<pandas.io.formats.style.Styler at 0x7f6699cab6a0>"
            ]
          },
          "metadata": {
            "tags": []
          },
          "execution_count": 11
        },
        {
          "output_type": "display_data",
          "data": {
            "image/png": "[encoded data removed]",
            "text/plain": [
              "<Figure size 432x288 with 2 Axes>"
            ]
          },
          "metadata": {
            "tags": []
          }
        }
      ]
    },
    {
      "cell_type": "code",
      "metadata": {
        "id": "P0UafznKiqPI",
        "colab_type": "code",
        "outputId": "acdfd150-8cf7-49ff-b84b-bf44d5b067d5",
        "colab": {
          "base_uri": "https://localhost:8080/",
          "height": 51
        }
      },
      "source": [
        "print(np.shape(train))\n",
        "print(np.shape(train_reduced))"
      ],
      "execution_count": 12,
      "outputs": [
        {
          "output_type": "stream",
          "text": [
            "(2463, 29)\n",
            "(2463, 10)\n"
          ],
          "name": "stdout"
        }
      ]
    },
    {
      "cell_type": "markdown",
      "metadata": {
        "id": "Im_2A9B6-ITD",
        "colab_type": "text"
      },
      "source": [
        "**Gaussian Naive Bayes**"
      ]
    },
    {
      "cell_type": "code",
      "metadata": {
        "id": "K53ESigFiuW3",
        "colab_type": "code",
        "colab": {}
      },
      "source": [
        "from sklearn.naive_bayes import GaussianNB\n",
        "gnb = GaussianNB()\n",
        "naiveBayes = gnb.fit(train, y_train)\n",
        "y_pred = naiveBayes.predict(test)"
      ],
      "execution_count": 0,
      "outputs": []
    },
    {
      "cell_type": "code",
      "metadata": {
        "id": "q09pESdAjA_B",
        "colab_type": "code",
        "outputId": "13bd3c9d-9d56-4594-f5f9-808cfd3c22b6",
        "colab": {
          "base_uri": "https://localhost:8080/",
          "height": 34
        }
      },
      "source": [
        "print(\"Accuracy = \" + str(100*accuracy_score(y_test, y_pred)) + \"%\")"
      ],
      "execution_count": 14,
      "outputs": [
        {
          "output_type": "stream",
          "text": [
            "Accuracy = 77.59740259740259%\n"
          ],
          "name": "stdout"
        }
      ]
    },
    {
      "cell_type": "code",
      "metadata": {
        "id": "ovgh6H_6zJO5",
        "colab_type": "code",
        "outputId": "53742a9f-75c2-462b-df75-5f0f50e7cdf8",
        "colab": {
          "base_uri": "https://localhost:8080/",
          "height": 296
        }
      },
      "source": [
        "from sklearn.metrics import roc_curve\n",
        "from sklearn.metrics import roc_auc_score\n",
        "from matplotlib import pyplot\n",
        "proba = naiveBayes.predict_proba(test)\n",
        "proba = proba[:,1]\n",
        "lr_fpr, lr_tpr, _ = roc_curve(y_test, proba)\n",
        "pyplot.plot(lr_fpr, lr_tpr, marker='.', label='Logistic')\n",
        "pyplot.xlabel('False Positive Rate')\n",
        "pyplot.ylabel('True Positive Rate')\n",
        "pyplot.show()\n",
        "roc_auc_score(y_test, proba)"
      ],
      "execution_count": 15,
      "outputs": [
        {
          "output_type": "display_data",
          "data": {
            "image/png": "[encoded data removed]",
            "text/plain": [
              "<Figure size 432x288 with 1 Axes>"
            ]
          },
          "metadata": {
            "tags": []
          }
        },
        {
          "output_type": "execute_result",
          "data": {
            "text/plain": [
              "0.6696671195652174"
            ]
          },
          "metadata": {
            "tags": []
          },
          "execution_count": 15
        }
      ]
    },
    {
      "cell_type": "code",
      "metadata": {
        "id": "aD1Dk8O2jCd_",
        "colab_type": "code",
        "colab": {}
      },
      "source": [
        "test_reduced = pca.fit_transform(test)\n",
        "gnb = GaussianNB()\n",
        "naiveBayes = gnb.fit(train_reduced, y_train)\n",
        "y_pred = naiveBayes.predict(test_reduced)"
      ],
      "execution_count": 0,
      "outputs": []
    },
    {
      "cell_type": "code",
      "metadata": {
        "id": "JyG-MNBzjGyQ",
        "colab_type": "code",
        "outputId": "6f95bd31-d736-4dee-cea9-0f891550e88b",
        "colab": {
          "base_uri": "https://localhost:8080/",
          "height": 34
        }
      },
      "source": [
        "print(\"Accuracy = \" + str(100*accuracy_score(y_test, y_pred)) + \"%\")"
      ],
      "execution_count": 17,
      "outputs": [
        {
          "output_type": "stream",
          "text": [
            "Accuracy = 89.6103896103896%\n"
          ],
          "name": "stdout"
        }
      ]
    },
    {
      "cell_type": "code",
      "metadata": {
        "id": "mfPH5xL1zKza",
        "colab_type": "code",
        "outputId": "34f5f670-4a72-4851-ac09-f13c7cfe2fea",
        "colab": {
          "base_uri": "https://localhost:8080/",
          "height": 296
        }
      },
      "source": [
        "from sklearn.metrics import roc_curve\n",
        "from sklearn.metrics import roc_auc_score\n",
        "from matplotlib import pyplot\n",
        "proba = naiveBayes.predict_proba(test_reduced)\n",
        "proba = proba[:,1]\n",
        "lr_fpr, lr_tpr, _ = roc_curve(y_test, proba)\n",
        "pyplot.plot(lr_fpr, lr_tpr, marker='.', label='Logistic')\n",
        "pyplot.xlabel('False Positive Rate')\n",
        "pyplot.ylabel('True Positive Rate')\n",
        "pyplot.show()\n",
        "roc_auc_score(y_test, proba)"
      ],
      "execution_count": 18,
      "outputs": [
        {
          "output_type": "display_data",
          "data": {
            "image/png": "[encoded data removed]",
            "text/plain": [
              "<Figure size 432x288 with 1 Axes>"
            ]
          },
          "metadata": {
            "tags": []
          }
        },
        {
          "output_type": "execute_result",
          "data": {
            "text/plain": [
              "0.6518908514492753"
            ]
          },
          "metadata": {
            "tags": []
          },
          "execution_count": 18
        }
      ]
    },
    {
      "cell_type": "markdown",
      "metadata": {
        "id": "YS9R74cOjlGv",
        "colab_type": "text"
      },
      "source": [
        "## **Neighborhood Component Analysis**"
      ]
    },
    {
      "cell_type": "code",
      "metadata": {
        "id": "F94G0qhajqbY",
        "colab_type": "code",
        "colab": {}
      },
      "source": [
        "from sklearn.neighbors import NeighborhoodComponentsAnalysis"
      ],
      "execution_count": 0,
      "outputs": []
    },
    {
      "cell_type": "code",
      "metadata": {
        "id": "TJ9sCsOBjwOc",
        "colab_type": "code",
        "colab": {}
      },
      "source": [
        "nca = NeighborhoodComponentsAnalysis(n_components=10)\n",
        "train_reduced_nca = nca.fit_transform(train, y_train)"
      ],
      "execution_count": 0,
      "outputs": []
    },
    {
      "cell_type": "code",
      "metadata": {
        "id": "D-0wmblij9Jv",
        "colab_type": "code",
        "outputId": "3081152b-b147-419c-b583-8ef7f4bc6ca0",
        "colab": {
          "base_uri": "https://localhost:8080/",
          "height": 51
        }
      },
      "source": [
        "print(np.shape(train))\n",
        "print(np.shape(train_reduced_nca))"
      ],
      "execution_count": 21,
      "outputs": [
        {
          "output_type": "stream",
          "text": [
            "(2463, 29)\n",
            "(2463, 10)\n"
          ],
          "name": "stdout"
        }
      ]
    },
    {
      "cell_type": "code",
      "metadata": {
        "id": "c6KCkeHxuQgF",
        "colab_type": "code",
        "outputId": "70c2c2cb-5bd4-45dd-8777-90e8cb07ad52",
        "colab": {
          "base_uri": "https://localhost:8080/",
          "height": 1000
        }
      },
      "source": [
        "import seaborn as sns\n",
        "#Plot histograms\n",
        "positives=np.zeros((PositiveCount,10))\n",
        "negatives=np.zeros((NegativeCount,10))\n",
        "j=0\n",
        "k=0\n",
        "    \n",
        "for i in range(len(train)):\n",
        "\n",
        "    if(y_train[i] == 1):\n",
        "        positives[j,:] = train_reduced_nca[i,:]\n",
        "        j=j+1\n",
        "    if(y_train[i] == 0):\n",
        "        negatives[k,:] = train_reduced_nca[i,:]\n",
        "        k=k+1\n",
        "\n",
        "\n",
        "def plot(ind):\n",
        "  bins=20\n",
        "  clr=['r', 'b']\n",
        "  lbl=['1', '0']\n",
        "  x=[positives[:,ind], negatives[:,ind]]\n",
        "  plt.hist(x, bins, density=True, color=clr, label=lbl)\n",
        "  plt.legend(loc='upper right')\n",
        "  plt.title('Density')\n",
        "  plt.show()\n",
        "  print(\"Mean for positive data = \", np.mean(positives[:,ind]))\n",
        "  print(\"Mean for negative data = \", np.mean(negatives[:,ind]))\n",
        "\n",
        "for i in range(10):\n",
        "  plot(i)\n",
        "\n",
        "\n",
        "      \n",
        "dataset = pd.DataFrame({'C1': train_reduced_nca[:, 0],\n",
        "                        'C2': train_reduced_nca[:, 1],\n",
        "                        'C3': train_reduced_nca[:, 2],\n",
        "                        'C4': train_reduced_nca[:, 3],\n",
        "                        'C5': train_reduced_nca[:, 4],\n",
        "                        'C6': train_reduced_nca[:, 5],\n",
        "                        'C7': train_reduced_nca[:, 6],\n",
        "                        'C8': train_reduced_nca[:, 7],\n",
        "                        'C9': train_reduced_nca[:, 8],\n",
        "                        'C10': train_reduced_nca[:, 9]})\n",
        "corr = dataset.corr()\n",
        "ax = sns.heatmap(\n",
        "    corr, \n",
        "    vmin=-1, vmax=1, center=0,\n",
        "    cmap=sns.diverging_palette(20, 220, n=200),\n",
        "    square=True\n",
        ")\n",
        "ax.set_xticklabels(\n",
        "    ax.get_xticklabels(),\n",
        "    rotation=45,\n",
        "    horizontalalignment='right'\n",
        ");\n",
        "\n",
        "cmap = cmap=sns.diverging_palette(5, 250, as_cmap=True)\n",
        "corr.style.background_gradient(cmap, axis=1)\\\n",
        "    .set_properties(**{'max-width': '80px', 'font-size': '10pt'})\\\n",
        "    .set_caption(\"Correlation Heatmap\")\\\n",
        "    .set_precision(2)\\"
      ],
      "execution_count": 22,
      "outputs": [
        {
          "output_type": "display_data",
          "data": {
            "image/png": "[encoded data removed]",
            "text/plain": [
              "<Figure size 432x288 with 1 Axes>"
            ]
          },
          "metadata": {
            "tags": []
          }
        },
        {
          "output_type": "stream",
          "text": [
            "Mean for positive data =  532.0837318416866\n",
            "Mean for negative data =  557.5560907127157\n"
          ],
          "name": "stdout"
        },
        {
          "output_type": "display_data",
          "data": {
            "image/png": "[encoded data removed]",
            "text/plain": [
              "<Figure size 432x288 with 1 Axes>"
            ]
          },
          "metadata": {
            "tags": []
          }
        },
        {
          "output_type": "stream",
          "text": [
            "Mean for positive data =  202.36644137262576\n",
            "Mean for negative data =  220.34153912356734\n"
          ],
          "name": "stdout"
        },
        {
          "output_type": "display_data",
          "data": {
            "image/png": "[encoded data removed]",
            "text/plain": [
              "<Figure size 432x288 with 1 Axes>"
            ]
          },
          "metadata": {
            "tags": []
          }
        },
        {
          "output_type": "stream",
          "text": [
            "Mean for positive data =  194.60220769792267\n",
            "Mean for negative data =  181.8666992990663\n"
          ],
          "name": "stdout"
        },
        {
          "output_type": "display_data",
          "data": {
            "image/png": "[encoded data removed]",
            "text/plain": [
              "<Figure size 432x288 with 1 Axes>"
            ]
          },
          "metadata": {
            "tags": []
          }
        },
        {
          "output_type": "stream",
          "text": [
            "Mean for positive data =  177.1048434922815\n",
            "Mean for negative data =  211.38952786634522\n"
          ],
          "name": "stdout"
        },
        {
          "output_type": "display_data",
          "data": {
            "image/png": "[encoded data removed]",
            "text/plain": [
              "<Figure size 432x288 with 1 Axes>"
            ]
          },
          "metadata": {
            "tags": []
          }
        },
        {
          "output_type": "stream",
          "text": [
            "Mean for positive data =  322.2426833451038\n",
            "Mean for negative data =  340.9897065607283\n"
          ],
          "name": "stdout"
        },
        {
          "output_type": "display_data",
          "data": {
            "image/png": "[encoded data removed]",
            "text/plain": [
              "<Figure size 432x288 with 1 Axes>"
            ]
          },
          "metadata": {
            "tags": []
          }
        },
        {
          "output_type": "stream",
          "text": [
            "Mean for positive data =  715.3646949327547\n",
            "Mean for negative data =  746.982368799962\n"
          ],
          "name": "stdout"
        },
        {
          "output_type": "display_data",
          "data": {
            "image/png": "[encoded data removed]",
            "text/plain": [
              "<Figure size 432x288 with 1 Axes>"
            ]
          },
          "metadata": {
            "tags": []
          }
        },
        {
          "output_type": "stream",
          "text": [
            "Mean for positive data =  57.32208497731258\n",
            "Mean for negative data =  63.971182265367375\n"
          ],
          "name": "stdout"
        },
        {
          "output_type": "display_data",
          "data": {
            "image/png": "[encoded data removed]",
            "text/plain": [
              "<Figure size 432x288 with 1 Axes>"
            ]
          },
          "metadata": {
            "tags": []
          }
        },
        {
          "output_type": "stream",
          "text": [
            "Mean for positive data =  24.59580413735438\n",
            "Mean for negative data =  29.367673353060038\n"
          ],
          "name": "stdout"
        },
        {
          "output_type": "display_data",
          "data": {
            "image/png": "[encoded data removed]",
            "text/plain": [
              "<Figure size 432x288 with 1 Axes>"
            ]
          },
          "metadata": {
            "tags": []
          }
        },
        {
          "output_type": "stream",
          "text": [
            "Mean for positive data =  -0.4814603677352282\n",
            "Mean for negative data =  -1.7000095067049168\n"
          ],
          "name": "stdout"
        },
        {
          "output_type": "display_data",
          "data": {
            "image/png": "[encoded data removed]",
            "text/plain": [
              "<Figure size 432x288 with 1 Axes>"
            ]
          },
          "metadata": {
            "tags": []
          }
        },
        {
          "output_type": "stream",
          "text": [
            "Mean for positive data =  16.89014335033067\n",
            "Mean for negative data =  14.279680619601397\n"
          ],
          "name": "stdout"
        },
        {
          "output_type": "execute_result",
          "data": {
            "text/html": [
              "<style  type=\"text/css\" >\n",
              "    #T_05f7429e_4d61_11ea_a891_0242ac1c0002row0_col0 {\n",
              "            background-color:  #4479bb;\n",
              "            color:  #000000;\n",
              "            max-width:  80px;\n",
              "            font-size:  10pt;\n",
              "        }    #T_05f7429e_4d61_11ea_a891_0242ac1c0002row0_col1 {\n",
              "            background-color:  #618ec5;\n",
              "            color:  #000000;\n",
              "            max-width:  80px;\n",
              "            font-size:  10pt;\n",
              "        }    #T_05f7429e_4d61_11ea_a891_0242ac1c0002row0_col2 {\n",
              "            background-color:  #eaf0f7;\n",
              "            color:  #000000;\n",
              "            max-width:  80px;\n",
              "            font-size:  10pt;\n",
              "        }    #T_05f7429e_4d61_11ea_a891_0242ac1c0002row0_col3 {\n",
              "            background-color:  #ea97a8;\n",
              "            color:  #000000;\n",
              "            max-width:  80px;\n",
              "            font-size:  10pt;\n",
              "        }    #T_05f7429e_4d61_11ea_a891_0242ac1c0002row0_col4 {\n",
              "            background-color:  #d73c5b;\n",
              "            color:  #f1f1f1;\n",
              "            max-width:  80px;\n",
              "            font-size:  10pt;\n",
              "        }    #T_05f7429e_4d61_11ea_a891_0242ac1c0002row0_col5 {\n",
              "            background-color:  #4d7fbe;\n",
              "            color:  #000000;\n",
              "            max-width:  80px;\n",
              "            font-size:  10pt;\n",
              "        }    #T_05f7429e_4d61_11ea_a891_0242ac1c0002row0_col6 {\n",
              "            background-color:  #4d7fbe;\n",
              "            color:  #000000;\n",
              "            max-width:  80px;\n",
              "            font-size:  10pt;\n",
              "        }    #T_05f7429e_4d61_11ea_a891_0242ac1c0002row0_col7 {\n",
              "            background-color:  #eb9ead;\n",
              "            color:  #000000;\n",
              "            max-width:  80px;\n",
              "            font-size:  10pt;\n",
              "        }    #T_05f7429e_4d61_11ea_a891_0242ac1c0002row0_col8 {\n",
              "            background-color:  #e7879b;\n",
              "            color:  #000000;\n",
              "            max-width:  80px;\n",
              "            font-size:  10pt;\n",
              "        }    #T_05f7429e_4d61_11ea_a891_0242ac1c0002row0_col9 {\n",
              "            background-color:  #86a8d3;\n",
              "            color:  #000000;\n",
              "            max-width:  80px;\n",
              "            font-size:  10pt;\n",
              "        }    #T_05f7429e_4d61_11ea_a891_0242ac1c0002row1_col0 {\n",
              "            background-color:  #618ec5;\n",
              "            color:  #000000;\n",
              "            max-width:  80px;\n",
              "            font-size:  10pt;\n",
              "        }    #T_05f7429e_4d61_11ea_a891_0242ac1c0002row1_col1 {\n",
              "            background-color:  #4479bb;\n",
              "            color:  #000000;\n",
              "            max-width:  80px;\n",
              "            font-size:  10pt;\n",
              "        }    #T_05f7429e_4d61_11ea_a891_0242ac1c0002row1_col2 {\n",
              "            background-color:  #eeacba;\n",
              "            color:  #000000;\n",
              "            max-width:  80px;\n",
              "            font-size:  10pt;\n",
              "        }    #T_05f7429e_4d61_11ea_a891_0242ac1c0002row1_col3 {\n",
              "            background-color:  #efafbc;\n",
              "            color:  #000000;\n",
              "            max-width:  80px;\n",
              "            font-size:  10pt;\n",
              "        }    #T_05f7429e_4d61_11ea_a891_0242ac1c0002row1_col4 {\n",
              "            background-color:  #ea9aaa;\n",
              "            color:  #000000;\n",
              "            max-width:  80px;\n",
              "            font-size:  10pt;\n",
              "        }    #T_05f7429e_4d61_11ea_a891_0242ac1c0002row1_col5 {\n",
              "            background-color:  #7099cb;\n",
              "            color:  #000000;\n",
              "            max-width:  80px;\n",
              "            font-size:  10pt;\n",
              "        }    #T_05f7429e_4d61_11ea_a891_0242ac1c0002row1_col6 {\n",
              "            background-color:  #5485c1;\n",
              "            color:  #000000;\n",
              "            max-width:  80px;\n",
              "            font-size:  10pt;\n",
              "        }    #T_05f7429e_4d61_11ea_a891_0242ac1c0002row1_col7 {\n",
              "            background-color:  #ea9aaa;\n",
              "            color:  #000000;\n",
              "            max-width:  80px;\n",
              "            font-size:  10pt;\n",
              "        }    #T_05f7429e_4d61_11ea_a891_0242ac1c0002row1_col8 {\n",
              "            background-color:  #d73c5b;\n",
              "            color:  #f1f1f1;\n",
              "            max-width:  80px;\n",
              "            font-size:  10pt;\n",
              "        }    #T_05f7429e_4d61_11ea_a891_0242ac1c0002row1_col9 {\n",
              "            background-color:  #dde7f3;\n",
              "            color:  #000000;\n",
              "            max-width:  80px;\n",
              "            font-size:  10pt;\n",
              "        }    #T_05f7429e_4d61_11ea_a891_0242ac1c0002row2_col0 {\n",
              "            background-color:  #c1d3e8;\n",
              "            color:  #000000;\n",
              "            max-width:  80px;\n",
              "            font-size:  10pt;\n",
              "        }    #T_05f7429e_4d61_11ea_a891_0242ac1c0002row2_col1 {\n",
              "            background-color:  #fae7eb;\n",
              "            color:  #000000;\n",
              "            max-width:  80px;\n",
              "            font-size:  10pt;\n",
              "        }    #T_05f7429e_4d61_11ea_a891_0242ac1c0002row2_col2 {\n",
              "            background-color:  #4479bb;\n",
              "            color:  #000000;\n",
              "            max-width:  80px;\n",
              "            font-size:  10pt;\n",
              "        }    #T_05f7429e_4d61_11ea_a891_0242ac1c0002row2_col3 {\n",
              "            background-color:  #f2f2f2;\n",
              "            color:  #000000;\n",
              "            max-width:  80px;\n",
              "            font-size:  10pt;\n",
              "        }    #T_05f7429e_4d61_11ea_a891_0242ac1c0002row2_col4 {\n",
              "            background-color:  #d73c5b;\n",
              "            color:  #f1f1f1;\n",
              "            max-width:  80px;\n",
              "            font-size:  10pt;\n",
              "        }    #T_05f7429e_4d61_11ea_a891_0242ac1c0002row2_col5 {\n",
              "            background-color:  #d8e3f1;\n",
              "            color:  #000000;\n",
              "            max-width:  80px;\n",
              "            font-size:  10pt;\n",
              "        }    #T_05f7429e_4d61_11ea_a891_0242ac1c0002row2_col6 {\n",
              "            background-color:  #d1deee;\n",
              "            color:  #000000;\n",
              "            max-width:  80px;\n",
              "            font-size:  10pt;\n",
              "        }    #T_05f7429e_4d61_11ea_a891_0242ac1c0002row2_col7 {\n",
              "            background-color:  #f0b4c0;\n",
              "            color:  #000000;\n",
              "            max-width:  80px;\n",
              "            font-size:  10pt;\n",
              "        }    #T_05f7429e_4d61_11ea_a891_0242ac1c0002row2_col8 {\n",
              "            background-color:  #90afd6;\n",
              "            color:  #000000;\n",
              "            max-width:  80px;\n",
              "            font-size:  10pt;\n",
              "        }    #T_05f7429e_4d61_11ea_a891_0242ac1c0002row2_col9 {\n",
              "            background-color:  #6590c7;\n",
              "            color:  #000000;\n",
              "            max-width:  80px;\n",
              "            font-size:  10pt;\n",
              "        }    #T_05f7429e_4d61_11ea_a891_0242ac1c0002row3_col0 {\n",
              "            background-color:  #f4c9d2;\n",
              "            color:  #000000;\n",
              "            max-width:  80px;\n",
              "            font-size:  10pt;\n",
              "        }    #T_05f7429e_4d61_11ea_a891_0242ac1c0002row3_col1 {\n",
              "            background-color:  #f8dce2;\n",
              "            color:  #000000;\n",
              "            max-width:  80px;\n",
              "            font-size:  10pt;\n",
              "        }    #T_05f7429e_4d61_11ea_a891_0242ac1c0002row3_col2 {\n",
              "            background-color:  #f8dfe4;\n",
              "            color:  #000000;\n",
              "            max-width:  80px;\n",
              "            font-size:  10pt;\n",
              "        }    #T_05f7429e_4d61_11ea_a891_0242ac1c0002row3_col3 {\n",
              "            background-color:  #4479bb;\n",
              "            color:  #000000;\n",
              "            max-width:  80px;\n",
              "            font-size:  10pt;\n",
              "        }    #T_05f7429e_4d61_11ea_a891_0242ac1c0002row3_col4 {\n",
              "            background-color:  #fae8ec;\n",
              "            color:  #000000;\n",
              "            max-width:  80px;\n",
              "            font-size:  10pt;\n",
              "        }    #T_05f7429e_4d61_11ea_a891_0242ac1c0002row3_col5 {\n",
              "            background-color:  #eeabb8;\n",
              "            color:  #000000;\n",
              "            max-width:  80px;\n",
              "            font-size:  10pt;\n",
              "        }    #T_05f7429e_4d61_11ea_a891_0242ac1c0002row3_col6 {\n",
              "            background-color:  #ebf1f8;\n",
              "            color:  #000000;\n",
              "            max-width:  80px;\n",
              "            font-size:  10pt;\n",
              "        }    #T_05f7429e_4d61_11ea_a891_0242ac1c0002row3_col7 {\n",
              "            background-color:  #6892c8;\n",
              "            color:  #000000;\n",
              "            max-width:  80px;\n",
              "            font-size:  10pt;\n",
              "        }    #T_05f7429e_4d61_11ea_a891_0242ac1c0002row3_col8 {\n",
              "            background-color:  #d73c5b;\n",
              "            color:  #f1f1f1;\n",
              "            max-width:  80px;\n",
              "            font-size:  10pt;\n",
              "        }    #T_05f7429e_4d61_11ea_a891_0242ac1c0002row3_col9 {\n",
              "            background-color:  #f2c1cb;\n",
              "            color:  #000000;\n",
              "            max-width:  80px;\n",
              "            font-size:  10pt;\n",
              "        }    #T_05f7429e_4d61_11ea_a891_0242ac1c0002row4_col0 {\n",
              "            background-color:  #ec9faf;\n",
              "            color:  #000000;\n",
              "            max-width:  80px;\n",
              "            font-size:  10pt;\n",
              "        }    #T_05f7429e_4d61_11ea_a891_0242ac1c0002row4_col1 {\n",
              "            background-color:  #f9e3e7;\n",
              "            color:  #000000;\n",
              "            max-width:  80px;\n",
              "            font-size:  10pt;\n",
              "        }    #T_05f7429e_4d61_11ea_a891_0242ac1c0002row4_col2 {\n",
              "            background-color:  #db4d69;\n",
              "            color:  #000000;\n",
              "            max-width:  80px;\n",
              "            font-size:  10pt;\n",
              "        }    #T_05f7429e_4d61_11ea_a891_0242ac1c0002row4_col3 {\n",
              "            background-color:  #e8eff7;\n",
              "            color:  #000000;\n",
              "            max-width:  80px;\n",
              "            font-size:  10pt;\n",
              "        }    #T_05f7429e_4d61_11ea_a891_0242ac1c0002row4_col4 {\n",
              "            background-color:  #4479bb;\n",
              "            color:  #000000;\n",
              "            max-width:  80px;\n",
              "            font-size:  10pt;\n",
              "        }    #T_05f7429e_4d61_11ea_a891_0242ac1c0002row4_col5 {\n",
              "            background-color:  #f1bbc6;\n",
              "            color:  #000000;\n",
              "            max-width:  80px;\n",
              "            font-size:  10pt;\n",
              "        }    #T_05f7429e_4d61_11ea_a891_0242ac1c0002row4_col6 {\n",
              "            background-color:  #efafbc;\n",
              "            color:  #000000;\n",
              "            max-width:  80px;\n",
              "            font-size:  10pt;\n",
              "        }    #T_05f7429e_4d61_11ea_a891_0242ac1c0002row4_col7 {\n",
              "            background-color:  #ebf1f8;\n",
              "            color:  #000000;\n",
              "            max-width:  80px;\n",
              "            font-size:  10pt;\n",
              "        }    #T_05f7429e_4d61_11ea_a891_0242ac1c0002row4_col8 {\n",
              "            background-color:  #df627b;\n",
              "            color:  #000000;\n",
              "            max-width:  80px;\n",
              "            font-size:  10pt;\n",
              "        }    #T_05f7429e_4d61_11ea_a891_0242ac1c0002row4_col9 {\n",
              "            background-color:  #d73c5b;\n",
              "            color:  #f1f1f1;\n",
              "            max-width:  80px;\n",
              "            font-size:  10pt;\n",
              "        }    #T_05f7429e_4d61_11ea_a891_0242ac1c0002row5_col0 {\n",
              "            background-color:  #4e80be;\n",
              "            color:  #000000;\n",
              "            max-width:  80px;\n",
              "            font-size:  10pt;\n",
              "        }    #T_05f7429e_4d61_11ea_a891_0242ac1c0002row5_col1 {\n",
              "            background-color:  #759ccd;\n",
              "            color:  #000000;\n",
              "            max-width:  80px;\n",
              "            font-size:  10pt;\n",
              "        }    #T_05f7429e_4d61_11ea_a891_0242ac1c0002row5_col2 {\n",
              "            background-color:  #f4c8d0;\n",
              "            color:  #000000;\n",
              "            max-width:  80px;\n",
              "            font-size:  10pt;\n",
              "        }    #T_05f7429e_4d61_11ea_a891_0242ac1c0002row5_col3 {\n",
              "            background-color:  #db4f6b;\n",
              "            color:  #000000;\n",
              "            max-width:  80px;\n",
              "            font-size:  10pt;\n",
              "        }    #T_05f7429e_4d61_11ea_a891_0242ac1c0002row5_col4 {\n",
              "            background-color:  #d73c5b;\n",
              "            color:  #f1f1f1;\n",
              "            max-width:  80px;\n",
              "            font-size:  10pt;\n",
              "        }    #T_05f7429e_4d61_11ea_a891_0242ac1c0002row5_col5 {\n",
              "            background-color:  #4479bb;\n",
              "            color:  #000000;\n",
              "            max-width:  80px;\n",
              "            font-size:  10pt;\n",
              "        }    #T_05f7429e_4d61_11ea_a891_0242ac1c0002row5_col6 {\n",
              "            background-color:  #6892c8;\n",
              "            color:  #000000;\n",
              "            max-width:  80px;\n",
              "            font-size:  10pt;\n",
              "        }    #T_05f7429e_4d61_11ea_a891_0242ac1c0002row5_col7 {\n",
              "            background-color:  #e27087;\n",
              "            color:  #000000;\n",
              "            max-width:  80px;\n",
              "            font-size:  10pt;\n",
              "        }    #T_05f7429e_4d61_11ea_a891_0242ac1c0002row5_col8 {\n",
              "            background-color:  #e16d85;\n",
              "            color:  #000000;\n",
              "            max-width:  80px;\n",
              "            font-size:  10pt;\n",
              "        }    #T_05f7429e_4d61_11ea_a891_0242ac1c0002row5_col9 {\n",
              "            background-color:  #a8c0df;\n",
              "            color:  #000000;\n",
              "            max-width:  80px;\n",
              "            font-size:  10pt;\n",
              "        }    #T_05f7429e_4d61_11ea_a891_0242ac1c0002row6_col0 {\n",
              "            background-color:  #4d7fbe;\n",
              "            color:  #000000;\n",
              "            max-width:  80px;\n",
              "            font-size:  10pt;\n",
              "        }    #T_05f7429e_4d61_11ea_a891_0242ac1c0002row6_col1 {\n",
              "            background-color:  #5686c1;\n",
              "            color:  #000000;\n",
              "            max-width:  80px;\n",
              "            font-size:  10pt;\n",
              "        }    #T_05f7429e_4d61_11ea_a891_0242ac1c0002row6_col2 {\n",
              "            background-color:  #f8dee3;\n",
              "            color:  #000000;\n",
              "            max-width:  80px;\n",
              "            font-size:  10pt;\n",
              "        }    #T_05f7429e_4d61_11ea_a891_0242ac1c0002row6_col3 {\n",
              "            background-color:  #f4c9d2;\n",
              "            color:  #000000;\n",
              "            max-width:  80px;\n",
              "            font-size:  10pt;\n",
              "        }    #T_05f7429e_4d61_11ea_a891_0242ac1c0002row6_col4 {\n",
              "            background-color:  #d8405e;\n",
              "            color:  #f1f1f1;\n",
              "            max-width:  80px;\n",
              "            font-size:  10pt;\n",
              "        }    #T_05f7429e_4d61_11ea_a891_0242ac1c0002row6_col5 {\n",
              "            background-color:  #6691c7;\n",
              "            color:  #000000;\n",
              "            max-width:  80px;\n",
              "            font-size:  10pt;\n",
              "        }    #T_05f7429e_4d61_11ea_a891_0242ac1c0002row6_col6 {\n",
              "            background-color:  #4479bb;\n",
              "            color:  #000000;\n",
              "            max-width:  80px;\n",
              "            font-size:  10pt;\n",
              "        }    #T_05f7429e_4d61_11ea_a891_0242ac1c0002row6_col7 {\n",
              "            background-color:  #f2c1cb;\n",
              "            color:  #000000;\n",
              "            max-width:  80px;\n",
              "            font-size:  10pt;\n",
              "        }    #T_05f7429e_4d61_11ea_a891_0242ac1c0002row6_col8 {\n",
              "            background-color:  #d73c5b;\n",
              "            color:  #f1f1f1;\n",
              "            max-width:  80px;\n",
              "            font-size:  10pt;\n",
              "        }    #T_05f7429e_4d61_11ea_a891_0242ac1c0002row6_col9 {\n",
              "            background-color:  #a4bede;\n",
              "            color:  #000000;\n",
              "            max-width:  80px;\n",
              "            font-size:  10pt;\n",
              "        }    #T_05f7429e_4d61_11ea_a891_0242ac1c0002row7_col0 {\n",
              "            background-color:  #f8dfe4;\n",
              "            color:  #000000;\n",
              "            max-width:  80px;\n",
              "            font-size:  10pt;\n",
              "        }    #T_05f7429e_4d61_11ea_a891_0242ac1c0002row7_col1 {\n",
              "            background-color:  #f7dae0;\n",
              "            color:  #000000;\n",
              "            max-width:  80px;\n",
              "            font-size:  10pt;\n",
              "        }    #T_05f7429e_4d61_11ea_a891_0242ac1c0002row7_col2 {\n",
              "            background-color:  #f0b5c1;\n",
              "            color:  #000000;\n",
              "            max-width:  80px;\n",
              "            font-size:  10pt;\n",
              "        }    #T_05f7429e_4d61_11ea_a891_0242ac1c0002row7_col3 {\n",
              "            background-color:  #6590c7;\n",
              "            color:  #000000;\n",
              "            max-width:  80px;\n",
              "            font-size:  10pt;\n",
              "        }    #T_05f7429e_4d61_11ea_a891_0242ac1c0002row7_col4 {\n",
              "            background-color:  #f2f2f2;\n",
              "            color:  #000000;\n",
              "            max-width:  80px;\n",
              "            font-size:  10pt;\n",
              "        }    #T_05f7429e_4d61_11ea_a891_0242ac1c0002row7_col5 {\n",
              "            background-color:  #f6d5db;\n",
              "            color:  #000000;\n",
              "            max-width:  80px;\n",
              "            font-size:  10pt;\n",
              "        }    #T_05f7429e_4d61_11ea_a891_0242ac1c0002row7_col6 {\n",
              "            background-color:  #e4ecf5;\n",
              "            color:  #000000;\n",
              "            max-width:  80px;\n",
              "            font-size:  10pt;\n",
              "        }    #T_05f7429e_4d61_11ea_a891_0242ac1c0002row7_col7 {\n",
              "            background-color:  #4479bb;\n",
              "            color:  #000000;\n",
              "            max-width:  80px;\n",
              "            font-size:  10pt;\n",
              "        }    #T_05f7429e_4d61_11ea_a891_0242ac1c0002row7_col8 {\n",
              "            background-color:  #d73c5b;\n",
              "            color:  #f1f1f1;\n",
              "            max-width:  80px;\n",
              "            font-size:  10pt;\n",
              "        }    #T_05f7429e_4d61_11ea_a891_0242ac1c0002row7_col9 {\n",
              "            background-color:  #f4c9d2;\n",
              "            color:  #000000;\n",
              "            max-width:  80px;\n",
              "            font-size:  10pt;\n",
              "        }    #T_05f7429e_4d61_11ea_a891_0242ac1c0002row8_col0 {\n",
              "            background-color:  #f5ced6;\n",
              "            color:  #000000;\n",
              "            max-width:  80px;\n",
              "            font-size:  10pt;\n",
              "        }    #T_05f7429e_4d61_11ea_a891_0242ac1c0002row8_col1 {\n",
              "            background-color:  #e991a3;\n",
              "            color:  #000000;\n",
              "            max-width:  80px;\n",
              "            font-size:  10pt;\n",
              "        }    #T_05f7429e_4d61_11ea_a891_0242ac1c0002row8_col2 {\n",
              "            background-color:  #90afd6;\n",
              "            color:  #000000;\n",
              "            max-width:  80px;\n",
              "            font-size:  10pt;\n",
              "        }    #T_05f7429e_4d61_11ea_a891_0242ac1c0002row8_col3 {\n",
              "            background-color:  #dc5570;\n",
              "            color:  #000000;\n",
              "            max-width:  80px;\n",
              "            font-size:  10pt;\n",
              "        }    #T_05f7429e_4d61_11ea_a891_0242ac1c0002row8_col4 {\n",
              "            background-color:  #dc546f;\n",
              "            color:  #000000;\n",
              "            max-width:  80px;\n",
              "            font-size:  10pt;\n",
              "        }    #T_05f7429e_4d61_11ea_a891_0242ac1c0002row8_col5 {\n",
              "            background-color:  #f6d2d9;\n",
              "            color:  #000000;\n",
              "            max-width:  80px;\n",
              "            font-size:  10pt;\n",
              "        }    #T_05f7429e_4d61_11ea_a891_0242ac1c0002row8_col6 {\n",
              "            background-color:  #eca1b0;\n",
              "            color:  #000000;\n",
              "            max-width:  80px;\n",
              "            font-size:  10pt;\n",
              "        }    #T_05f7429e_4d61_11ea_a891_0242ac1c0002row8_col7 {\n",
              "            background-color:  #d73c5b;\n",
              "            color:  #f1f1f1;\n",
              "            max-width:  80px;\n",
              "            font-size:  10pt;\n",
              "        }    #T_05f7429e_4d61_11ea_a891_0242ac1c0002row8_col8 {\n",
              "            background-color:  #4479bb;\n",
              "            color:  #000000;\n",
              "            max-width:  80px;\n",
              "            font-size:  10pt;\n",
              "        }    #T_05f7429e_4d61_11ea_a891_0242ac1c0002row8_col9 {\n",
              "            background-color:  #b5cae4;\n",
              "            color:  #000000;\n",
              "            max-width:  80px;\n",
              "            font-size:  10pt;\n",
              "        }    #T_05f7429e_4d61_11ea_a891_0242ac1c0002row9_col0 {\n",
              "            background-color:  #749bcc;\n",
              "            color:  #000000;\n",
              "            max-width:  80px;\n",
              "            font-size:  10pt;\n",
              "        }    #T_05f7429e_4d61_11ea_a891_0242ac1c0002row9_col1 {\n",
              "            background-color:  #b3c9e3;\n",
              "            color:  #000000;\n",
              "            max-width:  80px;\n",
              "            font-size:  10pt;\n",
              "        }    #T_05f7429e_4d61_11ea_a891_0242ac1c0002row9_col2 {\n",
              "            background-color:  #6490c6;\n",
              "            color:  #000000;\n",
              "            max-width:  80px;\n",
              "            font-size:  10pt;\n",
              "        }    #T_05f7429e_4d61_11ea_a891_0242ac1c0002row9_col3 {\n",
              "            background-color:  #f8dce2;\n",
              "            color:  #000000;\n",
              "            max-width:  80px;\n",
              "            font-size:  10pt;\n",
              "        }    #T_05f7429e_4d61_11ea_a891_0242ac1c0002row9_col4 {\n",
              "            background-color:  #d73c5b;\n",
              "            color:  #f1f1f1;\n",
              "            max-width:  80px;\n",
              "            font-size:  10pt;\n",
              "        }    #T_05f7429e_4d61_11ea_a891_0242ac1c0002row9_col5 {\n",
              "            background-color:  #85a7d2;\n",
              "            color:  #000000;\n",
              "            max-width:  80px;\n",
              "            font-size:  10pt;\n",
              "        }    #T_05f7429e_4d61_11ea_a891_0242ac1c0002row9_col6 {\n",
              "            background-color:  #86a8d3;\n",
              "            color:  #000000;\n",
              "            max-width:  80px;\n",
              "            font-size:  10pt;\n",
              "        }    #T_05f7429e_4d61_11ea_a891_0242ac1c0002row9_col7 {\n",
              "            background-color:  #f6d3da;\n",
              "            color:  #000000;\n",
              "            max-width:  80px;\n",
              "            font-size:  10pt;\n",
              "        }    #T_05f7429e_4d61_11ea_a891_0242ac1c0002row9_col8 {\n",
              "            background-color:  #b0c6e2;\n",
              "            color:  #000000;\n",
              "            max-width:  80px;\n",
              "            font-size:  10pt;\n",
              "        }    #T_05f7429e_4d61_11ea_a891_0242ac1c0002row9_col9 {\n",
              "            background-color:  #4479bb;\n",
              "            color:  #000000;\n",
              "            max-width:  80px;\n",
              "            font-size:  10pt;\n",
              "        }</style><table id=\"T_05f7429e_4d61_11ea_a891_0242ac1c0002\" ><caption>Correlation Heatmap</caption><thead>    <tr>        <th class=\"blank level0\" ></th>        <th class=\"col_heading level0 col0\" >C1</th>        <th class=\"col_heading level0 col1\" >C2</th>        <th class=\"col_heading level0 col2\" >C3</th>        <th class=\"col_heading level0 col3\" >C4</th>        <th class=\"col_heading level0 col4\" >C5</th>        <th class=\"col_heading level0 col5\" >C6</th>        <th class=\"col_heading level0 col6\" >C7</th>        <th class=\"col_heading level0 col7\" >C8</th>        <th class=\"col_heading level0 col8\" >C9</th>        <th class=\"col_heading level0 col9\" >C10</th>    </tr></thead><tbody>\n",
              "                <tr>\n",
              "                        <th id=\"T_05f7429e_4d61_11ea_a891_0242ac1c0002level0_row0\" class=\"row_heading level0 row0\" >C1</th>\n",
              "                        <td id=\"T_05f7429e_4d61_11ea_a891_0242ac1c0002row0_col0\" class=\"data row0 col0\" >1</td>\n",
              "                        <td id=\"T_05f7429e_4d61_11ea_a891_0242ac1c0002row0_col1\" class=\"data row0 col1\" >0.89</td>\n",
              "                        <td id=\"T_05f7429e_4d61_11ea_a891_0242ac1c0002row0_col2\" class=\"data row0 col2\" >0.39</td>\n",
              "                        <td id=\"T_05f7429e_4d61_11ea_a891_0242ac1c0002row0_col3\" class=\"data row0 col3\" >0.03</td>\n",
              "                        <td id=\"T_05f7429e_4d61_11ea_a891_0242ac1c0002row0_col4\" class=\"data row0 col4\" >-0.29</td>\n",
              "                        <td id=\"T_05f7429e_4d61_11ea_a891_0242ac1c0002row0_col5\" class=\"data row0 col5\" >0.96</td>\n",
              "                        <td id=\"T_05f7429e_4d61_11ea_a891_0242ac1c0002row0_col6\" class=\"data row0 col6\" >0.96</td>\n",
              "                        <td id=\"T_05f7429e_4d61_11ea_a891_0242ac1c0002row0_col7\" class=\"data row0 col7\" >0.055</td>\n",
              "                        <td id=\"T_05f7429e_4d61_11ea_a891_0242ac1c0002row0_col8\" class=\"data row0 col8\" >-0.023</td>\n",
              "                        <td id=\"T_05f7429e_4d61_11ea_a891_0242ac1c0002row0_col9\" class=\"data row0 col9\" >0.76</td>\n",
              "            </tr>\n",
              "            <tr>\n",
              "                        <th id=\"T_05f7429e_4d61_11ea_a891_0242ac1c0002level0_row1\" class=\"row_heading level0 row1\" >C2</th>\n",
              "                        <td id=\"T_05f7429e_4d61_11ea_a891_0242ac1c0002row1_col0\" class=\"data row1 col0\" >0.89</td>\n",
              "                        <td id=\"T_05f7429e_4d61_11ea_a891_0242ac1c0002row1_col1\" class=\"data row1 col1\" >1</td>\n",
              "                        <td id=\"T_05f7429e_4d61_11ea_a891_0242ac1c0002row1_col2\" class=\"data row1 col2\" >0.1</td>\n",
              "                        <td id=\"T_05f7429e_4d61_11ea_a891_0242ac1c0002row1_col3\" class=\"data row1 col3\" >0.11</td>\n",
              "                        <td id=\"T_05f7429e_4d61_11ea_a891_0242ac1c0002row1_col4\" class=\"data row1 col4\" >0.039</td>\n",
              "                        <td id=\"T_05f7429e_4d61_11ea_a891_0242ac1c0002row1_col5\" class=\"data row1 col5\" >0.83</td>\n",
              "                        <td id=\"T_05f7429e_4d61_11ea_a891_0242ac1c0002row1_col6\" class=\"data row1 col6\" >0.93</td>\n",
              "                        <td id=\"T_05f7429e_4d61_11ea_a891_0242ac1c0002row1_col7\" class=\"data row1 col7\" >0.039</td>\n",
              "                        <td id=\"T_05f7429e_4d61_11ea_a891_0242ac1c0002row1_col8\" class=\"data row1 col8\" >-0.3</td>\n",
              "                        <td id=\"T_05f7429e_4d61_11ea_a891_0242ac1c0002row1_col9\" class=\"data row1 col9\" >0.43</td>\n",
              "            </tr>\n",
              "            <tr>\n",
              "                        <th id=\"T_05f7429e_4d61_11ea_a891_0242ac1c0002level0_row2\" class=\"row_heading level0 row2\" >C3</th>\n",
              "                        <td id=\"T_05f7429e_4d61_11ea_a891_0242ac1c0002row2_col0\" class=\"data row2 col0\" >0.39</td>\n",
              "                        <td id=\"T_05f7429e_4d61_11ea_a891_0242ac1c0002row2_col1\" class=\"data row2 col1\" >0.1</td>\n",
              "                        <td id=\"T_05f7429e_4d61_11ea_a891_0242ac1c0002row2_col2\" class=\"data row2 col2\" >1</td>\n",
              "                        <td id=\"T_05f7429e_4d61_11ea_a891_0242ac1c0002row2_col3\" class=\"data row2 col3\" >0.13</td>\n",
              "                        <td id=\"T_05f7429e_4d61_11ea_a891_0242ac1c0002row2_col4\" class=\"data row2 col4\" >-0.7</td>\n",
              "                        <td id=\"T_05f7429e_4d61_11ea_a891_0242ac1c0002row2_col5\" class=\"data row2 col5\" >0.29</td>\n",
              "                        <td id=\"T_05f7429e_4d61_11ea_a891_0242ac1c0002row2_col6\" class=\"data row2 col6\" >0.32</td>\n",
              "                        <td id=\"T_05f7429e_4d61_11ea_a891_0242ac1c0002row2_col7\" class=\"data row2 col7\" >-0.14</td>\n",
              "                        <td id=\"T_05f7429e_4d61_11ea_a891_0242ac1c0002row2_col8\" class=\"data row2 col8\" >0.63</td>\n",
              "                        <td id=\"T_05f7429e_4d61_11ea_a891_0242ac1c0002row2_col9\" class=\"data row2 col9\" >0.84</td>\n",
              "            </tr>\n",
              "            <tr>\n",
              "                        <th id=\"T_05f7429e_4d61_11ea_a891_0242ac1c0002level0_row3\" class=\"row_heading level0 row3\" >C4</th>\n",
              "                        <td id=\"T_05f7429e_4d61_11ea_a891_0242ac1c0002row3_col0\" class=\"data row3 col0\" >0.03</td>\n",
              "                        <td id=\"T_05f7429e_4d61_11ea_a891_0242ac1c0002row3_col1\" class=\"data row3 col1\" >0.11</td>\n",
              "                        <td id=\"T_05f7429e_4d61_11ea_a891_0242ac1c0002row3_col2\" class=\"data row3 col2\" >0.13</td>\n",
              "                        <td id=\"T_05f7429e_4d61_11ea_a891_0242ac1c0002row3_col3\" class=\"data row3 col3\" >1</td>\n",
              "                        <td id=\"T_05f7429e_4d61_11ea_a891_0242ac1c0002row3_col4\" class=\"data row3 col4\" >0.17</td>\n",
              "                        <td id=\"T_05f7429e_4d61_11ea_a891_0242ac1c0002row3_col5\" class=\"data row3 col5\" >-0.096</td>\n",
              "                        <td id=\"T_05f7429e_4d61_11ea_a891_0242ac1c0002row3_col6\" class=\"data row3 col6\" >0.25</td>\n",
              "                        <td id=\"T_05f7429e_4d61_11ea_a891_0242ac1c0002row3_col7\" class=\"data row3 col7\" >0.84</td>\n",
              "                        <td id=\"T_05f7429e_4d61_11ea_a891_0242ac1c0002row3_col8\" class=\"data row3 col8\" >-0.58</td>\n",
              "                        <td id=\"T_05f7429e_4d61_11ea_a891_0242ac1c0002row3_col9\" class=\"data row3 col9\" >-0.0021</td>\n",
              "            </tr>\n",
              "            <tr>\n",
              "                        <th id=\"T_05f7429e_4d61_11ea_a891_0242ac1c0002level0_row4\" class=\"row_heading level0 row4\" >C5</th>\n",
              "                        <td id=\"T_05f7429e_4d61_11ea_a891_0242ac1c0002row4_col0\" class=\"data row4 col0\" >-0.29</td>\n",
              "                        <td id=\"T_05f7429e_4d61_11ea_a891_0242ac1c0002row4_col1\" class=\"data row4 col1\" >0.039</td>\n",
              "                        <td id=\"T_05f7429e_4d61_11ea_a891_0242ac1c0002row4_col2\" class=\"data row4 col2\" >-0.7</td>\n",
              "                        <td id=\"T_05f7429e_4d61_11ea_a891_0242ac1c0002row4_col3\" class=\"data row4 col3\" >0.17</td>\n",
              "                        <td id=\"T_05f7429e_4d61_11ea_a891_0242ac1c0002row4_col4\" class=\"data row4 col4\" >1</td>\n",
              "                        <td id=\"T_05f7429e_4d61_11ea_a891_0242ac1c0002row4_col5\" class=\"data row4 col5\" >-0.16</td>\n",
              "                        <td id=\"T_05f7429e_4d61_11ea_a891_0242ac1c0002row4_col6\" class=\"data row4 col6\" >-0.21</td>\n",
              "                        <td id=\"T_05f7429e_4d61_11ea_a891_0242ac1c0002row4_col7\" class=\"data row4 col7\" >0.16</td>\n",
              "                        <td id=\"T_05f7429e_4d61_11ea_a891_0242ac1c0002row4_col8\" class=\"data row4 col8\" >-0.59</td>\n",
              "                        <td id=\"T_05f7429e_4d61_11ea_a891_0242ac1c0002row4_col9\" class=\"data row4 col9\" >-0.78</td>\n",
              "            </tr>\n",
              "            <tr>\n",
              "                        <th id=\"T_05f7429e_4d61_11ea_a891_0242ac1c0002level0_row5\" class=\"row_heading level0 row5\" >C6</th>\n",
              "                        <td id=\"T_05f7429e_4d61_11ea_a891_0242ac1c0002row5_col0\" class=\"data row5 col0\" >0.96</td>\n",
              "                        <td id=\"T_05f7429e_4d61_11ea_a891_0242ac1c0002row5_col1\" class=\"data row5 col1\" >0.83</td>\n",
              "                        <td id=\"T_05f7429e_4d61_11ea_a891_0242ac1c0002row5_col2\" class=\"data row5 col2\" >0.29</td>\n",
              "                        <td id=\"T_05f7429e_4d61_11ea_a891_0242ac1c0002row5_col3\" class=\"data row5 col3\" >-0.096</td>\n",
              "                        <td id=\"T_05f7429e_4d61_11ea_a891_0242ac1c0002row5_col4\" class=\"data row5 col4\" >-0.16</td>\n",
              "                        <td id=\"T_05f7429e_4d61_11ea_a891_0242ac1c0002row5_col5\" class=\"data row5 col5\" >1</td>\n",
              "                        <td id=\"T_05f7429e_4d61_11ea_a891_0242ac1c0002row5_col6\" class=\"data row5 col6\" >0.88</td>\n",
              "                        <td id=\"T_05f7429e_4d61_11ea_a891_0242ac1c0002row5_col7\" class=\"data row5 col7\" >0.011</td>\n",
              "                        <td id=\"T_05f7429e_4d61_11ea_a891_0242ac1c0002row5_col8\" class=\"data row5 col8\" >0.0013</td>\n",
              "                        <td id=\"T_05f7429e_4d61_11ea_a891_0242ac1c0002row5_col9\" class=\"data row5 col9\" >0.67</td>\n",
              "            </tr>\n",
              "            <tr>\n",
              "                        <th id=\"T_05f7429e_4d61_11ea_a891_0242ac1c0002level0_row6\" class=\"row_heading level0 row6\" >C7</th>\n",
              "                        <td id=\"T_05f7429e_4d61_11ea_a891_0242ac1c0002row6_col0\" class=\"data row6 col0\" >0.96</td>\n",
              "                        <td id=\"T_05f7429e_4d61_11ea_a891_0242ac1c0002row6_col1\" class=\"data row6 col1\" >0.93</td>\n",
              "                        <td id=\"T_05f7429e_4d61_11ea_a891_0242ac1c0002row6_col2\" class=\"data row6 col2\" >0.32</td>\n",
              "                        <td id=\"T_05f7429e_4d61_11ea_a891_0242ac1c0002row6_col3\" class=\"data row6 col3\" >0.25</td>\n",
              "                        <td id=\"T_05f7429e_4d61_11ea_a891_0242ac1c0002row6_col4\" class=\"data row6 col4\" >-0.21</td>\n",
              "                        <td id=\"T_05f7429e_4d61_11ea_a891_0242ac1c0002row6_col5\" class=\"data row6 col5\" >0.88</td>\n",
              "                        <td id=\"T_05f7429e_4d61_11ea_a891_0242ac1c0002row6_col6\" class=\"data row6 col6\" >1</td>\n",
              "                        <td id=\"T_05f7429e_4d61_11ea_a891_0242ac1c0002row6_col7\" class=\"data row6 col7\" >0.22</td>\n",
              "                        <td id=\"T_05f7429e_4d61_11ea_a891_0242ac1c0002row6_col8\" class=\"data row6 col8\" >-0.23</td>\n",
              "                        <td id=\"T_05f7429e_4d61_11ea_a891_0242ac1c0002row6_col9\" class=\"data row6 col9\" >0.66</td>\n",
              "            </tr>\n",
              "            <tr>\n",
              "                        <th id=\"T_05f7429e_4d61_11ea_a891_0242ac1c0002level0_row7\" class=\"row_heading level0 row7\" >C8</th>\n",
              "                        <td id=\"T_05f7429e_4d61_11ea_a891_0242ac1c0002row7_col0\" class=\"data row7 col0\" >0.055</td>\n",
              "                        <td id=\"T_05f7429e_4d61_11ea_a891_0242ac1c0002row7_col1\" class=\"data row7 col1\" >0.039</td>\n",
              "                        <td id=\"T_05f7429e_4d61_11ea_a891_0242ac1c0002row7_col2\" class=\"data row7 col2\" >-0.14</td>\n",
              "                        <td id=\"T_05f7429e_4d61_11ea_a891_0242ac1c0002row7_col3\" class=\"data row7 col3\" >0.84</td>\n",
              "                        <td id=\"T_05f7429e_4d61_11ea_a891_0242ac1c0002row7_col4\" class=\"data row7 col4\" >0.16</td>\n",
              "                        <td id=\"T_05f7429e_4d61_11ea_a891_0242ac1c0002row7_col5\" class=\"data row7 col5\" >0.011</td>\n",
              "                        <td id=\"T_05f7429e_4d61_11ea_a891_0242ac1c0002row7_col6\" class=\"data row7 col6\" >0.22</td>\n",
              "                        <td id=\"T_05f7429e_4d61_11ea_a891_0242ac1c0002row7_col7\" class=\"data row7 col7\" >1</td>\n",
              "                        <td id=\"T_05f7429e_4d61_11ea_a891_0242ac1c0002row7_col8\" class=\"data row7 col8\" >-0.7</td>\n",
              "                        <td id=\"T_05f7429e_4d61_11ea_a891_0242ac1c0002row7_col9\" class=\"data row7 col9\" >-0.039</td>\n",
              "            </tr>\n",
              "            <tr>\n",
              "                        <th id=\"T_05f7429e_4d61_11ea_a891_0242ac1c0002level0_row8\" class=\"row_heading level0 row8\" >C9</th>\n",
              "                        <td id=\"T_05f7429e_4d61_11ea_a891_0242ac1c0002row8_col0\" class=\"data row8 col0\" >-0.023</td>\n",
              "                        <td id=\"T_05f7429e_4d61_11ea_a891_0242ac1c0002row8_col1\" class=\"data row8 col1\" >-0.3</td>\n",
              "                        <td id=\"T_05f7429e_4d61_11ea_a891_0242ac1c0002row8_col2\" class=\"data row8 col2\" >0.63</td>\n",
              "                        <td id=\"T_05f7429e_4d61_11ea_a891_0242ac1c0002row8_col3\" class=\"data row8 col3\" >-0.58</td>\n",
              "                        <td id=\"T_05f7429e_4d61_11ea_a891_0242ac1c0002row8_col4\" class=\"data row8 col4\" >-0.59</td>\n",
              "                        <td id=\"T_05f7429e_4d61_11ea_a891_0242ac1c0002row8_col5\" class=\"data row8 col5\" >0.0013</td>\n",
              "                        <td id=\"T_05f7429e_4d61_11ea_a891_0242ac1c0002row8_col6\" class=\"data row8 col6\" >-0.23</td>\n",
              "                        <td id=\"T_05f7429e_4d61_11ea_a891_0242ac1c0002row8_col7\" class=\"data row8 col7\" >-0.7</td>\n",
              "                        <td id=\"T_05f7429e_4d61_11ea_a891_0242ac1c0002row8_col8\" class=\"data row8 col8\" >1</td>\n",
              "                        <td id=\"T_05f7429e_4d61_11ea_a891_0242ac1c0002row8_col9\" class=\"data row8 col9\" >0.45</td>\n",
              "            </tr>\n",
              "            <tr>\n",
              "                        <th id=\"T_05f7429e_4d61_11ea_a891_0242ac1c0002level0_row9\" class=\"row_heading level0 row9\" >C10</th>\n",
              "                        <td id=\"T_05f7429e_4d61_11ea_a891_0242ac1c0002row9_col0\" class=\"data row9 col0\" >0.76</td>\n",
              "                        <td id=\"T_05f7429e_4d61_11ea_a891_0242ac1c0002row9_col1\" class=\"data row9 col1\" >0.43</td>\n",
              "                        <td id=\"T_05f7429e_4d61_11ea_a891_0242ac1c0002row9_col2\" class=\"data row9 col2\" >0.84</td>\n",
              "                        <td id=\"T_05f7429e_4d61_11ea_a891_0242ac1c0002row9_col3\" class=\"data row9 col3\" >-0.0021</td>\n",
              "                        <td id=\"T_05f7429e_4d61_11ea_a891_0242ac1c0002row9_col4\" class=\"data row9 col4\" >-0.78</td>\n",
              "                        <td id=\"T_05f7429e_4d61_11ea_a891_0242ac1c0002row9_col5\" class=\"data row9 col5\" >0.67</td>\n",
              "                        <td id=\"T_05f7429e_4d61_11ea_a891_0242ac1c0002row9_col6\" class=\"data row9 col6\" >0.66</td>\n",
              "                        <td id=\"T_05f7429e_4d61_11ea_a891_0242ac1c0002row9_col7\" class=\"data row9 col7\" >-0.039</td>\n",
              "                        <td id=\"T_05f7429e_4d61_11ea_a891_0242ac1c0002row9_col8\" class=\"data row9 col8\" >0.45</td>\n",
              "                        <td id=\"T_05f7429e_4d61_11ea_a891_0242ac1c0002row9_col9\" class=\"data row9 col9\" >1</td>\n",
              "            </tr>\n",
              "    </tbody></table>"
            ],
            "text/plain": [
              "<pandas.io.formats.style.Styler at 0x7f6699e52b38>"
            ]
          },
          "metadata": {
            "tags": []
          },
          "execution_count": 22
        },
        {
          "output_type": "display_data",
          "data": {
            "image/png": "[encoded data removed]",
            "text/plain": [
              "<Figure size 432x288 with 2 Axes>"
            ]
          },
          "metadata": {
            "tags": []
          }
        }
      ]
    },
    {
      "cell_type": "markdown",
      "metadata": {
        "id": "5glDvEya-c5E",
        "colab_type": "text"
      },
      "source": [
        "**Gaussian Naive Bayes**"
      ]
    },
    {
      "cell_type": "code",
      "metadata": {
        "id": "7TFP4hnlkQsV",
        "colab_type": "code",
        "colab": {}
      },
      "source": [
        "from sklearn.naive_bayes import GaussianNB\n",
        "gnb = GaussianNB()\n",
        "naiveBayes = gnb.fit(train, y_train)\n",
        "y_pred = naiveBayes.predict(test)"
      ],
      "execution_count": 0,
      "outputs": []
    },
    {
      "cell_type": "code",
      "metadata": {
        "id": "lhLjFCO_kfLR",
        "colab_type": "code",
        "outputId": "c5ce3b1e-6099-4552-c768-5ccc9a64b335",
        "colab": {
          "base_uri": "https://localhost:8080/",
          "height": 34
        }
      },
      "source": [
        "print(\"Accuracy = \" + str(100*accuracy_score(y_test, y_pred)) + \"%\")"
      ],
      "execution_count": 24,
      "outputs": [
        {
          "output_type": "stream",
          "text": [
            "Accuracy = 77.59740259740259%\n"
          ],
          "name": "stdout"
        }
      ]
    },
    {
      "cell_type": "code",
      "metadata": {
        "id": "GohjRj_1y7J0",
        "colab_type": "code",
        "outputId": "b7b647a3-4741-47ea-8e58-054f33426a64",
        "colab": {
          "base_uri": "https://localhost:8080/",
          "height": 296
        }
      },
      "source": [
        "from sklearn.metrics import roc_curve\n",
        "from sklearn.metrics import roc_auc_score\n",
        "from matplotlib import pyplot\n",
        "proba = naiveBayes.predict_proba(test)\n",
        "proba = proba[:,1]\n",
        "lr_fpr, lr_tpr, _ = roc_curve(y_test, proba)\n",
        "pyplot.plot(lr_fpr, lr_tpr, marker='.', label='Logistic')\n",
        "pyplot.xlabel('False Positive Rate')\n",
        "pyplot.ylabel('True Positive Rate')\n",
        "pyplot.show()\n",
        "roc_auc_score(y_test, proba)"
      ],
      "execution_count": 25,
      "outputs": [
        {
          "output_type": "display_data",
          "data": {
            "image/png": "[encoded data removed]",
            "text/plain": [
              "<Figure size 432x288 with 1 Axes>"
            ]
          },
          "metadata": {
            "tags": []
          }
        },
        {
          "output_type": "execute_result",
          "data": {
            "text/plain": [
              "0.6696671195652174"
            ]
          },
          "metadata": {
            "tags": []
          },
          "execution_count": 25
        }
      ]
    },
    {
      "cell_type": "code",
      "metadata": {
        "id": "vmOvYl1xkhlI",
        "colab_type": "code",
        "colab": {}
      },
      "source": [
        "test_reduced_nca = nca.transform(test)\n",
        "gnb = GaussianNB()\n",
        "naiveBayes = gnb.fit(train_reduced_nca, y_train)\n",
        "y_pred = naiveBayes.predict(test_reduced_nca)"
      ],
      "execution_count": 0,
      "outputs": []
    },
    {
      "cell_type": "code",
      "metadata": {
        "id": "kGmedj-5k1pJ",
        "colab_type": "code",
        "outputId": "d1f129db-c32b-43aa-ba64-280c6bb5a042",
        "colab": {
          "base_uri": "https://localhost:8080/",
          "height": 34
        }
      },
      "source": [
        "print(\"Accuracy = \" + str(100*accuracy_score(y_test, y_pred)) + \"%\")"
      ],
      "execution_count": 27,
      "outputs": [
        {
          "output_type": "stream",
          "text": [
            "Accuracy = 88.96103896103897%\n"
          ],
          "name": "stdout"
        }
      ]
    },
    {
      "cell_type": "code",
      "metadata": {
        "id": "OgHDJm28k236",
        "colab_type": "code",
        "outputId": "b3383b23-b7ff-4ce2-b077-ab0b6ae96c89",
        "colab": {
          "base_uri": "https://localhost:8080/",
          "height": 296
        }
      },
      "source": [
        "from sklearn.metrics import roc_curve\n",
        "from sklearn.metrics import roc_auc_score\n",
        "from matplotlib import pyplot\n",
        "proba = naiveBayes.predict_proba(test_reduced_nca)\n",
        "proba = proba[:,1]\n",
        "lr_fpr, lr_tpr, _ = roc_curve(y_test, proba)\n",
        "pyplot.plot(lr_fpr, lr_tpr, marker='.', label='Logistic')\n",
        "pyplot.xlabel('False Positive Rate')\n",
        "pyplot.ylabel('True Positive Rate')\n",
        "pyplot.show()\n",
        "roc_auc_score(y_test, proba)"
      ],
      "execution_count": 28,
      "outputs": [
        {
          "output_type": "display_data",
          "data": {
            "image/png": "[encoded data removed]",
            "text/plain": [
              "<Figure size 432x288 with 1 Axes>"
            ]
          },
          "metadata": {
            "tags": []
          }
        },
        {
          "output_type": "execute_result",
          "data": {
            "text/plain": [
              "0.6291893115942029"
            ]
          },
          "metadata": {
            "tags": []
          },
          "execution_count": 28
        }
      ]
    },
    {
      "cell_type": "markdown",
      "metadata": {
        "id": "pAKxAqCY-j8x",
        "colab_type": "text"
      },
      "source": [
        "**k-Nearest Neighbours**"
      ]
    },
    {
      "cell_type": "code",
      "metadata": {
        "id": "CH7G5YFrykWT",
        "colab_type": "code",
        "outputId": "b57cee98-07b0-4a77-ed6f-f1c8fdb54fbf",
        "colab": {
          "base_uri": "https://localhost:8080/",
          "height": 34
        }
      },
      "source": [
        "from sklearn.neighbors import KNeighborsClassifier\n",
        "neigh = KNeighborsClassifier(n_neighbors=3)\n",
        "neigh.fit(train_reduced_nca, y_train)\n",
        "y_pred = neigh.predict(test_reduced_nca)\n",
        "print(\"Accuracy = \" + str(100*accuracy_score(y_test, y_pred)) + \"%\")\n"
      ],
      "execution_count": 29,
      "outputs": [
        {
          "output_type": "stream",
          "text": [
            "Accuracy = 88.31168831168831%\n"
          ],
          "name": "stdout"
        }
      ]
    },
    {
      "cell_type": "code",
      "metadata": {
        "id": "ViYrNxlS0BLq",
        "colab_type": "code",
        "outputId": "37cada37-130f-4e3c-e172-11e1dd875d66",
        "colab": {
          "base_uri": "https://localhost:8080/",
          "height": 296
        }
      },
      "source": [
        "from sklearn.metrics import roc_curve\n",
        "from sklearn.metrics import roc_auc_score\n",
        "from matplotlib import pyplot\n",
        "proba = neigh.predict_proba(test_reduced_nca)\n",
        "proba = proba[:,1]\n",
        "lr_fpr, lr_tpr, _ = roc_curve(y_test, proba)\n",
        "pyplot.plot(lr_fpr, lr_tpr, marker='.', label='Logistic')\n",
        "pyplot.xlabel('False Positive Rate')\n",
        "pyplot.ylabel('True Positive Rate')\n",
        "pyplot.show()\n",
        "roc_auc_score(y_test, proba)"
      ],
      "execution_count": 30,
      "outputs": [
        {
          "output_type": "display_data",
          "data": {
            "image/png": "[encoded data removed]",
            "text/plain": [
              "<Figure size 432x288 with 1 Axes>"
            ]
          },
          "metadata": {
            "tags": []
          }
        },
        {
          "output_type": "execute_result",
          "data": {
            "text/plain": [
              "0.7389605978260869"
            ]
          },
          "metadata": {
            "tags": []
          },
          "execution_count": 30
        }
      ]
    },
    {
      "cell_type": "markdown",
      "metadata": {
        "id": "LvbgYLKA-tPJ",
        "colab_type": "text"
      },
      "source": [
        "**Random Forest**"
      ]
    },
    {
      "cell_type": "code",
      "metadata": {
        "id": "6PlubZqZ0DPV",
        "colab_type": "code",
        "colab": {}
      },
      "source": [
        "from sklearn.ensemble import RandomForestClassifier\n",
        "clf = RandomForestClassifier(max_depth = 50)\n",
        "clf.fit(train, y_train)\n",
        "y_pred = clf.predict(test)"
      ],
      "execution_count": 0,
      "outputs": []
    },
    {
      "cell_type": "code",
      "metadata": {
        "id": "PH5yqJzE5BNW",
        "colab_type": "code",
        "outputId": "358960dc-d0fd-427e-83c9-88ad91c2ce9c",
        "colab": {
          "base_uri": "https://localhost:8080/",
          "height": 34
        }
      },
      "source": [
        "print(\"Accuracy = \" + str(100*accuracy_score(y_test, y_pred)) + \"%\")\n"
      ],
      "execution_count": 32,
      "outputs": [
        {
          "output_type": "stream",
          "text": [
            "Accuracy = 89.93506493506493%\n"
          ],
          "name": "stdout"
        }
      ]
    },
    {
      "cell_type": "code",
      "metadata": {
        "id": "G2cvfC-_5EmU",
        "colab_type": "code",
        "outputId": "185de604-cc66-482d-ca2a-2d326230c534",
        "colab": {
          "base_uri": "https://localhost:8080/",
          "height": 296
        }
      },
      "source": [
        "from sklearn.metrics import roc_curve\n",
        "from sklearn.metrics import roc_auc_score\n",
        "from matplotlib import pyplot\n",
        "proba = clf.predict_proba(test)\n",
        "proba = proba[:,1]\n",
        "lr_fpr, lr_tpr, _ = roc_curve(y_test, proba)\n",
        "pyplot.plot(lr_fpr, lr_tpr, marker='.', label='Logistic')\n",
        "pyplot.xlabel('False Positive Rate')\n",
        "pyplot.ylabel('True Positive Rate')\n",
        "pyplot.show()\n",
        "roc_auc_score(y_test, proba)"
      ],
      "execution_count": 33,
      "outputs": [
        {
          "output_type": "display_data",
          "data": {
            "image/png": "[encoded data removed]",
            "text/plain": [
              "<Figure size 432x288 with 1 Axes>"
            ]
          },
          "metadata": {
            "tags": []
          }
        },
        {
          "output_type": "execute_result",
          "data": {
            "text/plain": [
              "0.8662392436594203"
            ]
          },
          "metadata": {
            "tags": []
          },
          "execution_count": 33
        }
      ]
    },
    {
      "cell_type": "code",
      "metadata": {
        "id": "P_GpGHdM5Mw9",
        "colab_type": "code",
        "colab": {}
      },
      "source": [
        "from sklearn.ensemble import RandomForestClassifier\n",
        "clf = RandomForestClassifier()\n",
        "clf.fit(train_reduced_nca, y_train)\n",
        "y_pred = clf.predict(test_reduced_nca)"
      ],
      "execution_count": 0,
      "outputs": []
    },
    {
      "cell_type": "code",
      "metadata": {
        "id": "OGWEWt2H5liy",
        "colab_type": "code",
        "outputId": "ab150a35-327e-4eb3-db03-5e37827fd403",
        "colab": {
          "base_uri": "https://localhost:8080/",
          "height": 34
        }
      },
      "source": [
        "print(\"Accuracy = \" + str(100*accuracy_score(y_test, y_pred)) + \"%\")\n"
      ],
      "execution_count": 35,
      "outputs": [
        {
          "output_type": "stream",
          "text": [
            "Accuracy = 88.47402597402598%\n"
          ],
          "name": "stdout"
        }
      ]
    },
    {
      "cell_type": "code",
      "metadata": {
        "id": "okJcibko5nlC",
        "colab_type": "code",
        "outputId": "749d556b-11a0-4eff-c319-884834e96062",
        "colab": {
          "base_uri": "https://localhost:8080/",
          "height": 296
        }
      },
      "source": [
        "from sklearn.metrics import roc_curve\n",
        "from sklearn.metrics import roc_auc_score\n",
        "from matplotlib import pyplot\n",
        "proba = clf.predict_proba(test_reduced_nca)\n",
        "proba = proba[:,1]\n",
        "lr_fpr, lr_tpr, _ = roc_curve(y_test, proba)\n",
        "pyplot.plot(lr_fpr, lr_tpr, marker='.', label='Logistic')\n",
        "pyplot.xlabel('False Positive Rate')\n",
        "pyplot.ylabel('True Positive Rate')\n",
        "pyplot.show()\n",
        "roc_auc_score(y_test, proba)"
      ],
      "execution_count": 36,
      "outputs": [
        {
          "output_type": "display_data",
          "data": {
            "image/png": "[encoded data removed]",
            "text/plain": [
              "<Figure size 432x288 with 1 Axes>"
            ]
          },
          "metadata": {
            "tags": []
          }
        },
        {
          "output_type": "execute_result",
          "data": {
            "text/plain": [
              "0.7965353260869564"
            ]
          },
          "metadata": {
            "tags": []
          },
          "execution_count": 36
        }
      ]
    },
    {
      "cell_type": "markdown",
      "metadata": {
        "id": "lGbZXS3RKpmj",
        "colab_type": "text"
      },
      "source": [
        "**Logistic Regression**"
      ]
    },
    {
      "cell_type": "code",
      "metadata": {
        "id": "T7GVx3xdF0ez",
        "colab_type": "code",
        "colab": {
          "base_uri": "https://localhost:8080/",
          "height": 459
        },
        "outputId": "5b735838-45cb-4be1-e1b6-f0f9db1edee3"
      },
      "source": [
        "from sklearn.linear_model import LogisticRegression\n",
        "logreg = LogisticRegression(random_state=0, class_weight = 'balanced', max_iter=10000000000).fit(train, y_train)\n",
        "y_pred = logreg.predict(test)\n",
        "print(y_pred)"
      ],
      "execution_count": 42,
      "outputs": [
        {
          "output_type": "stream",
          "text": [
            "[0. 0. 0. 0. 0. 1. 0. 0. 0. 0. 0. 1. 0. 0. 0. 0. 1. 0. 1. 0. 0. 0. 0. 0.\n",
            " 1. 0. 1. 0. 0. 1. 0. 0. 0. 0. 0. 1. 1. 0. 0. 0. 0. 1. 1. 0. 1. 0. 0. 0.\n",
            " 0. 1. 1. 0. 1. 0. 0. 1. 1. 0. 1. 1. 0. 1. 0. 0. 0. 0. 1. 1. 1. 1. 1. 1.\n",
            " 1. 0. 1. 1. 0. 1. 1. 1. 0. 0. 1. 0. 0. 0. 0. 1. 0. 1. 1. 0. 0. 1. 1. 0.\n",
            " 0. 1. 0. 0. 0. 1. 1. 0. 0. 1. 0. 1. 0. 1. 1. 0. 1. 0. 0. 0. 0. 0. 0. 1.\n",
            " 0. 0. 0. 0. 0. 0. 1. 1. 0. 1. 0. 1. 0. 0. 0. 0. 0. 0. 1. 0. 0. 0. 0. 1.\n",
            " 1. 1. 0. 1. 0. 1. 0. 1. 0. 0. 0. 0. 0. 0. 0. 1. 0. 0. 0. 1. 0. 1. 0. 0.\n",
            " 1. 1. 1. 0. 0. 0. 1. 1. 1. 1. 0. 0. 0. 0. 0. 1. 0. 1. 0. 0. 0. 0. 1. 0.\n",
            " 0. 0. 0. 1. 1. 1. 1. 1. 1. 0. 0. 1. 1. 0. 0. 1. 0. 0. 0. 0. 1. 1. 1. 1.\n",
            " 1. 0. 0. 1. 0. 0. 0. 0. 1. 0. 1. 0. 1. 0. 0. 1. 0. 0. 1. 1. 0. 0. 0. 0.\n",
            " 0. 0. 1. 0. 0. 1. 1. 1. 1. 0. 0. 0. 0. 1. 0. 0. 0. 1. 0. 1. 0. 0. 0. 0.\n",
            " 1. 1. 1. 1. 0. 0. 0. 0. 1. 0. 0. 0. 0. 1. 0. 1. 0. 0. 1. 1. 0. 1. 1. 1.\n",
            " 0. 1. 1. 0. 0. 0. 0. 0. 1. 0. 0. 1. 0. 1. 0. 0. 1. 1. 1. 1. 0. 1. 0. 0.\n",
            " 0. 0. 0. 1. 0. 0. 0. 1. 1. 0. 1. 0. 1. 0. 1. 0. 0. 1. 0. 0. 0. 1. 0. 0.\n",
            " 0. 1. 1. 0. 1. 1. 1. 1. 0. 0. 0. 1. 1. 0. 1. 1. 0. 1. 1. 0. 0. 0. 0. 1.\n",
            " 1. 1. 1. 0. 1. 0. 1. 0. 1. 0. 0. 0. 0. 0. 1. 0. 1. 0. 1. 0. 0. 0. 0. 1.\n",
            " 1. 1. 0. 0. 1. 0. 0. 1. 0. 1. 1. 0. 1. 0. 0. 1. 0. 0. 0. 0. 0. 1. 1. 0.\n",
            " 1. 0. 1. 0. 0. 0. 1. 1. 1. 0. 0. 0. 0. 0. 0. 0. 1. 0. 0. 0. 0. 0. 1. 0.\n",
            " 0. 0. 0. 1. 1. 0. 0. 0. 1. 1. 0. 0. 1. 1. 1. 0. 1. 1. 0. 0. 1. 1. 1. 0.\n",
            " 1. 0. 0. 1. 1. 1. 0. 1. 0. 1. 0. 0. 0. 1. 1. 1. 0. 0. 1. 0. 0. 1. 0. 0.\n",
            " 1. 0. 0. 0. 0. 0. 1. 1. 1. 0. 0. 0. 0. 0. 0. 1. 0. 0. 1. 0. 0. 1. 0. 0.\n",
            " 1. 0. 0. 0. 1. 0. 1. 0. 0. 1. 0. 1. 1. 1. 0. 1. 0. 0. 0. 1. 0. 0. 0. 0.\n",
            " 0. 1. 0. 0. 0. 0. 0. 1. 1. 1. 0. 0. 1. 0. 0. 0. 1. 1. 0. 0. 1. 1. 0. 0.\n",
            " 1. 1. 1. 0. 1. 1. 1. 0. 1. 0. 0. 1. 0. 0. 0. 0. 0. 0. 0. 0. 1. 0. 1. 0.\n",
            " 0. 0. 0. 0. 0. 1. 0. 0. 1. 0. 0. 0. 1. 0. 1. 0. 0. 0. 0. 0. 1. 1. 0. 1.\n",
            " 0. 1. 0. 0. 1. 1. 0. 0. 0. 0. 0. 0. 0. 1. 0. 0.]\n"
          ],
          "name": "stdout"
        }
      ]
    },
    {
      "cell_type": "code",
      "metadata": {
        "id": "abV2VOZyKswd",
        "colab_type": "code",
        "colab": {
          "base_uri": "https://localhost:8080/",
          "height": 313
        },
        "outputId": "a2e7fa7d-37ce-4d4d-8a35-3cb0b6f44322"
      },
      "source": [
        "from sklearn.metrics import accuracy_score\n",
        "print(\"Accuracy = \" + str(100*accuracy_score(y_test, y_pred)) + \"%\")\n",
        "from sklearn.metrics import roc_curve\n",
        "from sklearn.metrics import roc_auc_score\n",
        "from matplotlib import pyplot\n",
        "proba = logreg.predict_proba(test)\n",
        "proba = proba[:,1]\n",
        "lr_fpr, lr_tpr, _ = roc_curve(y_test, proba)\n",
        "pyplot.plot(lr_fpr, lr_tpr, marker='.', label='Logistic')\n",
        "pyplot.xlabel('False Positive Rate')\n",
        "pyplot.ylabel('True Positive Rate')\n",
        "pyplot.show()\n",
        "roc_auc_score(y_test, proba)"
      ],
      "execution_count": 43,
      "outputs": [
        {
          "output_type": "stream",
          "text": [
            "Accuracy = 64.12337662337663%\n"
          ],
          "name": "stdout"
        },
        {
          "output_type": "display_data",
          "data": {
            "image/png": "[encoded data removed]",
            "text/plain": [
              "<Figure size 432x288 with 1 Axes>"
            ]
          },
          "metadata": {
            "tags": []
          }
        },
        {
          "output_type": "execute_result",
          "data": {
            "text/plain": [
              "0.7076539855072463"
            ]
          },
          "metadata": {
            "tags": []
          },
          "execution_count": 43
        }
      ]
    },
    {
      "cell_type": "code",
      "metadata": {
        "id": "OQeDs4OuKvY4",
        "colab_type": "code",
        "colab": {
          "base_uri": "https://localhost:8080/",
          "height": 313
        },
        "outputId": "f8e8d94d-c4cb-4f07-96ba-e13fd32b44c5"
      },
      "source": [
        "logreg = LogisticRegression(random_state=0, class_weight = 'balanced', max_iter=1000000000).fit(train_reduced, y_train)\n",
        "y_pred = logreg.predict(test_reduced)\n",
        "\n",
        "from sklearn.metrics import accuracy_score\n",
        "print(\"Accuracy = \" + str(100*accuracy_score(y_test, y_pred)) + \"%\")\n",
        "from sklearn.metrics import roc_curve\n",
        "from sklearn.metrics import roc_auc_score\n",
        "from matplotlib import pyplot\n",
        "proba = logreg.predict_proba(test_reduced)\n",
        "proba = proba[:,1]\n",
        "lr_fpr, lr_tpr, _ = roc_curve(y_test, proba)\n",
        "pyplot.plot(lr_fpr, lr_tpr, marker='.', label='Logistic')\n",
        "pyplot.xlabel('False Positive Rate')\n",
        "pyplot.ylabel('True Positive Rate')\n",
        "pyplot.show()\n",
        "roc_auc_score(y_test, proba)"
      ],
      "execution_count": 44,
      "outputs": [
        {
          "output_type": "stream",
          "text": [
            "Accuracy = 62.66233766233766%\n"
          ],
          "name": "stdout"
        },
        {
          "output_type": "display_data",
          "data": {
            "image/png": "[encoded data removed]",
            "text/plain": [
              "<Figure size 432x288 with 1 Axes>"
            ]
          },
          "metadata": {
            "tags": []
          }
        },
        {
          "output_type": "execute_result",
          "data": {
            "text/plain": [
              "0.6661005434782609"
            ]
          },
          "metadata": {
            "tags": []
          },
          "execution_count": 44
        }
      ]
    },
    {
      "cell_type": "code",
      "metadata": {
        "id": "VYtm2eS7LMm2",
        "colab_type": "code",
        "colab": {
          "base_uri": "https://localhost:8080/",
          "height": 313
        },
        "outputId": "d94ebbb6-0c65-4c9e-f2ec-18fe9a3f67f0"
      },
      "source": [
        "logreg = LogisticRegression(random_state=0, class_weight = 'balanced', max_iter=1000000000).fit(train_reduced_nca, y_train)\n",
        "y_pred = logreg.predict(test_reduced_nca)\n",
        "\n",
        "from sklearn.metrics import accuracy_score\n",
        "print(\"Accuracy = \" + str(100*accuracy_score(y_test, y_pred)) + \"%\")\n",
        "from sklearn.metrics import roc_curve\n",
        "from sklearn.metrics import roc_auc_score\n",
        "from matplotlib import pyplot\n",
        "proba = logreg.predict_proba(test_reduced_nca)\n",
        "proba = proba[:,1]\n",
        "lr_fpr, lr_tpr, _ = roc_curve(y_test, proba)\n",
        "pyplot.plot(lr_fpr, lr_tpr, marker='.', label='Logistic')\n",
        "pyplot.xlabel('False Positive Rate')\n",
        "pyplot.ylabel('True Positive Rate')\n",
        "pyplot.show()\n",
        "roc_auc_score(y_test, proba)"
      ],
      "execution_count": 45,
      "outputs": [
        {
          "output_type": "stream",
          "text": [
            "Accuracy = 65.25974025974025%\n"
          ],
          "name": "stdout"
        },
        {
          "output_type": "display_data",
          "data": {
            "image/png": "[encoded data removed]",
            "text/plain": [
              "<Figure size 432x288 with 1 Axes>"
            ]
          },
          "metadata": {
            "tags": []
          }
        },
        {
          "output_type": "execute_result",
          "data": {
            "text/plain": [
              "0.6770550271739131"
            ]
          },
          "metadata": {
            "tags": []
          },
          "execution_count": 45
        }
      ]
    },
    {
      "cell_type": "code",
      "metadata": {
        "id": "LMPAqkRtLo9D",
        "colab_type": "code",
        "colab": {}
      },
      "source": [
        ""
      ],
      "execution_count": 0,
      "outputs": []
    }
  ]
}